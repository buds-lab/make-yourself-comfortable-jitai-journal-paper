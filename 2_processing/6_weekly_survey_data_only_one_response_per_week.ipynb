{
 "cells": [
  {
   "cell_type": "markdown",
   "metadata": {},
   "source": [
    "# Add 'No response provided' to missing answers of weekly survey\n",
    " - Author: Mario Frei, 2025"
   ]
  },
  {
   "cell_type": "markdown",
   "metadata": {},
   "source": [
    "## Imports"
   ]
  },
  {
   "cell_type": "code",
   "execution_count": 20,
   "metadata": {},
   "outputs": [],
   "source": [
    "import pandas as pd\n",
    "import plotly.graph_objects as go\n",
    "from plotly.subplots import make_subplots\n",
    "import plotly.colors as pc"
   ]
  },
  {
   "cell_type": "markdown",
   "metadata": {},
   "source": [
    "## Configurations"
   ]
  },
  {
   "cell_type": "code",
   "execution_count": 21,
   "metadata": {},
   "outputs": [],
   "source": [
    "weekly_survey_path = '../2_processing/5_weekly_survey_with_personality_no_nan.csv'"
   ]
  },
  {
   "cell_type": "markdown",
   "metadata": {},
   "source": [
    "## Read and visualize data"
   ]
  },
  {
   "cell_type": "code",
   "execution_count": 22,
   "metadata": {},
   "outputs": [
    {
     "data": {
      "text/html": [
       "<div>\n",
       "<style scoped>\n",
       "    .dataframe tbody tr th:only-of-type {\n",
       "        vertical-align: middle;\n",
       "    }\n",
       "\n",
       "    .dataframe tbody tr th {\n",
       "        vertical-align: top;\n",
       "    }\n",
       "\n",
       "    .dataframe thead th {\n",
       "        text-align: right;\n",
       "    }\n",
       "</style>\n",
       "<table border=\"1\" class=\"dataframe\">\n",
       "  <thead>\n",
       "    <tr style=\"text-align: right;\">\n",
       "      <th></th>\n",
       "      <th>id_participant</th>\n",
       "      <th>timestamp</th>\n",
       "      <th>This app is easy to use.</th>\n",
       "      <th>How often do you wear your watch in a week?</th>\n",
       "      <th>The notifications on the watch were annoying.</th>\n",
       "      <th>The notifications on the phone were annoying.</th>\n",
       "      <th>I answered the the question on the watch honestly.</th>\n",
       "      <th>The Cozie app feels fast and responsive.</th>\n",
       "      <th>The notifications helped to change my mind.</th>\n",
       "      <th>I changed my location after seeing the notifications.</th>\n",
       "      <th>...</th>\n",
       "      <th>Over the past week, I put on my earphones to mitigate noise distractions after receiving the noise intervention messages.</th>\n",
       "      <th>Over the past week, I changed my location, adjusted the thermostat, fan etc. to feel thermally comfortable after receiving the temperature intervention messages.</th>\n",
       "      <th>The intervention messages were annoying.</th>\n",
       "      <th>Extraversion</th>\n",
       "      <th>Agreeableness</th>\n",
       "      <th>Conscientiousness</th>\n",
       "      <th>Emotional Stability</th>\n",
       "      <th>Openness to Experience</th>\n",
       "      <th>swls</th>\n",
       "      <th>sensitivity</th>\n",
       "    </tr>\n",
       "  </thead>\n",
       "  <tbody>\n",
       "    <tr>\n",
       "      <th>0</th>\n",
       "      <td>orenth01</td>\n",
       "      <td>2022-10-10 14:22:56.671000+00:00</td>\n",
       "      <td>Strongly disagree</td>\n",
       "      <td>40-50 hours</td>\n",
       "      <td>Neutral</td>\n",
       "      <td>Neutral</td>\n",
       "      <td>Strongly disagree</td>\n",
       "      <td>Strongly disagree</td>\n",
       "      <td>Somewhat agree</td>\n",
       "      <td>Very rarely</td>\n",
       "      <td>...</td>\n",
       "      <td>No response</td>\n",
       "      <td>No response</td>\n",
       "      <td>No response</td>\n",
       "      <td>3.5</td>\n",
       "      <td>6.0</td>\n",
       "      <td>3.0</td>\n",
       "      <td>5.5</td>\n",
       "      <td>3.0</td>\n",
       "      <td>22</td>\n",
       "      <td>4.250000</td>\n",
       "    </tr>\n",
       "    <tr>\n",
       "      <th>1</th>\n",
       "      <td>orenth01</td>\n",
       "      <td>2022-10-20 01:44:32.965000+00:00</td>\n",
       "      <td>Strongly disagree</td>\n",
       "      <td>&gt;50 hours</td>\n",
       "      <td>Strongly disagree</td>\n",
       "      <td>Strongly disagree</td>\n",
       "      <td>Strongly disagree</td>\n",
       "      <td>Agree</td>\n",
       "      <td>Agree</td>\n",
       "      <td>Rarely</td>\n",
       "      <td>...</td>\n",
       "      <td>No response</td>\n",
       "      <td>No response</td>\n",
       "      <td>No response</td>\n",
       "      <td>3.5</td>\n",
       "      <td>6.0</td>\n",
       "      <td>3.0</td>\n",
       "      <td>5.5</td>\n",
       "      <td>3.0</td>\n",
       "      <td>22</td>\n",
       "      <td>4.250000</td>\n",
       "    </tr>\n",
       "    <tr>\n",
       "      <th>2</th>\n",
       "      <td>orenth01</td>\n",
       "      <td>2022-10-26 07:31:27.555000+00:00</td>\n",
       "      <td>Neutral</td>\n",
       "      <td>&gt;50 hours</td>\n",
       "      <td>Agree</td>\n",
       "      <td>Agree</td>\n",
       "      <td>Strong Agree</td>\n",
       "      <td>Agree</td>\n",
       "      <td>Agree</td>\n",
       "      <td>Occasionally</td>\n",
       "      <td>...</td>\n",
       "      <td>No response</td>\n",
       "      <td>No response</td>\n",
       "      <td>No response</td>\n",
       "      <td>3.5</td>\n",
       "      <td>6.0</td>\n",
       "      <td>3.0</td>\n",
       "      <td>5.5</td>\n",
       "      <td>3.0</td>\n",
       "      <td>22</td>\n",
       "      <td>4.250000</td>\n",
       "    </tr>\n",
       "    <tr>\n",
       "      <th>3</th>\n",
       "      <td>orenth02</td>\n",
       "      <td>2022-10-12 01:13:47.044000+00:00</td>\n",
       "      <td>Agree</td>\n",
       "      <td>10-20 hours</td>\n",
       "      <td>Disagree</td>\n",
       "      <td>Neutral</td>\n",
       "      <td>Strong Agree</td>\n",
       "      <td>Agree</td>\n",
       "      <td>Agree</td>\n",
       "      <td>Rarely</td>\n",
       "      <td>...</td>\n",
       "      <td>No response</td>\n",
       "      <td>No response</td>\n",
       "      <td>No response</td>\n",
       "      <td>4.5</td>\n",
       "      <td>3.5</td>\n",
       "      <td>5.0</td>\n",
       "      <td>5.5</td>\n",
       "      <td>4.0</td>\n",
       "      <td>26</td>\n",
       "      <td>4.666667</td>\n",
       "    </tr>\n",
       "    <tr>\n",
       "      <th>4</th>\n",
       "      <td>orenth02</td>\n",
       "      <td>2022-10-17 01:01:01.540000+00:00</td>\n",
       "      <td>Strong Agree</td>\n",
       "      <td>&lt;10 hours</td>\n",
       "      <td>Disagree</td>\n",
       "      <td>Neutral</td>\n",
       "      <td>Agree</td>\n",
       "      <td>Agree</td>\n",
       "      <td>Agree</td>\n",
       "      <td>Occasionally</td>\n",
       "      <td>...</td>\n",
       "      <td>No response</td>\n",
       "      <td>No response</td>\n",
       "      <td>No response</td>\n",
       "      <td>4.5</td>\n",
       "      <td>3.5</td>\n",
       "      <td>5.0</td>\n",
       "      <td>5.5</td>\n",
       "      <td>4.0</td>\n",
       "      <td>26</td>\n",
       "      <td>4.666667</td>\n",
       "    </tr>\n",
       "  </tbody>\n",
       "</table>\n",
       "<p>5 rows × 25 columns</p>\n",
       "</div>"
      ],
      "text/plain": [
       "  id_participant                         timestamp This app is easy to use.  \\\n",
       "0       orenth01  2022-10-10 14:22:56.671000+00:00        Strongly disagree   \n",
       "1       orenth01  2022-10-20 01:44:32.965000+00:00        Strongly disagree   \n",
       "2       orenth01  2022-10-26 07:31:27.555000+00:00                  Neutral   \n",
       "3       orenth02  2022-10-12 01:13:47.044000+00:00                    Agree   \n",
       "4       orenth02  2022-10-17 01:01:01.540000+00:00             Strong Agree   \n",
       "\n",
       "  How often do you wear your watch in a week?  \\\n",
       "0                                 40-50 hours   \n",
       "1                                   >50 hours   \n",
       "2                                   >50 hours   \n",
       "3                                 10-20 hours   \n",
       "4                                   <10 hours   \n",
       "\n",
       "  The notifications on the watch were annoying.  \\\n",
       "0                                       Neutral   \n",
       "1                             Strongly disagree   \n",
       "2                                         Agree   \n",
       "3                                      Disagree   \n",
       "4                                      Disagree   \n",
       "\n",
       "  The notifications on the phone were annoying.  \\\n",
       "0                                       Neutral   \n",
       "1                             Strongly disagree   \n",
       "2                                         Agree   \n",
       "3                                       Neutral   \n",
       "4                                       Neutral   \n",
       "\n",
       "  I answered the the question on the watch honestly.  \\\n",
       "0                                  Strongly disagree   \n",
       "1                                  Strongly disagree   \n",
       "2                                       Strong Agree   \n",
       "3                                       Strong Agree   \n",
       "4                                              Agree   \n",
       "\n",
       "  The Cozie app feels fast and responsive.  \\\n",
       "0                        Strongly disagree   \n",
       "1                                    Agree   \n",
       "2                                    Agree   \n",
       "3                                    Agree   \n",
       "4                                    Agree   \n",
       "\n",
       "  The notifications helped to change my mind.  \\\n",
       "0                              Somewhat agree   \n",
       "1                                       Agree   \n",
       "2                                       Agree   \n",
       "3                                       Agree   \n",
       "4                                       Agree   \n",
       "\n",
       "  I changed my location after seeing the notifications.  ...  \\\n",
       "0                                        Very rarely     ...   \n",
       "1                                             Rarely     ...   \n",
       "2                                       Occasionally     ...   \n",
       "3                                             Rarely     ...   \n",
       "4                                       Occasionally     ...   \n",
       "\n",
       "  Over the past week, I put on my earphones to mitigate noise distractions after receiving the noise intervention messages.  \\\n",
       "0                                        No response                                                                          \n",
       "1                                        No response                                                                          \n",
       "2                                        No response                                                                          \n",
       "3                                        No response                                                                          \n",
       "4                                        No response                                                                          \n",
       "\n",
       "  Over the past week, I changed my location, adjusted the thermostat, fan etc. to feel thermally comfortable after receiving the temperature intervention messages.  \\\n",
       "0                                        No response                                                                                                                  \n",
       "1                                        No response                                                                                                                  \n",
       "2                                        No response                                                                                                                  \n",
       "3                                        No response                                                                                                                  \n",
       "4                                        No response                                                                                                                  \n",
       "\n",
       "  The intervention messages were annoying. Extraversion Agreeableness  \\\n",
       "0                              No response          3.5           6.0   \n",
       "1                              No response          3.5           6.0   \n",
       "2                              No response          3.5           6.0   \n",
       "3                              No response          4.5           3.5   \n",
       "4                              No response          4.5           3.5   \n",
       "\n",
       "  Conscientiousness Emotional Stability Openness to Experience  swls  \\\n",
       "0               3.0                 5.5                    3.0    22   \n",
       "1               3.0                 5.5                    3.0    22   \n",
       "2               3.0                 5.5                    3.0    22   \n",
       "3               5.0                 5.5                    4.0    26   \n",
       "4               5.0                 5.5                    4.0    26   \n",
       "\n",
       "   sensitivity  \n",
       "0     4.250000  \n",
       "1     4.250000  \n",
       "2     4.250000  \n",
       "3     4.666667  \n",
       "4     4.666667  \n",
       "\n",
       "[5 rows x 25 columns]"
      ]
     },
     "execution_count": 22,
     "metadata": {},
     "output_type": "execute_result"
    }
   ],
   "source": [
    "# Read data\n",
    "df = pd.read_csv(weekly_survey_path)\n",
    "\n",
    "# Save data\n",
    "df.head()"
   ]
  },
  {
   "cell_type": "markdown",
   "metadata": {},
   "source": [
    "## Process data"
   ]
  },
  {
   "cell_type": "code",
   "execution_count": 23,
   "metadata": {},
   "outputs": [
    {
     "name": "stdout",
     "output_type": "stream",
     "text": [
      "################################################################\n",
      " Start new check\n",
      "  id_participant                        timestamp   dt_days\n",
      "0       orenth01 2022-10-10 14:22:56.671000+00:00  7.000000\n",
      "1       orenth01 2022-10-20 01:44:32.965000+00:00  9.473337\n",
      "2       orenth01 2022-10-26 07:31:27.555000+00:00  6.240910\n",
      "   0  Keep this row\n",
      "   1  Keep this row\n",
      "   2  Keep this row\n",
      " \n",
      "################################################################\n",
      " Start new check\n",
      "  id_participant                        timestamp   dt_days\n",
      "3       orenth02 2022-10-12 01:13:47.044000+00:00  7.000000\n",
      "4       orenth02 2022-10-17 01:01:01.540000+00:00  4.991140\n",
      "5       orenth02 2022-10-18 04:00:47.730000+00:00  1.124840\n",
      "6       orenth02 2022-10-25 04:01:38.304000+00:00  7.000585\n",
      "7       orenth02 2022-10-31 04:03:46.410000+00:00  6.001483\n",
      "8       orenth02 2022-10-31 04:04:13.499000+00:00  0.000314\n",
      "   3  Keep this row\n",
      "   4  Keep this row\n",
      "   5  Do not add this row\n",
      "   6  Add remaining rows\n",
      "   7  Add remaining rows\n",
      "   8  Add remaining rows\n",
      " \n",
      " Start new check\n",
      "  id_participant                        timestamp   dt_days\n",
      "3       orenth02 2022-10-12 01:13:47.044000+00:00  7.000000\n",
      "4       orenth02 2022-10-17 01:01:01.540000+00:00  4.991140\n",
      "6       orenth02 2022-10-25 04:01:38.304000+00:00  8.125426\n",
      "7       orenth02 2022-10-31 04:03:46.410000+00:00  6.001483\n",
      "8       orenth02 2022-10-31 04:04:13.499000+00:00  0.000314\n",
      "   3  Keep this row\n",
      "   4  Keep this row\n",
      "   6  Keep this row\n",
      "   7  Keep this row\n",
      "   8  Do not add this row\n",
      " \n",
      " Start new check\n",
      "  id_participant                        timestamp   dt_days\n",
      "3       orenth02 2022-10-12 01:13:47.044000+00:00  7.000000\n",
      "4       orenth02 2022-10-17 01:01:01.540000+00:00  4.991140\n",
      "6       orenth02 2022-10-25 04:01:38.304000+00:00  8.125426\n",
      "7       orenth02 2022-10-31 04:03:46.410000+00:00  6.001483\n",
      "   3  Keep this row\n",
      "   4  Keep this row\n",
      "   6  Keep this row\n",
      "   7  Keep this row\n",
      " \n",
      "################################################################\n",
      " Start new check\n",
      "   id_participant                        timestamp   dt_days\n",
      "9        orenth03 2022-10-10 11:00:02.929000+00:00  7.000000\n",
      "10       orenth03 2022-10-20 05:58:23.456000+00:00  9.790515\n",
      "11       orenth03 2022-10-26 07:37:07.770000+00:00  6.068568\n",
      "   9  Keep this row\n",
      "   10  Keep this row\n",
      "   11  Keep this row\n",
      " \n",
      "################################################################\n",
      " Start new check\n",
      "   id_participant                        timestamp    dt_days\n",
      "12       orenth04 2022-10-12 03:44:37.217000+00:00   7.000000\n",
      "13       orenth04 2022-10-23 04:29:12.833000+00:00  11.030968\n",
      "14       orenth04 2022-11-03 10:06:18.638000+00:00  11.234095\n",
      "   12  Keep this row\n",
      "   13  Keep this row\n",
      "   14  Keep this row\n",
      " \n",
      "################################################################\n",
      " Start new check\n",
      "   id_participant                        timestamp   dt_days\n",
      "15       orenth05 2022-10-23 11:00:11.359000+00:00  7.000000\n",
      "16       orenth05 2022-10-29 16:12:29.548000+00:00  6.216877\n",
      "17       orenth05 2022-11-04 10:43:44.313000+00:00  5.771699\n",
      "18       orenth05 2022-11-13 13:18:00.918000+00:00  9.107137\n",
      "   15  Keep this row\n",
      "   16  Keep this row\n",
      "   17  Keep this row\n",
      "   18  Keep this row\n",
      " \n",
      "################################################################\n",
      " Start new check\n",
      "   id_participant                        timestamp   dt_days\n",
      "19       orenth06 2022-10-20 01:44:14.293000+00:00  7.000000\n",
      "20       orenth06 2022-10-26 06:14:13.537000+00:00  6.187491\n",
      "21       orenth06 2022-11-02 01:14:33.271000+00:00  6.791895\n",
      "   19  Keep this row\n",
      "   20  Keep this row\n",
      "   21  Keep this row\n",
      " \n",
      "################################################################\n",
      " Start new check\n",
      "   id_participant                        timestamp   dt_days\n",
      "22       orenth07 2022-10-20 02:03:03.913000+00:00  7.000000\n",
      "23       orenth07 2022-10-26 07:13:22.249000+00:00  6.215490\n",
      "24       orenth07 2022-11-03 04:25:29.545000+00:00  7.883418\n",
      "   22  Keep this row\n",
      "   23  Keep this row\n",
      "   24  Keep this row\n",
      " \n",
      "################################################################\n",
      " Start new check\n",
      "   id_participant                        timestamp   dt_days\n",
      "25       orenth08 2022-10-27 09:11:54.515000+00:00  7.000000\n",
      "26       orenth08 2022-11-02 08:56:25.105000+00:00  5.989243\n",
      "27       orenth08 2022-11-09 07:17:33.704000+00:00  6.931350\n",
      "28       orenth08 2022-11-18 09:41:03.523000+00:00  9.099651\n",
      "   25  Keep this row\n",
      "   26  Keep this row\n",
      "   27  Keep this row\n",
      "   28  Keep this row\n",
      " \n",
      "################################################################\n",
      " Start new check\n",
      "   id_participant                        timestamp    dt_days\n",
      "29       orenth09 2022-10-24 03:38:53.018000+00:00   7.000000\n",
      "30       orenth09 2022-11-01 02:44:42.532000+00:00   7.962379\n",
      "31       orenth09 2022-11-21 15:04:33.205000+00:00  20.513781\n",
      "   29  Keep this row\n",
      "   30  Keep this row\n",
      "   31  Keep this row\n",
      " \n",
      "################################################################\n",
      " Start new check\n",
      "   id_participant                        timestamp   dt_days\n",
      "32       orenth10 2022-11-02 00:37:03.639000+00:00  7.000000\n",
      "33       orenth10 2022-11-08 10:20:36.154000+00:00  6.405237\n",
      "  Only two responses, keep all\n",
      "################################################################\n",
      " Start new check\n",
      "   id_participant                        timestamp   dt_days\n",
      "34       orenth11 2022-11-02 01:17:25.145000+00:00  7.000000\n",
      "35       orenth11 2022-11-09 01:14:18.013000+00:00  6.997834\n",
      "  Only two responses, keep all\n",
      "################################################################\n",
      " Start new check\n",
      "   id_participant                        timestamp   dt_days\n",
      "36       orenth12 2022-11-18 04:45:36.119000+00:00  7.000000\n",
      "37       orenth12 2022-11-23 01:14:35.141000+00:00  4.853461\n",
      "38       orenth12 2022-11-25 05:09:51.624000+00:00  2.163385\n",
      "39       orenth12 2022-11-29 14:05:23.043000+00:00  4.371891\n",
      "   36  Keep this row\n",
      "   37  Keep this row\n",
      "   38  Do not add this row\n",
      "   39  Add remaining rows\n",
      " \n",
      " Start new check\n",
      "   id_participant                        timestamp   dt_days\n",
      "36       orenth12 2022-11-18 04:45:36.119000+00:00  7.000000\n",
      "37       orenth12 2022-11-23 01:14:35.141000+00:00  4.853461\n",
      "39       orenth12 2022-11-29 14:05:23.043000+00:00  6.535277\n",
      "   36  Keep this row\n",
      "   37  Keep this row\n",
      "   39  Keep this row\n",
      " \n",
      "################################################################\n",
      " Start new check\n",
      "   id_participant                        timestamp   dt_days\n",
      "40       orenth13 2022-11-07 14:56:39.260000+00:00  7.000000\n",
      "41       orenth13 2022-11-14 02:25:55.359000+00:00  6.478659\n",
      "42       orenth13 2022-11-21 08:43:48.911000+00:00  7.262425\n",
      "   40  Keep this row\n",
      "   41  Keep this row\n",
      "   42  Keep this row\n",
      " \n",
      "################################################################\n",
      " Start new check\n",
      "   id_participant                        timestamp   dt_days\n",
      "43       orenth14 2022-11-02 03:57:20.922000+00:00  7.000000\n",
      "44       orenth14 2022-11-09 07:12:55.693000+00:00  7.135819\n",
      "45       orenth14 2022-11-18 06:57:55.521000+00:00  8.989581\n",
      "46       orenth14 2022-11-20 04:19:52.924000+00:00  1.890248\n",
      "47       orenth14 2022-11-26 10:14:10.774000+00:00  6.246040\n",
      "   43  Keep this row\n",
      "   44  Keep this row\n",
      "   45  Keep this row\n",
      "   46  Do not add this row\n",
      "   47  Add remaining rows\n",
      " \n",
      " Start new check\n",
      "   id_participant                        timestamp   dt_days\n",
      "43       orenth14 2022-11-02 03:57:20.922000+00:00  7.000000\n",
      "44       orenth14 2022-11-09 07:12:55.693000+00:00  7.135819\n",
      "45       orenth14 2022-11-18 06:57:55.521000+00:00  8.989581\n",
      "47       orenth14 2022-11-26 10:14:10.774000+00:00  8.136288\n",
      "   43  Keep this row\n",
      "   44  Keep this row\n",
      "   45  Keep this row\n",
      "   47  Keep this row\n",
      " \n",
      "################################################################\n",
      " Start new check\n",
      "   id_participant                        timestamp   dt_days\n",
      "48       orenth15 2022-11-04 06:42:02.149000+00:00  7.000000\n",
      "49       orenth15 2022-11-10 01:32:41.243000+00:00  5.785175\n",
      "50       orenth15 2022-11-18 13:51:46.545000+00:00  8.513256\n",
      "51       orenth15 2022-11-25 16:47:46.748000+00:00  7.122225\n",
      "52       orenth15 2022-11-30 07:01:14.398000+00:00  4.592681\n",
      "   48  Keep this row\n",
      "   49  Keep this row\n",
      "   50  Keep this row\n",
      "   51  Keep this row\n",
      "   52  Keep this row\n",
      " \n",
      "################################################################\n",
      " Start new check\n",
      "   id_participant                        timestamp   dt_days\n",
      "53       orenth16 2022-11-02 08:40:51.988000+00:00  7.000000\n",
      "54       orenth16 2022-11-10 07:31:23.289000+00:00  7.951751\n",
      "55       orenth16 2022-11-16 10:00:54.628000+00:00  6.103835\n",
      "56       orenth16 2022-11-24 12:27:21.963000+00:00  8.101705\n",
      "57       orenth16 2022-11-30 07:04:47.484000+00:00  5.775990\n",
      "   53  Keep this row\n",
      "   54  Keep this row\n",
      "   55  Keep this row\n",
      "   56  Keep this row\n",
      "   57  Keep this row\n",
      " \n",
      "################################################################\n",
      " Start new check\n",
      "   id_participant                        timestamp   dt_days\n",
      "58       orenth17 2022-11-11 16:40:40.319000+00:00  7.000000\n",
      "59       orenth17 2022-11-18 02:02:37.870000+00:00  6.390249\n",
      "60       orenth17 2022-11-25 07:32:18.897000+00:00  7.228947\n",
      "   58  Keep this row\n",
      "   59  Keep this row\n",
      "   60  Keep this row\n",
      " \n",
      "################################################################\n",
      " Start new check\n",
      "   id_participant                        timestamp   dt_days\n",
      "61       orenth18 2022-11-11 08:00:57.503000+00:00  7.000000\n",
      "62       orenth18 2022-11-18 08:01:54.907000+00:00  7.000664\n",
      "63       orenth18 2022-11-25 01:15:27.548000+00:00  6.717739\n",
      "64       orenth18 2022-11-29 13:23:14.762000+00:00  4.505408\n",
      "   61  Keep this row\n",
      "   62  Keep this row\n",
      "   63  Keep this row\n",
      "   64  Keep this row\n",
      " \n",
      "################################################################\n",
      " Start new check\n",
      "   id_participant                        timestamp   dt_days\n",
      "65       orenth19 2022-11-09 01:16:44.302000+00:00  7.000000\n",
      "66       orenth19 2022-11-16 01:16:21.086000+00:00  6.999731\n",
      "67       orenth19 2022-11-23 01:15:51.064000+00:00  6.999653\n",
      "68       orenth19 2022-11-30 03:01:42.025000+00:00  7.073506\n",
      "   65  Keep this row\n",
      "   66  Keep this row\n",
      "   67  Keep this row\n",
      "   68  Keep this row\n",
      " \n",
      "################################################################\n",
      " Start new check\n",
      "   id_participant                        timestamp   dt_days\n",
      "69       orenth20 2022-11-09 01:39:25.257000+00:00  7.000000\n",
      "70       orenth20 2022-11-16 02:30:24.685000+00:00  7.035410\n",
      "71       orenth20 2022-11-23 03:14:46.046000+00:00  7.030803\n",
      "   69  Keep this row\n",
      "   70  Keep this row\n",
      "   71  Keep this row\n",
      " \n",
      "################################################################\n",
      " Start new check\n",
      "   id_participant                        timestamp    dt_days\n",
      "72       orenth21 2022-11-08 06:10:36.406000+00:00   7.000000\n",
      "73       orenth21 2022-11-09 01:29:43.030000+00:00   0.804938\n",
      "74       orenth21 2022-11-19 01:57:23.879000+00:00  10.019223\n",
      "75       orenth21 2022-11-30 01:37:45.614000+00:00  10.986363\n",
      "   72  Keep this row\n",
      "   73  Do not add this row\n",
      "   74  Add remaining rows\n",
      "   75  Add remaining rows\n",
      " \n",
      " Start new check\n",
      "   id_participant                        timestamp    dt_days\n",
      "72       orenth21 2022-11-08 06:10:36.406000+00:00   7.000000\n",
      "74       orenth21 2022-11-19 01:57:23.879000+00:00  10.824161\n",
      "75       orenth21 2022-11-30 01:37:45.614000+00:00  10.986363\n",
      "   72  Keep this row\n",
      "   74  Keep this row\n",
      "   75  Keep this row\n",
      " \n",
      "################################################################\n",
      " Start new check\n",
      "   id_participant                        timestamp    dt_days\n",
      "76       orenth22 2022-11-09 02:40:41.159000+00:00   7.000000\n",
      "77       orenth22 2022-11-23 01:15:50.109000+00:00  13.941076\n",
      "78       orenth22 2022-12-07 11:12:00.917000+00:00  14.414014\n",
      "   76  Keep this row\n",
      "   77  Keep this row\n",
      "   78  Keep this row\n",
      " \n",
      "################################################################\n",
      " Start new check\n",
      "   id_participant                        timestamp   dt_days\n",
      "79       orenth23 2022-11-15 01:01:35.199000+00:00  7.000000\n",
      "80       orenth23 2022-11-20 09:08:36.912000+00:00  5.338214\n",
      "81       orenth23 2022-11-23 01:16:48.038000+00:00  2.672351\n",
      "   79  Keep this row\n",
      "   80  Keep this row\n",
      "   81  Do not add this row\n",
      " \n",
      " Start new check\n",
      "   id_participant                        timestamp   dt_days\n",
      "79       orenth23 2022-11-15 01:01:35.199000+00:00  7.000000\n",
      "80       orenth23 2022-11-20 09:08:36.912000+00:00  5.338214\n",
      "  Only two responses, keep all\n",
      "################################################################\n",
      " Start new check\n",
      "   id_participant                        timestamp   dt_days\n",
      "82       orenth24 2022-11-17 03:26:54.881000+00:00  7.000000\n",
      "83       orenth24 2022-11-20 02:13:08.101000+00:00  2.948764\n",
      "  Only two responses, keep all\n",
      "################################################################\n",
      " Start new check\n",
      "   id_participant                        timestamp   dt_days\n",
      "84       orenth25 2022-11-18 12:48:55.549000+00:00  7.000000\n",
      "85       orenth25 2022-11-23 08:33:23.784000+00:00  4.822549\n",
      "  Only two responses, keep all\n",
      "################################################################\n",
      " Start new check\n",
      "   id_participant                        timestamp    dt_days\n",
      "86       orenth26 2022-11-19 03:57:10.559000+00:00   7.000000\n",
      "87       orenth26 2022-11-30 13:06:49.250000+00:00  11.381698\n",
      "88       orenth26 2022-12-10 07:00:59.755000+00:00   9.745955\n",
      "89       orenth26 2023-01-08 01:36:04.896000+00:00  28.774365\n",
      "   86  Keep this row\n",
      "   87  Keep this row\n",
      "   88  Keep this row\n",
      "   89  Keep this row\n",
      " \n",
      "################################################################\n",
      " Start new check\n",
      "   id_participant                        timestamp    dt_days\n",
      "90       orenth27 2022-11-17 09:20:25.799000+00:00   7.000000\n",
      "91       orenth27 2022-11-30 00:35:18.006000+00:00  12.635326\n",
      "92       orenth27 2022-12-11 06:44:17.081000+00:00  11.256239\n",
      "93       orenth27 2022-12-22 04:14:08.823000+00:00  10.895738\n",
      "94       orenth27 2022-12-26 22:30:43.786000+00:00   4.761516\n",
      "95       orenth27 2023-01-07 06:47:44.417000+00:00  11.345146\n",
      "96       orenth27 2023-01-09 01:42:25.623000+00:00   1.787977\n",
      "   90  Keep this row\n",
      "   91  Keep this row\n",
      "   92  Keep this row\n",
      "   93  Keep this row\n",
      "   94  Keep this row\n",
      "   95  Keep this row\n",
      "   96  Do not add this row\n",
      " \n",
      " Start new check\n",
      "   id_participant                        timestamp    dt_days\n",
      "90       orenth27 2022-11-17 09:20:25.799000+00:00   7.000000\n",
      "91       orenth27 2022-11-30 00:35:18.006000+00:00  12.635326\n",
      "92       orenth27 2022-12-11 06:44:17.081000+00:00  11.256239\n",
      "93       orenth27 2022-12-22 04:14:08.823000+00:00  10.895738\n",
      "94       orenth27 2022-12-26 22:30:43.786000+00:00   4.761516\n",
      "95       orenth27 2023-01-07 06:47:44.417000+00:00  11.345146\n",
      "   90  Keep this row\n",
      "   91  Keep this row\n",
      "   92  Keep this row\n",
      "   93  Keep this row\n",
      "   94  Keep this row\n",
      "   95  Keep this row\n",
      " \n",
      "################################################################\n",
      " Start new check\n",
      "    id_participant                        timestamp   dt_days\n",
      "97        orenth28 2022-11-16 03:50:08.583000+00:00  7.000000\n",
      "98        orenth28 2022-11-23 01:05:58.853000+00:00  6.885998\n",
      "99        orenth28 2022-11-26 09:02:38.733000+00:00  3.331017\n",
      "100       orenth28 2022-11-29 03:44:21.789000+00:00  2.778971\n",
      "101       orenth28 2022-12-02 05:15:56.854000+00:00  3.063600\n",
      "102       orenth28 2022-12-05 02:49:20.576000+00:00  2.898191\n",
      "103       orenth28 2022-12-07 02:48:13.740000+00:00  1.999226\n",
      "104       orenth28 2022-12-14 01:15:13.421000+00:00  6.935413\n",
      "105       orenth28 2022-12-21 01:20:05.358000+00:00  7.003379\n",
      "106       orenth28 2022-12-28 02:16:46.134000+00:00  7.039361\n",
      "   97  Keep this row\n",
      "   98  Keep this row\n",
      "   99  Do not add this row\n",
      "   100  Add remaining rows\n",
      "   101  Add remaining rows\n",
      "   102  Add remaining rows\n",
      "   103  Add remaining rows\n",
      "   104  Add remaining rows\n",
      "   105  Add remaining rows\n",
      "   106  Add remaining rows\n",
      " \n",
      " Start new check\n",
      "    id_participant                        timestamp   dt_days\n",
      "97        orenth28 2022-11-16 03:50:08.583000+00:00  7.000000\n",
      "98        orenth28 2022-11-23 01:05:58.853000+00:00  6.885998\n",
      "100       orenth28 2022-11-29 03:44:21.789000+00:00  6.109988\n",
      "101       orenth28 2022-12-02 05:15:56.854000+00:00  3.063600\n",
      "102       orenth28 2022-12-05 02:49:20.576000+00:00  2.898191\n",
      "103       orenth28 2022-12-07 02:48:13.740000+00:00  1.999226\n",
      "104       orenth28 2022-12-14 01:15:13.421000+00:00  6.935413\n",
      "105       orenth28 2022-12-21 01:20:05.358000+00:00  7.003379\n",
      "106       orenth28 2022-12-28 02:16:46.134000+00:00  7.039361\n",
      "   97  Keep this row\n",
      "   98  Keep this row\n",
      "   100  Keep this row\n",
      "   101  Do not add this row\n",
      "   102  Add remaining rows\n",
      "   103  Add remaining rows\n",
      "   104  Add remaining rows\n",
      "   105  Add remaining rows\n",
      "   106  Add remaining rows\n",
      " \n",
      " Start new check\n",
      "    id_participant                        timestamp   dt_days\n",
      "97        orenth28 2022-11-16 03:50:08.583000+00:00  7.000000\n",
      "98        orenth28 2022-11-23 01:05:58.853000+00:00  6.885998\n",
      "100       orenth28 2022-11-29 03:44:21.789000+00:00  6.109988\n",
      "102       orenth28 2022-12-05 02:49:20.576000+00:00  5.961792\n",
      "103       orenth28 2022-12-07 02:48:13.740000+00:00  1.999226\n",
      "104       orenth28 2022-12-14 01:15:13.421000+00:00  6.935413\n",
      "105       orenth28 2022-12-21 01:20:05.358000+00:00  7.003379\n",
      "106       orenth28 2022-12-28 02:16:46.134000+00:00  7.039361\n",
      "   97  Keep this row\n",
      "   98  Keep this row\n",
      "   100  Keep this row\n",
      "   102  Keep this row\n",
      "   103  Do not add this row\n",
      "   104  Add remaining rows\n",
      "   105  Add remaining rows\n",
      "   106  Add remaining rows\n",
      " \n",
      " Start new check\n",
      "    id_participant                        timestamp   dt_days\n",
      "97        orenth28 2022-11-16 03:50:08.583000+00:00  7.000000\n",
      "98        orenth28 2022-11-23 01:05:58.853000+00:00  6.885998\n",
      "100       orenth28 2022-11-29 03:44:21.789000+00:00  6.109988\n",
      "102       orenth28 2022-12-05 02:49:20.576000+00:00  5.961792\n",
      "104       orenth28 2022-12-14 01:15:13.421000+00:00  8.934639\n",
      "105       orenth28 2022-12-21 01:20:05.358000+00:00  7.003379\n",
      "106       orenth28 2022-12-28 02:16:46.134000+00:00  7.039361\n",
      "   97  Keep this row\n",
      "   98  Keep this row\n",
      "   100  Keep this row\n",
      "   102  Keep this row\n",
      "   104  Keep this row\n",
      "   105  Keep this row\n",
      "   106  Keep this row\n",
      " \n",
      "################################################################\n",
      " Start new check\n",
      "    id_participant                        timestamp    dt_days\n",
      "107       orenth29 2022-11-29 00:40:22.065000+00:00   7.000000\n",
      "108       orenth29 2022-11-30 14:37:06.153000+00:00   1.581066\n",
      "109       orenth29 2022-12-03 07:03:09.364000+00:00   2.684759\n",
      "110       orenth29 2022-12-06 13:00:59.167000+00:00   3.248493\n",
      "111       orenth29 2022-12-08 13:01:11.809000+00:00   2.000146\n",
      "112       orenth29 2022-12-12 13:00:53.448000+00:00   3.999787\n",
      "113       orenth29 2022-12-16 06:42:35.321000+00:00   3.737290\n",
      "114       orenth29 2022-12-23 13:17:44.921000+00:00   7.274417\n",
      "115       orenth29 2022-12-24 13:01:32.218000+00:00   0.988742\n",
      "116       orenth29 2023-01-05 11:29:54.968000+00:00  11.936374\n",
      "117       orenth29 2023-01-07 12:58:04.709000+00:00   2.061224\n",
      "118       orenth29 2023-01-12 13:00:52.649000+00:00   5.001944\n",
      "119       orenth29 2023-01-15 04:00:50.573000+00:00   2.624976\n",
      "   107  Keep this row\n",
      "   108  Do not add this row\n",
      "   109  Add remaining rows\n",
      "   110  Add remaining rows\n",
      "   111  Add remaining rows\n",
      "   112  Add remaining rows\n",
      "   113  Add remaining rows\n",
      "   114  Add remaining rows\n",
      "   115  Add remaining rows\n",
      "   116  Add remaining rows\n",
      "   117  Add remaining rows\n",
      "   118  Add remaining rows\n",
      "   119  Add remaining rows\n",
      " \n",
      " Start new check\n",
      "    id_participant                        timestamp    dt_days\n",
      "107       orenth29 2022-11-29 00:40:22.065000+00:00   7.000000\n",
      "109       orenth29 2022-12-03 07:03:09.364000+00:00   4.265825\n",
      "110       orenth29 2022-12-06 13:00:59.167000+00:00   3.248493\n",
      "111       orenth29 2022-12-08 13:01:11.809000+00:00   2.000146\n",
      "112       orenth29 2022-12-12 13:00:53.448000+00:00   3.999787\n",
      "113       orenth29 2022-12-16 06:42:35.321000+00:00   3.737290\n",
      "114       orenth29 2022-12-23 13:17:44.921000+00:00   7.274417\n",
      "115       orenth29 2022-12-24 13:01:32.218000+00:00   0.988742\n",
      "116       orenth29 2023-01-05 11:29:54.968000+00:00  11.936374\n",
      "117       orenth29 2023-01-07 12:58:04.709000+00:00   2.061224\n",
      "118       orenth29 2023-01-12 13:00:52.649000+00:00   5.001944\n",
      "119       orenth29 2023-01-15 04:00:50.573000+00:00   2.624976\n",
      "   107  Keep this row\n",
      "   109  Keep this row\n",
      "   110  Do not add this row\n",
      "   111  Add remaining rows\n",
      "   112  Add remaining rows\n",
      "   113  Add remaining rows\n",
      "   114  Add remaining rows\n",
      "   115  Add remaining rows\n",
      "   116  Add remaining rows\n",
      "   117  Add remaining rows\n",
      "   118  Add remaining rows\n",
      "   119  Add remaining rows\n",
      " \n",
      " Start new check\n",
      "    id_participant                        timestamp    dt_days\n",
      "107       orenth29 2022-11-29 00:40:22.065000+00:00   7.000000\n",
      "109       orenth29 2022-12-03 07:03:09.364000+00:00   4.265825\n",
      "111       orenth29 2022-12-08 13:01:11.809000+00:00   5.248639\n",
      "112       orenth29 2022-12-12 13:00:53.448000+00:00   3.999787\n",
      "113       orenth29 2022-12-16 06:42:35.321000+00:00   3.737290\n",
      "114       orenth29 2022-12-23 13:17:44.921000+00:00   7.274417\n",
      "115       orenth29 2022-12-24 13:01:32.218000+00:00   0.988742\n",
      "116       orenth29 2023-01-05 11:29:54.968000+00:00  11.936374\n",
      "117       orenth29 2023-01-07 12:58:04.709000+00:00   2.061224\n",
      "118       orenth29 2023-01-12 13:00:52.649000+00:00   5.001944\n",
      "119       orenth29 2023-01-15 04:00:50.573000+00:00   2.624976\n",
      "   107  Keep this row\n",
      "   109  Keep this row\n",
      "   111  Keep this row\n",
      "   112  Do not add this row\n",
      "   113  Add remaining rows\n",
      "   114  Add remaining rows\n",
      "   115  Add remaining rows\n",
      "   116  Add remaining rows\n",
      "   117  Add remaining rows\n",
      "   118  Add remaining rows\n",
      "   119  Add remaining rows\n",
      " \n",
      " Start new check\n",
      "    id_participant                        timestamp    dt_days\n",
      "107       orenth29 2022-11-29 00:40:22.065000+00:00   7.000000\n",
      "109       orenth29 2022-12-03 07:03:09.364000+00:00   4.265825\n",
      "111       orenth29 2022-12-08 13:01:11.809000+00:00   5.248639\n",
      "113       orenth29 2022-12-16 06:42:35.321000+00:00   7.737078\n",
      "114       orenth29 2022-12-23 13:17:44.921000+00:00   7.274417\n",
      "115       orenth29 2022-12-24 13:01:32.218000+00:00   0.988742\n",
      "116       orenth29 2023-01-05 11:29:54.968000+00:00  11.936374\n",
      "117       orenth29 2023-01-07 12:58:04.709000+00:00   2.061224\n",
      "118       orenth29 2023-01-12 13:00:52.649000+00:00   5.001944\n",
      "119       orenth29 2023-01-15 04:00:50.573000+00:00   2.624976\n",
      "   107  Keep this row\n",
      "   109  Keep this row\n",
      "   111  Keep this row\n",
      "   113  Keep this row\n",
      "   114  Keep this row\n",
      "   115  Do not add this row\n",
      "   116  Add remaining rows\n",
      "   117  Add remaining rows\n",
      "   118  Add remaining rows\n",
      "   119  Add remaining rows\n",
      " \n",
      " Start new check\n",
      "    id_participant                        timestamp    dt_days\n",
      "107       orenth29 2022-11-29 00:40:22.065000+00:00   7.000000\n",
      "109       orenth29 2022-12-03 07:03:09.364000+00:00   4.265825\n",
      "111       orenth29 2022-12-08 13:01:11.809000+00:00   5.248639\n",
      "113       orenth29 2022-12-16 06:42:35.321000+00:00   7.737078\n",
      "114       orenth29 2022-12-23 13:17:44.921000+00:00   7.274417\n",
      "116       orenth29 2023-01-05 11:29:54.968000+00:00  12.925116\n",
      "117       orenth29 2023-01-07 12:58:04.709000+00:00   2.061224\n",
      "118       orenth29 2023-01-12 13:00:52.649000+00:00   5.001944\n",
      "119       orenth29 2023-01-15 04:00:50.573000+00:00   2.624976\n",
      "   107  Keep this row\n",
      "   109  Keep this row\n",
      "   111  Keep this row\n",
      "   113  Keep this row\n",
      "   114  Keep this row\n",
      "   116  Keep this row\n",
      "   117  Do not add this row\n",
      "   118  Add remaining rows\n",
      "   119  Add remaining rows\n",
      " \n",
      " Start new check\n",
      "    id_participant                        timestamp    dt_days\n",
      "107       orenth29 2022-11-29 00:40:22.065000+00:00   7.000000\n",
      "109       orenth29 2022-12-03 07:03:09.364000+00:00   4.265825\n",
      "111       orenth29 2022-12-08 13:01:11.809000+00:00   5.248639\n",
      "113       orenth29 2022-12-16 06:42:35.321000+00:00   7.737078\n",
      "114       orenth29 2022-12-23 13:17:44.921000+00:00   7.274417\n",
      "116       orenth29 2023-01-05 11:29:54.968000+00:00  12.925116\n",
      "118       orenth29 2023-01-12 13:00:52.649000+00:00   7.063168\n",
      "119       orenth29 2023-01-15 04:00:50.573000+00:00   2.624976\n",
      "   107  Keep this row\n",
      "   109  Keep this row\n",
      "   111  Keep this row\n",
      "   113  Keep this row\n",
      "   114  Keep this row\n",
      "   116  Keep this row\n",
      "   118  Keep this row\n",
      "   119  Do not add this row\n",
      " \n",
      " Start new check\n",
      "    id_participant                        timestamp    dt_days\n",
      "107       orenth29 2022-11-29 00:40:22.065000+00:00   7.000000\n",
      "109       orenth29 2022-12-03 07:03:09.364000+00:00   4.265825\n",
      "111       orenth29 2022-12-08 13:01:11.809000+00:00   5.248639\n",
      "113       orenth29 2022-12-16 06:42:35.321000+00:00   7.737078\n",
      "114       orenth29 2022-12-23 13:17:44.921000+00:00   7.274417\n",
      "116       orenth29 2023-01-05 11:29:54.968000+00:00  12.925116\n",
      "118       orenth29 2023-01-12 13:00:52.649000+00:00   7.063168\n",
      "   107  Keep this row\n",
      "   109  Keep this row\n",
      "   111  Keep this row\n",
      "   113  Keep this row\n",
      "   114  Keep this row\n",
      "   116  Keep this row\n",
      "   118  Keep this row\n",
      " \n",
      "################################################################\n",
      " Start new check\n",
      "    id_participant                        timestamp    dt_days\n",
      "120       orenth31 2022-12-01 01:15:34.850000+00:00   7.000000\n",
      "121       orenth31 2022-12-20 05:11:18.703000+00:00  19.163702\n",
      "122       orenth31 2022-12-21 01:49:55.782000+00:00   0.860151\n",
      "123       orenth31 2023-01-09 06:26:21.414000+00:00  19.191963\n",
      "124       orenth31 2023-01-11 01:04:17.162000+00:00   1.776340\n",
      "125       orenth31 2023-01-25 04:16:53.005000+00:00  14.133748\n",
      "126       orenth31 2023-02-15 07:10:38.953000+00:00  21.120671\n",
      "   120  Keep this row\n",
      "   121  Keep this row\n",
      "   122  Do not add this row\n",
      "   123  Add remaining rows\n",
      "   124  Add remaining rows\n",
      "   125  Add remaining rows\n",
      "   126  Add remaining rows\n",
      " \n",
      " Start new check\n",
      "    id_participant                        timestamp    dt_days\n",
      "120       orenth31 2022-12-01 01:15:34.850000+00:00   7.000000\n",
      "121       orenth31 2022-12-20 05:11:18.703000+00:00  19.163702\n",
      "123       orenth31 2023-01-09 06:26:21.414000+00:00  20.052115\n",
      "124       orenth31 2023-01-11 01:04:17.162000+00:00   1.776340\n",
      "125       orenth31 2023-01-25 04:16:53.005000+00:00  14.133748\n",
      "126       orenth31 2023-02-15 07:10:38.953000+00:00  21.120671\n",
      "   120  Keep this row\n",
      "   121  Keep this row\n",
      "   123  Keep this row\n",
      "   124  Do not add this row\n",
      "   125  Add remaining rows\n",
      "   126  Add remaining rows\n",
      " \n",
      " Start new check\n",
      "    id_participant                        timestamp    dt_days\n",
      "120       orenth31 2022-12-01 01:15:34.850000+00:00   7.000000\n",
      "121       orenth31 2022-12-20 05:11:18.703000+00:00  19.163702\n",
      "123       orenth31 2023-01-09 06:26:21.414000+00:00  20.052115\n",
      "125       orenth31 2023-01-25 04:16:53.005000+00:00  15.910088\n",
      "126       orenth31 2023-02-15 07:10:38.953000+00:00  21.120671\n",
      "   120  Keep this row\n",
      "   121  Keep this row\n",
      "   123  Keep this row\n",
      "   125  Keep this row\n",
      "   126  Keep this row\n",
      " \n",
      "################################################################\n",
      " Start new check\n",
      "    id_participant                        timestamp   dt_days\n",
      "127       orenth32 2022-11-30 00:48:24.818000+00:00  7.000000\n",
      "128       orenth32 2022-12-07 04:30:17.409000+00:00  7.154081\n",
      "129       orenth32 2022-12-14 04:56:15.503000+00:00  7.018033\n",
      "130       orenth32 2022-12-23 05:06:07.920000+00:00  9.006857\n",
      "131       orenth32 2022-12-30 02:31:51.909000+00:00  6.892870\n",
      "   127  Keep this row\n",
      "   128  Keep this row\n",
      "   129  Keep this row\n",
      "   130  Keep this row\n",
      "   131  Keep this row\n",
      " \n",
      "################################################################\n",
      " Start new check\n",
      "    id_participant                        timestamp   dt_days\n",
      "132       orenth33 2022-11-30 10:07:06.611000+00:00  7.000000\n",
      "133       orenth33 2022-12-09 16:38:13.879000+00:00  9.271612\n",
      "134       orenth33 2022-12-15 08:38:58.066000+00:00  5.667178\n",
      "135       orenth33 2022-12-21 07:41:23.630000+00:00  5.960018\n",
      "136       orenth33 2022-12-27 04:53:35.849000+00:00  5.883475\n",
      "   132  Keep this row\n",
      "   133  Keep this row\n",
      "   134  Keep this row\n",
      "   135  Keep this row\n",
      "   136  Keep this row\n",
      " \n",
      "################################################################\n",
      " Start new check\n",
      "    id_participant                        timestamp   dt_days\n",
      "137       orenth34 2022-11-29 04:01:31.913000+00:00  7.000000\n",
      "138       orenth34 2022-11-30 01:18:30.646000+00:00  0.886791\n",
      "139       orenth34 2022-12-07 01:47:14.083000+00:00  7.019947\n",
      "140       orenth34 2022-12-14 01:14:56.441000+00:00  6.977574\n",
      "141       orenth34 2022-12-21 01:20:36.940000+00:00  7.003941\n",
      "142       orenth34 2022-12-28 04:01:34.621000+00:00  7.111779\n",
      "   137  Keep this row\n",
      "   138  Do not add this row\n",
      "   139  Add remaining rows\n",
      "   140  Add remaining rows\n",
      "   141  Add remaining rows\n",
      "   142  Add remaining rows\n",
      " \n",
      " Start new check\n",
      "    id_participant                        timestamp   dt_days\n",
      "137       orenth34 2022-11-29 04:01:31.913000+00:00  7.000000\n",
      "139       orenth34 2022-12-07 01:47:14.083000+00:00  7.906738\n",
      "140       orenth34 2022-12-14 01:14:56.441000+00:00  6.977574\n",
      "141       orenth34 2022-12-21 01:20:36.940000+00:00  7.003941\n",
      "142       orenth34 2022-12-28 04:01:34.621000+00:00  7.111779\n",
      "   137  Keep this row\n",
      "   139  Keep this row\n",
      "   140  Keep this row\n",
      "   141  Keep this row\n",
      "   142  Keep this row\n",
      " \n",
      "################################################################\n",
      " Start new check\n",
      "    id_participant                        timestamp   dt_days\n",
      "143       orenth35 2022-11-30 03:59:52.186000+00:00  7.000000\n",
      "144       orenth35 2022-12-07 07:16:47.182000+00:00  7.136748\n",
      "145       orenth35 2022-12-15 09:21:09.460000+00:00  8.086369\n",
      "146       orenth35 2022-12-24 04:09:00.766000+00:00  8.783233\n",
      "147       orenth35 2022-12-28 01:04:26.796000+00:00  3.871829\n",
      "148       orenth35 2023-01-02 10:16:08.905000+00:00  5.383126\n",
      "   143  Keep this row\n",
      "   144  Keep this row\n",
      "   145  Keep this row\n",
      "   146  Keep this row\n",
      "   147  Do not add this row\n",
      "   148  Add remaining rows\n",
      " \n",
      " Start new check\n",
      "    id_participant                        timestamp   dt_days\n",
      "143       orenth35 2022-11-30 03:59:52.186000+00:00  7.000000\n",
      "144       orenth35 2022-12-07 07:16:47.182000+00:00  7.136748\n",
      "145       orenth35 2022-12-15 09:21:09.460000+00:00  8.086369\n",
      "146       orenth35 2022-12-24 04:09:00.766000+00:00  8.783233\n",
      "148       orenth35 2023-01-02 10:16:08.905000+00:00  9.254955\n",
      "   143  Keep this row\n",
      "   144  Keep this row\n",
      "   145  Keep this row\n",
      "   146  Keep this row\n",
      "   148  Keep this row\n",
      " \n",
      "################################################################\n",
      " Start new check\n",
      "    id_participant                        timestamp   dt_days\n",
      "149       orenth36 2022-12-07 14:31:35.769000+00:00  7.000000\n",
      "150       orenth36 2022-12-07 14:33:43.050000+00:00  0.001473\n",
      "  Only two responses, keep all\n",
      "################################################################\n",
      " Start new check\n",
      "    id_participant                        timestamp   dt_days\n",
      "151       orenth37 2022-12-06 01:51:33.558000+00:00  7.000000\n",
      "152       orenth37 2022-12-14 07:00:56.247000+00:00  8.214846\n",
      "153       orenth37 2022-12-19 01:18:41.684000+00:00  4.762331\n",
      "   151  Keep this row\n",
      "   152  Keep this row\n",
      "   153  Keep this row\n",
      " \n",
      "################################################################\n",
      " Start new check\n",
      "    id_participant                        timestamp   dt_days\n",
      "154       orenth38 2022-11-30 06:27:47.071000+00:00  7.000000\n",
      "155       orenth38 2022-12-03 01:12:35.884000+00:00  2.781121\n",
      "156       orenth38 2022-12-06 02:09:11.900000+00:00  3.039306\n",
      "157       orenth38 2022-12-09 03:45:13.186000+00:00  3.066682\n",
      "158       orenth38 2022-12-16 01:00:52.971000+00:00  6.885877\n",
      "159       orenth38 2022-12-24 01:20:49.611000+00:00  8.013850\n",
      "   154  Keep this row\n",
      "   155  Do not add this row\n",
      "   156  Add remaining rows\n",
      "   157  Add remaining rows\n",
      "   158  Add remaining rows\n",
      "   159  Add remaining rows\n",
      " \n",
      " Start new check\n",
      "    id_participant                        timestamp   dt_days\n",
      "154       orenth38 2022-11-30 06:27:47.071000+00:00  7.000000\n",
      "156       orenth38 2022-12-06 02:09:11.900000+00:00  5.820426\n",
      "157       orenth38 2022-12-09 03:45:13.186000+00:00  3.066682\n",
      "158       orenth38 2022-12-16 01:00:52.971000+00:00  6.885877\n",
      "159       orenth38 2022-12-24 01:20:49.611000+00:00  8.013850\n",
      "   154  Keep this row\n",
      "   156  Keep this row\n",
      "   157  Do not add this row\n",
      "   158  Add remaining rows\n",
      "   159  Add remaining rows\n",
      " \n",
      " Start new check\n",
      "    id_participant                        timestamp   dt_days\n",
      "154       orenth38 2022-11-30 06:27:47.071000+00:00  7.000000\n",
      "156       orenth38 2022-12-06 02:09:11.900000+00:00  5.820426\n",
      "158       orenth38 2022-12-16 01:00:52.971000+00:00  9.952559\n",
      "159       orenth38 2022-12-24 01:20:49.611000+00:00  8.013850\n",
      "   154  Keep this row\n",
      "   156  Keep this row\n",
      "   158  Keep this row\n",
      "   159  Keep this row\n",
      " \n",
      "################################################################\n",
      " Start new check\n",
      "    id_participant                        timestamp    dt_days\n",
      "160       orenth39 2022-12-06 03:24:15.559000+00:00   7.000000\n",
      "161       orenth39 2022-12-20 05:14:42.192000+00:00  14.076697\n",
      "  Only two responses, keep all\n",
      "################################################################\n",
      " Start new check\n",
      "    id_participant                        timestamp   dt_days\n",
      "162       orenth40 2022-12-15 18:59:59.261000+00:00  7.000000\n",
      "163       orenth40 2022-12-23 09:01:35.623000+00:00  7.584449\n",
      "164       orenth40 2022-12-30 09:07:04.855000+00:00  7.003811\n",
      "   162  Keep this row\n",
      "   163  Keep this row\n",
      "   164  Keep this row\n",
      " \n",
      "################################################################\n",
      " Start new check\n",
      "    id_participant                        timestamp   dt_days\n",
      "165       orenth41 2022-12-04 05:25:24.061000+00:00  7.000000\n",
      "166       orenth41 2022-12-09 02:45:52.110000+00:00  4.889214\n",
      "167       orenth41 2022-12-16 04:44:49.399000+00:00  7.082608\n",
      "   165  Keep this row\n",
      "   166  Keep this row\n",
      "   167  Keep this row\n",
      " \n",
      "################################################################\n",
      " Start new check\n",
      "    id_participant                        timestamp   dt_days\n",
      "168       orenth42 2022-12-09 01:03:57.328000+00:00  7.000000\n",
      "169       orenth42 2022-12-16 02:56:48.773000+00:00  7.078373\n",
      "170       orenth42 2022-12-26 00:16:45.783000+00:00  9.888854\n",
      "171       orenth42 2022-12-30 03:14:25.088000+00:00  4.123372\n",
      "172       orenth42 2023-01-06 04:43:18.567000+00:00  7.061730\n",
      "173       orenth42 2023-01-11 01:05:24.459000+00:00  4.848679\n",
      "174       orenth42 2023-01-17 04:04:15.692000+00:00  6.124204\n",
      "   168  Keep this row\n",
      "   169  Keep this row\n",
      "   170  Keep this row\n",
      "   171  Keep this row\n",
      "   172  Keep this row\n",
      "   173  Keep this row\n",
      "   174  Keep this row\n",
      " \n",
      "################################################################\n",
      " Start new check\n",
      "    id_participant                        timestamp   dt_days\n",
      "175       orenth43 2022-12-07 04:01:45.217000+00:00  7.000000\n",
      "176       orenth43 2022-12-14 03:20:33.169000+00:00  6.971388\n",
      "  Only two responses, keep all\n",
      "################################################################\n",
      " Start new check\n",
      "    id_participant                        timestamp   dt_days\n",
      "177       orenth44 2022-12-13 06:24:58.926000+00:00  7.000000\n",
      "178       orenth44 2022-12-22 04:01:16.757000+00:00  8.900206\n",
      "179       orenth44 2022-12-28 12:15:22.769000+00:00  6.343125\n",
      "180       orenth44 2023-01-04 01:04:57.358000+00:00  6.534428\n",
      "181       orenth44 2023-01-11 15:54:44.729000+00:00  7.617909\n",
      "   177  Keep this row\n",
      "   178  Keep this row\n",
      "   179  Keep this row\n",
      "   180  Keep this row\n",
      "   181  Keep this row\n",
      " \n",
      "################################################################\n",
      " Start new check\n",
      "    id_participant                        timestamp   dt_days\n",
      "182       orenth45 2022-12-10 07:01:09.062000+00:00  7.000000\n",
      "183       orenth45 2022-12-16 01:20:43.024000+00:00  5.763588\n",
      "184       orenth45 2022-12-21 01:24:45.376000+00:00  5.002805\n",
      "   182  Keep this row\n",
      "   183  Keep this row\n",
      "   184  Keep this row\n",
      " \n",
      "################################################################\n",
      " Start new check\n",
      "    id_participant                        timestamp   dt_days\n",
      "185       orenth46 2022-12-07 13:28:02.430000+00:00  7.000000\n",
      "186       orenth46 2022-12-16 03:43:53.762000+00:00  8.594344\n",
      "  Only two responses, keep all\n",
      "################################################################\n",
      " Start new check\n",
      "    id_participant                        timestamp    dt_days\n",
      "187       orenth48 2022-12-14 01:20:45.779000+00:00   7.000000\n",
      "188       orenth48 2022-12-26 10:20:03.345000+00:00  12.374509\n",
      "189       orenth48 2023-01-01 03:33:15.429000+00:00   5.717501\n",
      "190       orenth48 2023-01-27 01:02:01.094000+00:00  25.894973\n",
      "191       orenth48 2023-02-01 07:37:14.442000+00:00   5.274460\n",
      "   187  Keep this row\n",
      "   188  Keep this row\n",
      "   189  Keep this row\n",
      "   190  Keep this row\n",
      "   191  Keep this row\n",
      " \n",
      "################################################################\n",
      " Start new check\n",
      "    id_participant                        timestamp   dt_days\n",
      "192       orenth49 2023-01-03 09:48:50.190000+00:00  7.000000\n",
      "193       orenth49 2023-01-09 00:20:20.605000+00:00  5.605213\n",
      "194       orenth49 2023-01-11 11:58:17.181000+00:00  2.484683\n",
      "195       orenth49 2023-01-19 02:30:24.576000+00:00  7.605641\n",
      "   192  Keep this row\n",
      "   193  Keep this row\n",
      "   194  Do not add this row\n",
      "   195  Add remaining rows\n",
      " \n",
      " Start new check\n",
      "    id_participant                        timestamp    dt_days\n",
      "192       orenth49 2023-01-03 09:48:50.190000+00:00   7.000000\n",
      "193       orenth49 2023-01-09 00:20:20.605000+00:00   5.605213\n",
      "195       orenth49 2023-01-19 02:30:24.576000+00:00  10.090324\n",
      "   192  Keep this row\n",
      "   193  Keep this row\n",
      "   195  Keep this row\n",
      " \n",
      "################################################################\n",
      " Start new check\n",
      "    id_participant                        timestamp    dt_days\n",
      "196       orenth50 2022-12-24 04:38:24.868000+00:00   7.000000\n",
      "197       orenth50 2023-01-06 07:21:56.340000+00:00  13.113559\n",
      "198       orenth50 2023-01-11 02:18:13.076000+00:00   4.789083\n",
      "   196  Keep this row\n",
      "   197  Keep this row\n",
      "   198  Keep this row\n",
      " \n",
      "################################################################\n",
      " Start new check\n",
      "    id_participant                        timestamp    dt_days\n",
      "199          usk01 2023-04-01 14:14:05.420000+00:00   7.000000\n",
      "200          usk01 2023-04-08 05:26:33.945000+00:00   6.633663\n",
      "201          usk01 2023-04-12 03:44:24.593000+00:00   3.929058\n",
      "202          usk01 2023-04-23 16:47:21.897000+00:00  11.543719\n",
      "   199  Keep this row\n",
      "   200  Keep this row\n",
      "   201  Do not add this row\n",
      "   202  Add remaining rows\n",
      " \n",
      " Start new check\n",
      "    id_participant                        timestamp    dt_days\n",
      "199          usk01 2023-04-01 14:14:05.420000+00:00   7.000000\n",
      "200          usk01 2023-04-08 05:26:33.945000+00:00   6.633663\n",
      "202          usk01 2023-04-23 16:47:21.897000+00:00  15.472777\n",
      "   199  Keep this row\n",
      "   200  Keep this row\n",
      "   202  Keep this row\n",
      " \n",
      "################################################################\n",
      " Start new check\n",
      "    id_participant                        timestamp   dt_days\n",
      "203          usk02 2023-04-02 08:51:33.496000+00:00  7.000000\n",
      "204          usk02 2023-04-08 05:30:35.074000+00:00  5.860435\n",
      "205          usk02 2023-04-13 01:36:02.860000+00:00  4.837127\n",
      "   203  Keep this row\n",
      "   204  Keep this row\n",
      "   205  Keep this row\n",
      " \n",
      "################################################################\n",
      " Start new check\n",
      "    id_participant                        timestamp   dt_days\n",
      "206          usk03 2023-04-04 06:09:56.387000+00:00  7.000000\n",
      "207          usk03 2023-04-07 06:14:24.102000+00:00  3.003099\n",
      "208          usk03 2023-04-14 14:24:50.825000+00:00  7.340587\n",
      "209          usk03 2023-04-19 15:44:23.394000+00:00  5.055238\n",
      "210          usk03 2023-04-21 10:23:07.011000+00:00  1.776894\n",
      "211          usk03 2023-04-26 01:04:27.139000+00:00  4.612039\n",
      "212          usk03 2023-04-28 08:55:42.877000+00:00  2.327265\n",
      "   206  Keep this row\n",
      "   207  Do not add this row\n",
      "   208  Add remaining rows\n",
      "   209  Add remaining rows\n",
      "   210  Add remaining rows\n",
      "   211  Add remaining rows\n",
      "   212  Add remaining rows\n",
      " \n",
      " Start new check\n",
      "    id_participant                        timestamp    dt_days\n",
      "206          usk03 2023-04-04 06:09:56.387000+00:00   7.000000\n",
      "208          usk03 2023-04-14 14:24:50.825000+00:00  10.343686\n",
      "209          usk03 2023-04-19 15:44:23.394000+00:00   5.055238\n",
      "210          usk03 2023-04-21 10:23:07.011000+00:00   1.776894\n",
      "211          usk03 2023-04-26 01:04:27.139000+00:00   4.612039\n",
      "212          usk03 2023-04-28 08:55:42.877000+00:00   2.327265\n",
      "   206  Keep this row\n",
      "   208  Keep this row\n",
      "   209  Keep this row\n",
      "   210  Do not add this row\n",
      "   211  Add remaining rows\n",
      "   212  Add remaining rows\n",
      " \n",
      " Start new check\n",
      "    id_participant                        timestamp    dt_days\n",
      "206          usk03 2023-04-04 06:09:56.387000+00:00   7.000000\n",
      "208          usk03 2023-04-14 14:24:50.825000+00:00  10.343686\n",
      "209          usk03 2023-04-19 15:44:23.394000+00:00   5.055238\n",
      "211          usk03 2023-04-26 01:04:27.139000+00:00   6.388932\n",
      "212          usk03 2023-04-28 08:55:42.877000+00:00   2.327265\n",
      "   206  Keep this row\n",
      "   208  Keep this row\n",
      "   209  Keep this row\n",
      "   211  Keep this row\n",
      "   212  Do not add this row\n",
      " \n",
      " Start new check\n",
      "    id_participant                        timestamp    dt_days\n",
      "206          usk03 2023-04-04 06:09:56.387000+00:00   7.000000\n",
      "208          usk03 2023-04-14 14:24:50.825000+00:00  10.343686\n",
      "209          usk03 2023-04-19 15:44:23.394000+00:00   5.055238\n",
      "211          usk03 2023-04-26 01:04:27.139000+00:00   6.388932\n",
      "   206  Keep this row\n",
      "   208  Keep this row\n",
      "   209  Keep this row\n",
      "   211  Keep this row\n",
      " \n",
      "################################################################\n",
      " Start new check\n",
      "    id_participant                        timestamp   dt_days\n",
      "213          usk04 2023-03-30 07:01:50.909000+00:00  7.000000\n",
      "214          usk04 2023-04-08 05:25:27.453000+00:00  8.933062\n",
      "215          usk04 2023-04-10 10:59:30.898000+00:00  2.231984\n",
      "216          usk04 2023-04-17 01:52:05.089000+00:00  6.619840\n",
      "217          usk04 2023-04-21 05:47:40.294000+00:00  4.163602\n",
      "   213  Keep this row\n",
      "   214  Keep this row\n",
      "   215  Do not add this row\n",
      "   216  Add remaining rows\n",
      "   217  Add remaining rows\n",
      " \n",
      " Start new check\n",
      "    id_participant                        timestamp   dt_days\n",
      "213          usk04 2023-03-30 07:01:50.909000+00:00  7.000000\n",
      "214          usk04 2023-04-08 05:25:27.453000+00:00  8.933062\n",
      "216          usk04 2023-04-17 01:52:05.089000+00:00  8.851824\n",
      "217          usk04 2023-04-21 05:47:40.294000+00:00  4.163602\n",
      "   213  Keep this row\n",
      "   214  Keep this row\n",
      "   216  Keep this row\n",
      "   217  Keep this row\n",
      " \n",
      "################################################################\n",
      " Start new check\n",
      "    id_participant                        timestamp   dt_days\n",
      "218          usk05 2023-03-29 02:11:15.884000+00:00  7.000000\n",
      "219          usk05 2023-04-04 06:36:38.946000+00:00  6.184295\n",
      "220          usk05 2023-04-05 03:20:10.066000+00:00  0.863555\n",
      "221          usk05 2023-04-12 10:26:39.666000+00:00  7.296176\n",
      "222          usk05 2023-04-19 06:37:54.722000+00:00  6.841146\n",
      "   218  Keep this row\n",
      "   219  Keep this row\n",
      "   220  Do not add this row\n",
      "   221  Add remaining rows\n",
      "   222  Add remaining rows\n",
      " \n",
      " Start new check\n",
      "    id_participant                        timestamp   dt_days\n",
      "218          usk05 2023-03-29 02:11:15.884000+00:00  7.000000\n",
      "219          usk05 2023-04-04 06:36:38.946000+00:00  6.184295\n",
      "221          usk05 2023-04-12 10:26:39.666000+00:00  8.159731\n",
      "222          usk05 2023-04-19 06:37:54.722000+00:00  6.841146\n",
      "   218  Keep this row\n",
      "   219  Keep this row\n",
      "   221  Keep this row\n",
      "   222  Keep this row\n",
      " \n",
      "################################################################\n",
      " Start new check\n",
      "    id_participant                        timestamp   dt_days\n",
      "223          usk06 2023-04-03 02:41:23.660000+00:00  7.000000\n",
      "224          usk06 2023-04-08 05:30:02.909000+00:00  5.117121\n",
      "225          usk06 2023-04-13 05:12:36.847000+00:00  4.987893\n",
      "   223  Keep this row\n",
      "   224  Keep this row\n",
      "   225  Keep this row\n",
      " \n",
      "################################################################\n",
      " Start new check\n",
      "    id_participant                        timestamp   dt_days\n",
      "226          usk07 2023-04-07 01:19:11.119000+00:00  7.000000\n",
      "227          usk07 2023-04-08 07:39:02.827000+00:00  1.263793\n",
      "228          usk07 2023-04-15 04:31:21.363000+00:00  6.869659\n",
      "229          usk07 2023-04-21 06:31:36.622000+00:00  6.083510\n",
      "230          usk07 2023-04-29 04:39:42.529000+00:00  7.922291\n",
      "231          usk07 2023-05-05 05:15:44.638000+00:00  6.025024\n",
      "232          usk07 2023-05-10 21:16:37.208000+00:00  5.667275\n",
      "   226  Keep this row\n",
      "   227  Do not add this row\n",
      "   228  Add remaining rows\n",
      "   229  Add remaining rows\n",
      "   230  Add remaining rows\n",
      "   231  Add remaining rows\n",
      "   232  Add remaining rows\n",
      " \n",
      " Start new check\n",
      "    id_participant                        timestamp   dt_days\n",
      "226          usk07 2023-04-07 01:19:11.119000+00:00  7.000000\n",
      "228          usk07 2023-04-15 04:31:21.363000+00:00  8.133452\n",
      "229          usk07 2023-04-21 06:31:36.622000+00:00  6.083510\n",
      "230          usk07 2023-04-29 04:39:42.529000+00:00  7.922291\n",
      "231          usk07 2023-05-05 05:15:44.638000+00:00  6.025024\n",
      "232          usk07 2023-05-10 21:16:37.208000+00:00  5.667275\n",
      "   226  Keep this row\n",
      "   228  Keep this row\n",
      "   229  Keep this row\n",
      "   230  Keep this row\n",
      "   231  Keep this row\n",
      "   232  Keep this row\n",
      " \n",
      "################################################################\n",
      " Start new check\n",
      "    id_participant                        timestamp   dt_days\n",
      "233          usk08 2023-04-05 13:53:00.176000+00:00  7.000000\n",
      "234          usk08 2023-04-08 05:58:52.498000+00:00  2.670744\n",
      "235          usk08 2023-04-15 10:49:37.657000+00:00  7.201912\n",
      "236          usk08 2023-04-20 10:01:14.169000+00:00  4.966395\n",
      "237          usk08 2023-04-26 07:19:07.396000+00:00  5.887422\n",
      "238          usk08 2023-05-02 06:01:33.716000+00:00  5.946138\n",
      "239          usk08 2023-05-07 06:51:48.729000+00:00  5.034896\n",
      "   233  Keep this row\n",
      "   234  Do not add this row\n",
      "   235  Add remaining rows\n",
      "   236  Add remaining rows\n",
      "   237  Add remaining rows\n",
      "   238  Add remaining rows\n",
      "   239  Add remaining rows\n",
      " \n",
      " Start new check\n",
      "    id_participant                        timestamp   dt_days\n",
      "233          usk08 2023-04-05 13:53:00.176000+00:00  7.000000\n",
      "235          usk08 2023-04-15 10:49:37.657000+00:00  9.872656\n",
      "236          usk08 2023-04-20 10:01:14.169000+00:00  4.966395\n",
      "237          usk08 2023-04-26 07:19:07.396000+00:00  5.887422\n",
      "238          usk08 2023-05-02 06:01:33.716000+00:00  5.946138\n",
      "239          usk08 2023-05-07 06:51:48.729000+00:00  5.034896\n",
      "   233  Keep this row\n",
      "   235  Keep this row\n",
      "   236  Keep this row\n",
      "   237  Keep this row\n",
      "   238  Keep this row\n",
      "   239  Keep this row\n",
      " \n",
      "################################################################\n",
      " Start new check\n",
      "    id_participant                        timestamp   dt_days\n",
      "240          usk09 2023-03-29 01:05:05.332000+00:00  7.000000\n",
      "241          usk09 2023-04-07 02:09:57.872000+00:00  9.045053\n",
      "242          usk09 2023-04-13 12:47:09.061000+00:00  6.442491\n",
      "243          usk09 2023-04-21 08:38:51.886000+00:00  7.827579\n",
      "244          usk09 2023-04-29 04:38:29.166000+00:00  7.833070\n",
      "245          usk09 2023-05-07 02:08:04.712000+00:00  7.895550\n",
      "   240  Keep this row\n",
      "   241  Keep this row\n",
      "   242  Keep this row\n",
      "   243  Keep this row\n",
      "   244  Keep this row\n",
      "   245  Keep this row\n",
      " \n",
      "################################################################\n",
      " Start new check\n",
      "    id_participant                        timestamp   dt_days\n",
      "246          usk10 2023-04-08 05:19:01.979000+00:00  7.000000\n",
      "247          usk10 2023-04-12 10:04:07.671000+00:00  4.197983\n",
      "248          usk10 2023-04-19 01:04:11.534000+00:00  6.625045\n",
      "249          usk10 2023-04-24 09:00:27.047000+00:00  5.330735\n",
      "250          usk10 2023-05-03 09:00:37.411000+00:00  9.000120\n",
      "251          usk10 2023-05-09 02:24:16.955000+00:00  5.724763\n",
      "252          usk10 2023-05-11 05:05:05.758000+00:00  2.111676\n",
      "253          usk10 2023-05-13 04:50:38.993000+00:00  1.989968\n",
      "254          usk10 2023-05-17 01:01:05.343000+00:00  3.840583\n",
      "   246  Keep this row\n",
      "   247  Keep this row\n",
      "   248  Keep this row\n",
      "   249  Keep this row\n",
      "   250  Keep this row\n",
      "   251  Keep this row\n",
      "   252  Do not add this row\n",
      "   253  Add remaining rows\n",
      "   254  Add remaining rows\n",
      " \n",
      " Start new check\n",
      "    id_participant                        timestamp   dt_days\n",
      "246          usk10 2023-04-08 05:19:01.979000+00:00  7.000000\n",
      "247          usk10 2023-04-12 10:04:07.671000+00:00  4.197983\n",
      "248          usk10 2023-04-19 01:04:11.534000+00:00  6.625045\n",
      "249          usk10 2023-04-24 09:00:27.047000+00:00  5.330735\n",
      "250          usk10 2023-05-03 09:00:37.411000+00:00  9.000120\n",
      "251          usk10 2023-05-09 02:24:16.955000+00:00  5.724763\n",
      "253          usk10 2023-05-13 04:50:38.993000+00:00  4.101644\n",
      "254          usk10 2023-05-17 01:01:05.343000+00:00  3.840583\n",
      "   246  Keep this row\n",
      "   247  Keep this row\n",
      "   248  Keep this row\n",
      "   249  Keep this row\n",
      "   250  Keep this row\n",
      "   251  Keep this row\n",
      "   253  Keep this row\n",
      "   254  Do not add this row\n",
      " \n",
      " Start new check\n",
      "    id_participant                        timestamp   dt_days\n",
      "246          usk10 2023-04-08 05:19:01.979000+00:00  7.000000\n",
      "247          usk10 2023-04-12 10:04:07.671000+00:00  4.197983\n",
      "248          usk10 2023-04-19 01:04:11.534000+00:00  6.625045\n",
      "249          usk10 2023-04-24 09:00:27.047000+00:00  5.330735\n",
      "250          usk10 2023-05-03 09:00:37.411000+00:00  9.000120\n",
      "251          usk10 2023-05-09 02:24:16.955000+00:00  5.724763\n",
      "253          usk10 2023-05-13 04:50:38.993000+00:00  4.101644\n",
      "   246  Keep this row\n",
      "   247  Keep this row\n",
      "   248  Keep this row\n",
      "   249  Keep this row\n",
      "   250  Keep this row\n",
      "   251  Keep this row\n",
      "   253  Keep this row\n",
      " \n",
      "################################################################\n",
      " Start new check\n",
      "    id_participant                        timestamp   dt_days\n",
      "255          usk11 2023-04-08 06:04:23.216000+00:00  7.000000\n",
      "256          usk11 2023-04-17 06:01:08.873000+00:00  8.997751\n",
      "257          usk11 2023-04-22 06:54:25.458000+00:00  5.036998\n",
      "258          usk11 2023-04-29 10:50:35.654000+00:00  7.164007\n",
      "   255  Keep this row\n",
      "   256  Keep this row\n",
      "   257  Keep this row\n",
      "   258  Keep this row\n",
      " \n",
      "################################################################\n",
      " Start new check\n",
      "    id_participant                        timestamp   dt_days\n",
      "259          usk13 2023-04-06 00:54:41.542000+00:00  7.000000\n",
      "260          usk13 2023-04-14 04:05:05.109000+00:00  8.132217\n",
      "261          usk13 2023-04-18 11:01:48.545000+00:00  4.289392\n",
      "   259  Keep this row\n",
      "   260  Keep this row\n",
      "   261  Keep this row\n",
      " \n",
      "################################################################\n",
      " Start new check\n",
      "    id_participant                        timestamp   dt_days\n",
      "262          usk14 2023-04-05 01:06:55.437000+00:00  7.000000\n",
      "263          usk14 2023-04-13 08:07:53.549000+00:00  8.292339\n",
      "  Only two responses, keep all\n",
      "################################################################\n",
      " Start new check\n",
      "    id_participant                        timestamp    dt_days\n",
      "264          usk15 2023-04-05 06:05:47.470000+00:00   7.000000\n",
      "265          usk15 2023-04-13 08:03:13.495000+00:00   8.081551\n",
      "266          usk15 2023-04-24 14:03:33.021000+00:00  11.250226\n",
      "267          usk15 2023-04-30 13:50:59.970000+00:00   5.991284\n",
      "268          usk15 2023-05-03 02:17:07.406000+00:00   2.518142\n",
      "269          usk15 2023-05-07 07:54:09.004000+00:00   4.234046\n",
      "270          usk15 2023-05-14 09:19:49.232000+00:00   7.059493\n",
      "271          usk15 2023-05-16 10:02:35.240000+00:00   2.029699\n",
      "   264  Keep this row\n",
      "   265  Keep this row\n",
      "   266  Keep this row\n",
      "   267  Keep this row\n",
      "   268  Do not add this row\n",
      "   269  Add remaining rows\n",
      "   270  Add remaining rows\n",
      "   271  Add remaining rows\n",
      " \n",
      " Start new check\n",
      "    id_participant                        timestamp    dt_days\n",
      "264          usk15 2023-04-05 06:05:47.470000+00:00   7.000000\n",
      "265          usk15 2023-04-13 08:03:13.495000+00:00   8.081551\n",
      "266          usk15 2023-04-24 14:03:33.021000+00:00  11.250226\n",
      "267          usk15 2023-04-30 13:50:59.970000+00:00   5.991284\n",
      "269          usk15 2023-05-07 07:54:09.004000+00:00   6.752188\n",
      "270          usk15 2023-05-14 09:19:49.232000+00:00   7.059493\n",
      "271          usk15 2023-05-16 10:02:35.240000+00:00   2.029699\n",
      "   264  Keep this row\n",
      "   265  Keep this row\n",
      "   266  Keep this row\n",
      "   267  Keep this row\n",
      "   269  Keep this row\n",
      "   270  Keep this row\n",
      "   271  Do not add this row\n",
      " \n",
      " Start new check\n",
      "    id_participant                        timestamp    dt_days\n",
      "264          usk15 2023-04-05 06:05:47.470000+00:00   7.000000\n",
      "265          usk15 2023-04-13 08:03:13.495000+00:00   8.081551\n",
      "266          usk15 2023-04-24 14:03:33.021000+00:00  11.250226\n",
      "267          usk15 2023-04-30 13:50:59.970000+00:00   5.991284\n",
      "269          usk15 2023-05-07 07:54:09.004000+00:00   6.752188\n",
      "270          usk15 2023-05-14 09:19:49.232000+00:00   7.059493\n",
      "   264  Keep this row\n",
      "   265  Keep this row\n",
      "   266  Keep this row\n",
      "   267  Keep this row\n",
      "   269  Keep this row\n",
      "   270  Keep this row\n",
      " \n",
      "################################################################\n",
      " Start new check\n",
      "    id_participant                        timestamp   dt_days\n",
      "272          usk16 2023-04-13 04:59:26.041000+00:00  7.000000\n",
      "273          usk16 2023-04-15 00:47:07.743000+00:00  1.824788\n",
      "274          usk16 2023-04-22 07:20:51.113000+00:00  7.273419\n",
      "   272  Keep this row\n",
      "   273  Do not add this row\n",
      "   274  Add remaining rows\n",
      " \n",
      " Start new check\n",
      "    id_participant                        timestamp   dt_days\n",
      "272          usk16 2023-04-13 04:59:26.041000+00:00  7.000000\n",
      "274          usk16 2023-04-22 07:20:51.113000+00:00  9.098207\n",
      "  Only two responses, keep all\n",
      "################################################################\n",
      " Start new check\n",
      "    id_participant                        timestamp   dt_days\n",
      "275          usk17 2023-04-15 03:31:55.782000+00:00  7.000000\n",
      "276          usk17 2023-04-22 07:21:06.535000+00:00  7.159152\n",
      "277          usk17 2023-04-30 01:26:38.091000+00:00  7.753837\n",
      "   275  Keep this row\n",
      "   276  Keep this row\n",
      "   277  Keep this row\n",
      " \n",
      "################################################################\n",
      " Start new check\n",
      "    id_participant                        timestamp   dt_days\n",
      "278          usk18 2023-04-15 08:44:48.207000+00:00  7.000000\n",
      "279          usk18 2023-04-22 15:24:45.874000+00:00  7.277751\n",
      "280          usk18 2023-04-30 05:34:18.699000+00:00  7.589963\n",
      "281          usk18 2023-05-06 13:05:52.608000+00:00  6.313587\n",
      "   278  Keep this row\n",
      "   279  Keep this row\n",
      "   280  Keep this row\n",
      "   281  Keep this row\n",
      " \n",
      "################################################################\n",
      " Start new check\n",
      "    id_participant                        timestamp   dt_days\n",
      "282          usk19 2023-04-15 05:09:03.365000+00:00  7.000000\n",
      "283          usk19 2023-04-24 10:23:51.807000+00:00  9.218616\n",
      "284          usk19 2023-04-30 13:26:02.379000+00:00  6.126511\n",
      "285          usk19 2023-05-07 14:58:41.406000+00:00  7.064341\n",
      "286          usk19 2023-05-12 07:10:21.749000+00:00  4.674772\n",
      "287          usk19 2023-05-19 15:22:46.152000+00:00  7.341949\n",
      "288          usk19 2023-05-25 08:00:26.604000+00:00  5.692829\n",
      "   282  Keep this row\n",
      "   283  Keep this row\n",
      "   284  Keep this row\n",
      "   285  Keep this row\n",
      "   286  Keep this row\n",
      "   287  Keep this row\n",
      "   288  Keep this row\n",
      " \n",
      "################################################################\n",
      " Start new check\n",
      "    id_participant                        timestamp   dt_days\n",
      "289          usk20 2023-04-14 10:02:50.630000+00:00  7.000000\n",
      "290          usk20 2023-04-17 09:11:25.220000+00:00  2.964289\n",
      "291          usk20 2023-04-19 01:44:49.998000+00:00  1.689870\n",
      "292          usk20 2023-04-25 02:22:15.566000+00:00  6.025990\n",
      "293          usk20 2023-04-28 03:10:20.058000+00:00  3.033385\n",
      "   289  Keep this row\n",
      "   290  Do not add this row\n",
      "   291  Add remaining rows\n",
      "   292  Add remaining rows\n",
      "   293  Add remaining rows\n",
      " \n",
      " Start new check\n",
      "    id_participant                        timestamp   dt_days\n",
      "289          usk20 2023-04-14 10:02:50.630000+00:00  7.000000\n",
      "291          usk20 2023-04-19 01:44:49.998000+00:00  4.654159\n",
      "292          usk20 2023-04-25 02:22:15.566000+00:00  6.025990\n",
      "293          usk20 2023-04-28 03:10:20.058000+00:00  3.033385\n",
      "   289  Keep this row\n",
      "   291  Keep this row\n",
      "   292  Keep this row\n",
      "   293  Do not add this row\n",
      " \n",
      " Start new check\n",
      "    id_participant                        timestamp   dt_days\n",
      "289          usk20 2023-04-14 10:02:50.630000+00:00  7.000000\n",
      "291          usk20 2023-04-19 01:44:49.998000+00:00  4.654159\n",
      "292          usk20 2023-04-25 02:22:15.566000+00:00  6.025990\n",
      "   289  Keep this row\n",
      "   291  Keep this row\n",
      "   292  Keep this row\n",
      " \n",
      "################################################################\n",
      " Start new check\n",
      "    id_participant                        timestamp    dt_days\n",
      "294          usk21 2023-04-15 09:19:39.957000+00:00   7.000000\n",
      "295          usk21 2023-04-21 12:00:54.696000+00:00   6.111976\n",
      "296          usk21 2023-05-13 10:33:50.221000+00:00  21.939532\n",
      "   294  Keep this row\n",
      "   295  Keep this row\n",
      "   296  Keep this row\n",
      " \n",
      "################################################################\n",
      " Start new check\n",
      "    id_participant                        timestamp   dt_days\n",
      "297          usk22 2023-04-13 05:01:08.860000+00:00  7.000000\n",
      "298          usk22 2023-04-22 06:47:27.526000+00:00  9.073827\n",
      "299          usk22 2023-04-30 06:33:17.581000+00:00  7.990163\n",
      "   297  Keep this row\n",
      "   298  Keep this row\n",
      "   299  Keep this row\n",
      " \n",
      "################################################################\n",
      " Start new check\n",
      "    id_participant                        timestamp    dt_days\n",
      "300          usk23 2023-04-15 04:27:36.444000+00:00   7.000000\n",
      "301          usk23 2023-04-21 02:21:30.753000+00:00   5.912434\n",
      "302          usk23 2023-05-01 04:02:43.143000+00:00  10.070282\n",
      "   300  Keep this row\n",
      "   301  Keep this row\n",
      "   302  Keep this row\n",
      " \n",
      "################################################################\n",
      " Start new check\n",
      "    id_participant                        timestamp   dt_days\n",
      "303          usk24 2023-04-15 08:32:09.737000+00:00  7.000000\n",
      "304          usk24 2023-04-22 19:31:32.800000+00:00  7.457906\n",
      "  Only two responses, keep all\n",
      "################################################################\n",
      " Start new check\n",
      "    id_participant                        timestamp   dt_days\n",
      "305          usk25 2023-04-19 03:35:49.464000+00:00  7.000000\n",
      "306          usk25 2023-04-28 03:31:56.216000+00:00  8.997300\n",
      "307          usk25 2023-05-01 03:16:20.217000+00:00  2.989167\n",
      "   305  Keep this row\n",
      "   306  Keep this row\n",
      "   307  Do not add this row\n",
      " \n",
      " Start new check\n",
      "    id_participant                        timestamp  dt_days\n",
      "305          usk25 2023-04-19 03:35:49.464000+00:00   7.0000\n",
      "306          usk25 2023-04-28 03:31:56.216000+00:00   8.9973\n",
      "  Only two responses, keep all\n",
      "################################################################\n",
      " Start new check\n",
      "    id_participant                        timestamp    dt_days\n",
      "308          usk26 2023-04-19 01:06:47.873000+00:00   7.000000\n",
      "309          usk26 2023-05-03 01:04:24.496000+00:00  13.998341\n",
      "310          usk26 2023-05-07 05:04:30.030000+00:00   4.166731\n",
      "311          usk26 2023-05-10 01:12:04.306000+00:00   2.838591\n",
      "312          usk26 2023-05-17 01:05:36.423000+00:00   6.995511\n",
      "313          usk26 2023-05-21 02:55:45.077000+00:00   4.076489\n",
      "   308  Keep this row\n",
      "   309  Keep this row\n",
      "   310  Keep this row\n",
      "   311  Do not add this row\n",
      "   312  Add remaining rows\n",
      "   313  Add remaining rows\n",
      " \n",
      " Start new check\n",
      "    id_participant                        timestamp    dt_days\n",
      "308          usk26 2023-04-19 01:06:47.873000+00:00   7.000000\n",
      "309          usk26 2023-05-03 01:04:24.496000+00:00  13.998341\n",
      "310          usk26 2023-05-07 05:04:30.030000+00:00   4.166731\n",
      "312          usk26 2023-05-17 01:05:36.423000+00:00   9.834102\n",
      "313          usk26 2023-05-21 02:55:45.077000+00:00   4.076489\n",
      "   308  Keep this row\n",
      "   309  Keep this row\n",
      "   310  Keep this row\n",
      "   312  Keep this row\n",
      "   313  Keep this row\n",
      " \n",
      "################################################################\n",
      " Start new check\n",
      "    id_participant                        timestamp    dt_days\n",
      "314          usk27 2023-04-17 07:18:02.629000+00:00   7.000000\n",
      "315          usk27 2023-04-27 10:05:20.206000+00:00  10.116176\n",
      "316          usk27 2023-05-07 14:08:23.424000+00:00  10.168787\n",
      "   314  Keep this row\n",
      "   315  Keep this row\n",
      "   316  Keep this row\n",
      " \n",
      "################################################################\n",
      " Start new check\n",
      "    id_participant                        timestamp   dt_days\n",
      "317          usk28 2023-04-22 14:03:25.843000+00:00  7.000000\n",
      "318          usk28 2023-04-29 12:21:02.903000+00:00  6.928901\n",
      "319          usk28 2023-05-08 02:16:27.871000+00:00  8.580150\n",
      "320          usk28 2023-05-14 06:33:13.162000+00:00  6.178302\n",
      "321          usk28 2023-05-21 07:49:37.999000+00:00  7.053065\n",
      "322          usk28 2023-05-28 08:13:19.738000+00:00  7.016455\n",
      "   317  Keep this row\n",
      "   318  Keep this row\n",
      "   319  Keep this row\n",
      "   320  Keep this row\n",
      "   321  Keep this row\n",
      "   322  Keep this row\n",
      " \n",
      "################################################################\n",
      " Start new check\n",
      "    id_participant                        timestamp   dt_days\n",
      "323          usk29 2023-04-21 10:11:50.489000+00:00  7.000000\n",
      "324          usk29 2023-04-28 04:47:53.347000+00:00  6.775033\n",
      "325          usk29 2023-05-05 01:04:57.078000+00:00  6.845182\n",
      "   323  Keep this row\n",
      "   324  Keep this row\n",
      "   325  Keep this row\n",
      " \n",
      "################################################################\n",
      " Start new check\n",
      "    id_participant                        timestamp   dt_days\n",
      "326          usk30 2023-04-22 06:49:31.850000+00:00  7.000000\n",
      "327          usk30 2023-04-29 04:45:08.091000+00:00  6.913614\n",
      "328          usk30 2023-05-06 01:01:16.629000+00:00  6.844543\n",
      "329          usk30 2023-05-13 15:50:11.682000+00:00  7.617304\n",
      "   326  Keep this row\n",
      "   327  Keep this row\n",
      "   328  Keep this row\n",
      "   329  Keep this row\n",
      " \n",
      "################################################################\n",
      " Start new check\n",
      "    id_participant                        timestamp   dt_days\n",
      "330          usk31 2023-04-22 06:52:57.013000+00:00  7.000000\n",
      "331          usk31 2023-04-28 02:10:27.019000+00:00  5.803820\n",
      "332          usk31 2023-05-07 05:50:40.610000+00:00  9.152935\n",
      "333          usk31 2023-05-12 04:01:23.933000+00:00  4.924113\n",
      "334          usk31 2023-05-14 10:01:16.454000+00:00  2.249913\n",
      "335          usk31 2023-05-17 01:04:16.370000+00:00  2.627082\n",
      "336          usk31 2023-05-22 02:01:56.639000+00:00  5.040049\n",
      "337          usk31 2023-05-28 07:00:40.628000+00:00  6.207454\n",
      "   330  Keep this row\n",
      "   331  Keep this row\n",
      "   332  Keep this row\n",
      "   333  Keep this row\n",
      "   334  Do not add this row\n",
      "   335  Add remaining rows\n",
      "   336  Add remaining rows\n",
      "   337  Add remaining rows\n",
      " \n",
      " Start new check\n",
      "    id_participant                        timestamp   dt_days\n",
      "330          usk31 2023-04-22 06:52:57.013000+00:00  7.000000\n",
      "331          usk31 2023-04-28 02:10:27.019000+00:00  5.803820\n",
      "332          usk31 2023-05-07 05:50:40.610000+00:00  9.152935\n",
      "333          usk31 2023-05-12 04:01:23.933000+00:00  4.924113\n",
      "335          usk31 2023-05-17 01:04:16.370000+00:00  4.876996\n",
      "336          usk31 2023-05-22 02:01:56.639000+00:00  5.040049\n",
      "337          usk31 2023-05-28 07:00:40.628000+00:00  6.207454\n",
      "   330  Keep this row\n",
      "   331  Keep this row\n",
      "   332  Keep this row\n",
      "   333  Keep this row\n",
      "   335  Keep this row\n",
      "   336  Keep this row\n",
      "   337  Keep this row\n",
      " \n",
      "################################################################\n",
      " Start new check\n",
      "    id_participant                        timestamp   dt_days\n",
      "338          usk32 2023-04-19 05:53:59.078000+00:00  7.000000\n",
      "339          usk32 2023-04-29 05:12:30.639000+00:00  9.971199\n",
      "340          usk32 2023-05-07 04:46:08.915000+00:00  7.981693\n",
      "341          usk32 2023-05-10 01:04:25.358000+00:00  2.846024\n",
      "   338  Keep this row\n",
      "   339  Keep this row\n",
      "   340  Keep this row\n",
      "   341  Do not add this row\n",
      " \n",
      " Start new check\n",
      "    id_participant                        timestamp   dt_days\n",
      "338          usk32 2023-04-19 05:53:59.078000+00:00  7.000000\n",
      "339          usk32 2023-04-29 05:12:30.639000+00:00  9.971199\n",
      "340          usk32 2023-05-07 04:46:08.915000+00:00  7.981693\n",
      "   338  Keep this row\n",
      "   339  Keep this row\n",
      "   340  Keep this row\n",
      " \n",
      "################################################################\n",
      " Start new check\n",
      "    id_participant                        timestamp    dt_days\n",
      "342          usk33 2023-04-22 07:31:18.733000+00:00   7.000000\n",
      "343          usk33 2023-05-14 11:17:35.561000+00:00  22.157139\n",
      "  Only two responses, keep all\n",
      "################################################################\n",
      " Start new check\n",
      "    id_participant                        timestamp   dt_days\n",
      "344          usk34 2023-04-27 02:31:28.523000+00:00  7.000000\n",
      "345          usk34 2023-05-03 06:59:28.899000+00:00  6.186115\n",
      "346          usk34 2023-05-10 01:04:44.633000+00:00  6.753654\n",
      "347          usk34 2023-05-17 01:27:05.750000+00:00  7.015522\n",
      "   344  Keep this row\n",
      "   345  Keep this row\n",
      "   346  Keep this row\n",
      "   347  Keep this row\n",
      " \n",
      "################################################################\n",
      " Start new check\n",
      "    id_participant                        timestamp   dt_days\n",
      "348          usk35 2023-04-29 04:43:55.800000+00:00  7.000000\n",
      "349          usk35 2023-05-06 04:03:27.010000+00:00  6.971889\n",
      "  Only two responses, keep all\n",
      "################################################################\n",
      " Start new check\n",
      "    id_participant                        timestamp   dt_days\n",
      "350          usk36 2023-04-26 01:05:00.335000+00:00  7.000000\n",
      "351          usk36 2023-05-03 02:07:08.509000+00:00  7.043150\n",
      "352          usk36 2023-05-10 01:09:45.189000+00:00  6.960147\n",
      "   350  Keep this row\n",
      "   351  Keep this row\n",
      "   352  Keep this row\n",
      " \n",
      "################################################################\n",
      " Start new check\n",
      "    id_participant                        timestamp    dt_days\n",
      "353          usk37 2023-04-26 04:48:55.746000+00:00   7.000000\n",
      "354          usk37 2023-05-07 09:51:12.168000+00:00  11.209912\n",
      "  Only two responses, keep all\n",
      "################################################################\n",
      " Start new check\n",
      "    id_participant                        timestamp    dt_days\n",
      "355          usk38 2023-04-29 04:40:08.932000+00:00   7.000000\n",
      "356          usk38 2023-05-05 03:07:06.485000+00:00   5.935388\n",
      "357          usk38 2023-05-12 06:25:27.670000+00:00   7.137745\n",
      "358          usk38 2023-05-19 01:04:53.539000+00:00   6.777383\n",
      "359          usk38 2023-05-31 10:08:45.029000+00:00  12.377679\n",
      "   355  Keep this row\n",
      "   356  Keep this row\n",
      "   357  Keep this row\n",
      "   358  Keep this row\n",
      "   359  Keep this row\n",
      " \n",
      "################################################################\n",
      " Start new check\n",
      "    id_participant                        timestamp   dt_days\n",
      "360          usk39 2023-04-29 16:16:01.256000+00:00  7.000000\n",
      "361          usk39 2023-05-04 05:21:37.935000+00:00  4.545563\n",
      "  Only two responses, keep all\n",
      "################################################################\n",
      " Start new check\n",
      "    id_participant                        timestamp   dt_days\n",
      "362          usk40 2023-05-05 09:36:20.951000+00:00  7.000000\n",
      "363          usk40 2023-05-12 04:26:16.824000+00:00  6.784674\n",
      "364          usk40 2023-05-17 07:21:44.242000+00:00  5.121845\n",
      "   362  Keep this row\n",
      "   363  Keep this row\n",
      "   364  Keep this row\n",
      " \n",
      "################################################################\n",
      " Start new check\n",
      "    id_participant                        timestamp    dt_days\n",
      "365          usk41 2023-05-07 05:00:09.692000+00:00   7.000000\n",
      "366          usk41 2023-05-13 06:16:35.832000+00:00   6.053080\n",
      "367          usk41 2023-05-26 07:05:23.605000+00:00  13.033886\n",
      "368          usk41 2023-06-02 07:04:58.393000+00:00   6.999708\n",
      "   365  Keep this row\n",
      "   366  Keep this row\n",
      "   367  Keep this row\n",
      "   368  Keep this row\n",
      " \n",
      "################################################################\n",
      " Start new check\n",
      "    id_participant                        timestamp   dt_days\n",
      "369          usk42 2023-05-05 01:07:40.802000+00:00  7.000000\n",
      "370          usk42 2023-05-13 04:52:06.186000+00:00  8.155849\n",
      "371          usk42 2023-05-19 01:23:09.450000+00:00  5.854899\n",
      "372          usk42 2023-05-21 09:01:20.217000+00:00  2.318180\n",
      "373          usk42 2023-05-28 01:55:33.494000+00:00  6.704320\n",
      "374          usk42 2023-05-31 01:04:12.377000+00:00  2.964339\n",
      "375          usk42 2023-06-08 23:51:06.323000+00:00  8.949235\n",
      "   369  Keep this row\n",
      "   370  Keep this row\n",
      "   371  Keep this row\n",
      "   372  Do not add this row\n",
      "   373  Add remaining rows\n",
      "   374  Add remaining rows\n",
      "   375  Add remaining rows\n",
      " \n",
      " Start new check\n",
      "    id_participant                        timestamp   dt_days\n",
      "369          usk42 2023-05-05 01:07:40.802000+00:00  7.000000\n",
      "370          usk42 2023-05-13 04:52:06.186000+00:00  8.155849\n",
      "371          usk42 2023-05-19 01:23:09.450000+00:00  5.854899\n",
      "373          usk42 2023-05-28 01:55:33.494000+00:00  9.022501\n",
      "374          usk42 2023-05-31 01:04:12.377000+00:00  2.964339\n",
      "375          usk42 2023-06-08 23:51:06.323000+00:00  8.949235\n",
      "   369  Keep this row\n",
      "   370  Keep this row\n",
      "   371  Keep this row\n",
      "   373  Keep this row\n",
      "   374  Do not add this row\n",
      "   375  Add remaining rows\n",
      " \n",
      " Start new check\n",
      "    id_participant                        timestamp    dt_days\n",
      "369          usk42 2023-05-05 01:07:40.802000+00:00   7.000000\n",
      "370          usk42 2023-05-13 04:52:06.186000+00:00   8.155849\n",
      "371          usk42 2023-05-19 01:23:09.450000+00:00   5.854899\n",
      "373          usk42 2023-05-28 01:55:33.494000+00:00   9.022501\n",
      "375          usk42 2023-06-08 23:51:06.323000+00:00  11.913574\n",
      "   369  Keep this row\n",
      "   370  Keep this row\n",
      "   371  Keep this row\n",
      "   373  Keep this row\n",
      "   375  Keep this row\n",
      " \n",
      "################################################################\n",
      " Start new check\n",
      "    id_participant                        timestamp    dt_days\n",
      "376          usk43 2023-05-07 04:52:25.223000+00:00   7.000000\n",
      "377          usk43 2023-05-10 01:12:45.868000+00:00   2.847461\n",
      "378          usk43 2023-05-17 01:38:59.383000+00:00   7.018212\n",
      "379          usk43 2023-05-21 04:15:12.518000+00:00   4.108485\n",
      "380          usk43 2023-06-02 01:04:18.893000+00:00  11.867435\n",
      "   376  Keep this row\n",
      "   377  Do not add this row\n",
      "   378  Add remaining rows\n",
      "   379  Add remaining rows\n",
      "   380  Add remaining rows\n",
      " \n",
      " Start new check\n",
      "    id_participant                        timestamp    dt_days\n",
      "376          usk43 2023-05-07 04:52:25.223000+00:00   7.000000\n",
      "378          usk43 2023-05-17 01:38:59.383000+00:00   9.865673\n",
      "379          usk43 2023-05-21 04:15:12.518000+00:00   4.108485\n",
      "380          usk43 2023-06-02 01:04:18.893000+00:00  11.867435\n",
      "   376  Keep this row\n",
      "   378  Keep this row\n",
      "   379  Keep this row\n",
      "   380  Keep this row\n",
      " \n",
      "################################################################\n",
      " Start new check\n",
      "    id_participant                        timestamp   dt_days\n",
      "381          usk44 2023-05-07 05:17:34.536000+00:00  7.000000\n",
      "382          usk44 2023-05-13 05:15:46.843000+00:00  5.998754\n",
      "383          usk44 2023-05-19 03:01:16.484000+00:00  5.906593\n",
      "384          usk44 2023-05-21 03:47:02.318000+00:00  2.031780\n",
      "385          usk44 2023-05-28 07:01:30.948000+00:00  7.135054\n",
      "   381  Keep this row\n",
      "   382  Keep this row\n",
      "   383  Keep this row\n",
      "   384  Do not add this row\n",
      "   385  Add remaining rows\n",
      " \n",
      " Start new check\n",
      "    id_participant                        timestamp   dt_days\n",
      "381          usk44 2023-05-07 05:17:34.536000+00:00  7.000000\n",
      "382          usk44 2023-05-13 05:15:46.843000+00:00  5.998754\n",
      "383          usk44 2023-05-19 03:01:16.484000+00:00  5.906593\n",
      "385          usk44 2023-05-28 07:01:30.948000+00:00  9.166834\n",
      "   381  Keep this row\n",
      "   382  Keep this row\n",
      "   383  Keep this row\n",
      "   385  Keep this row\n",
      " \n",
      "################################################################\n",
      " Start new check\n",
      "    id_participant                        timestamp   dt_days\n",
      "386          usk45 2023-05-07 04:52:19.601000+00:00  7.000000\n",
      "387          usk45 2023-05-13 13:00:37.344000+00:00  6.339094\n",
      "388          usk45 2023-05-21 11:36:21.558000+00:00  7.941484\n",
      "389          usk45 2023-05-28 01:19:49.372000+00:00  6.571850\n",
      "390          usk45 2023-06-01 02:43:30.691000+00:00  4.058117\n",
      "   386  Keep this row\n",
      "   387  Keep this row\n",
      "   388  Keep this row\n",
      "   389  Keep this row\n",
      "   390  Keep this row\n",
      " \n",
      "################################################################\n",
      " Start new check\n",
      "    id_participant                        timestamp    dt_days\n",
      "391          usk46 2023-05-07 17:01:28.385000+00:00   7.000000\n",
      "392          usk46 2023-05-10 01:04:46.883000+00:00   2.335631\n",
      "393          usk46 2023-05-15 04:00:26.229000+00:00   5.121983\n",
      "394          usk46 2023-05-19 01:00:32.008000+00:00   3.875067\n",
      "395          usk46 2023-05-22 04:23:25.694000+00:00   3.140899\n",
      "396          usk46 2023-05-29 04:30:01.921000+00:00   7.004586\n",
      "397          usk46 2023-06-05 10:00:24.889000+00:00   7.229432\n",
      "398          usk46 2023-06-20 14:58:11.325000+00:00  15.206787\n",
      "399          usk46 2023-06-23 00:42:33.393000+00:00   2.405811\n",
      "   391  Keep this row\n",
      "   392  Do not add this row\n",
      "   393  Add remaining rows\n",
      "   394  Add remaining rows\n",
      "   395  Add remaining rows\n",
      "   396  Add remaining rows\n",
      "   397  Add remaining rows\n",
      "   398  Add remaining rows\n",
      "   399  Add remaining rows\n",
      " \n",
      " Start new check\n",
      "    id_participant                        timestamp    dt_days\n",
      "391          usk46 2023-05-07 17:01:28.385000+00:00   7.000000\n",
      "393          usk46 2023-05-15 04:00:26.229000+00:00   7.457614\n",
      "394          usk46 2023-05-19 01:00:32.008000+00:00   3.875067\n",
      "395          usk46 2023-05-22 04:23:25.694000+00:00   3.140899\n",
      "396          usk46 2023-05-29 04:30:01.921000+00:00   7.004586\n",
      "397          usk46 2023-06-05 10:00:24.889000+00:00   7.229432\n",
      "398          usk46 2023-06-20 14:58:11.325000+00:00  15.206787\n",
      "399          usk46 2023-06-23 00:42:33.393000+00:00   2.405811\n",
      "   391  Keep this row\n",
      "   393  Keep this row\n",
      "   394  Do not add this row\n",
      "   395  Add remaining rows\n",
      "   396  Add remaining rows\n",
      "   397  Add remaining rows\n",
      "   398  Add remaining rows\n",
      "   399  Add remaining rows\n",
      " \n",
      " Start new check\n",
      "    id_participant                        timestamp    dt_days\n",
      "391          usk46 2023-05-07 17:01:28.385000+00:00   7.000000\n",
      "393          usk46 2023-05-15 04:00:26.229000+00:00   7.457614\n",
      "395          usk46 2023-05-22 04:23:25.694000+00:00   7.015966\n",
      "396          usk46 2023-05-29 04:30:01.921000+00:00   7.004586\n",
      "397          usk46 2023-06-05 10:00:24.889000+00:00   7.229432\n",
      "398          usk46 2023-06-20 14:58:11.325000+00:00  15.206787\n",
      "399          usk46 2023-06-23 00:42:33.393000+00:00   2.405811\n",
      "   391  Keep this row\n",
      "   393  Keep this row\n",
      "   395  Keep this row\n",
      "   396  Keep this row\n",
      "   397  Keep this row\n",
      "   398  Keep this row\n",
      "   399  Do not add this row\n",
      " \n",
      " Start new check\n",
      "    id_participant                        timestamp    dt_days\n",
      "391          usk46 2023-05-07 17:01:28.385000+00:00   7.000000\n",
      "393          usk46 2023-05-15 04:00:26.229000+00:00   7.457614\n",
      "395          usk46 2023-05-22 04:23:25.694000+00:00   7.015966\n",
      "396          usk46 2023-05-29 04:30:01.921000+00:00   7.004586\n",
      "397          usk46 2023-06-05 10:00:24.889000+00:00   7.229432\n",
      "398          usk46 2023-06-20 14:58:11.325000+00:00  15.206787\n",
      "   391  Keep this row\n",
      "   393  Keep this row\n",
      "   395  Keep this row\n",
      "   396  Keep this row\n",
      "   397  Keep this row\n",
      "   398  Keep this row\n",
      " \n",
      "################################################################\n",
      " Start new check\n",
      "    id_participant                        timestamp   dt_days\n",
      "400          usk47 2023-05-13 13:01:33.344000+00:00  7.000000\n",
      "401          usk47 2023-05-20 18:01:25.843000+00:00  7.208247\n",
      "402          usk47 2023-05-27 04:49:06.808000+00:00  6.449780\n",
      "   400  Keep this row\n",
      "   401  Keep this row\n",
      "   402  Keep this row\n",
      " \n",
      "################################################################\n",
      " Start new check\n",
      "    id_participant                        timestamp    dt_days\n",
      "403          usk48 2023-05-03 08:31:42.612000+00:00   7.000000\n",
      "404          usk48 2023-05-13 14:40:41.140000+00:00  10.256233\n",
      "405          usk48 2023-05-21 12:23:11.961000+00:00   7.904523\n",
      "   403  Keep this row\n",
      "   404  Keep this row\n",
      "   405  Keep this row\n",
      " \n",
      "################################################################\n",
      " Start new check\n",
      "    id_participant                        timestamp   dt_days\n",
      "406          usk49 2023-05-07 10:41:54.913000+00:00  7.000000\n",
      "407          usk49 2023-05-13 09:40:23.289000+00:00  5.957273\n",
      "408          usk49 2023-05-20 11:03:11.478000+00:00  7.057502\n",
      "   406  Keep this row\n",
      "   407  Keep this row\n",
      "   408  Keep this row\n",
      " \n",
      "################################################################\n",
      " Start new check\n",
      "    id_participant                        timestamp   dt_days\n",
      "409          usk50 2023-05-07 05:19:26.297000+00:00  7.000000\n",
      "410          usk50 2023-05-13 10:53:40.121000+00:00  6.232104\n",
      "  Only two responses, keep all\n",
      "################################################################\n",
      " Start new check\n",
      "    id_participant                        timestamp    dt_days\n",
      "411          usk51 2023-05-07 08:09:49.322000+00:00   7.000000\n",
      "412          usk51 2023-05-15 08:25:04.497000+00:00   8.010592\n",
      "413          usk51 2023-06-19 11:37:48.339000+00:00  35.133841\n",
      "   411  Keep this row\n",
      "   412  Keep this row\n",
      "   413  Keep this row\n",
      " \n",
      "################################################################\n",
      " Start new check\n",
      "    id_participant                        timestamp    dt_days\n",
      "414          usk52 2023-05-07 06:40:13.589000+00:00   7.000000\n",
      "415          usk52 2023-05-18 07:56:03.299000+00:00  11.052659\n",
      "  Only two responses, keep all\n",
      "################################################################\n",
      " Start new check\n",
      "    id_participant                        timestamp    dt_days\n",
      "416          usk53 2023-05-10 05:13:45.784000+00:00   7.000000\n",
      "417          usk53 2023-05-24 02:51:29.790000+00:00  13.901204\n",
      "418          usk53 2023-05-31 01:07:44.292000+00:00   6.927946\n",
      "   416  Keep this row\n",
      "   417  Keep this row\n",
      "   418  Keep this row\n",
      " \n",
      "################################################################\n",
      " Start new check\n",
      "    id_participant                        timestamp   dt_days\n",
      "419          usk54 2023-05-13 13:51:46.011000+00:00  7.000000\n",
      "420          usk54 2023-05-21 02:55:51.487000+00:00  7.544508\n",
      "421          usk54 2023-05-26 16:22:59.740000+00:00  5.560512\n",
      "422          usk54 2023-06-01 11:32:16.919000+00:00  5.798115\n",
      "   419  Keep this row\n",
      "   420  Keep this row\n",
      "   421  Keep this row\n",
      "   422  Keep this row\n",
      " \n",
      "################################################################\n",
      " Start new check\n",
      "    id_participant                        timestamp    dt_days\n",
      "423          usk55 2023-05-21 08:17:53.989000+00:00   7.000000\n",
      "424          usk55 2023-05-26 11:09:39.204000+00:00   5.119273\n",
      "425          usk55 2023-06-09 16:18:34.998000+00:00  14.214535\n",
      "   423  Keep this row\n",
      "   424  Keep this row\n",
      "   425  Keep this row\n",
      " \n",
      "################################################################\n",
      " Start new check\n",
      "    id_participant                        timestamp   dt_days\n",
      "426          usk56 2023-05-21 04:53:13.177000+00:00  7.000000\n",
      "427          usk56 2023-05-24 01:04:41.697000+00:00  2.841302\n",
      "428          usk56 2023-05-31 01:04:39.258000+00:00  6.999972\n",
      "429          usk56 2023-06-07 04:13:21.181000+00:00  7.131041\n",
      "   426  Keep this row\n",
      "   427  Do not add this row\n",
      "   428  Add remaining rows\n",
      "   429  Add remaining rows\n",
      " \n",
      " Start new check\n",
      "    id_participant                        timestamp   dt_days\n",
      "426          usk56 2023-05-21 04:53:13.177000+00:00  7.000000\n",
      "428          usk56 2023-05-31 01:04:39.258000+00:00  9.841274\n",
      "429          usk56 2023-06-07 04:13:21.181000+00:00  7.131041\n",
      "   426  Keep this row\n",
      "   428  Keep this row\n",
      "   429  Keep this row\n",
      " \n",
      "Number of rows originally: 430\n",
      "Number of rows new: 380\n",
      "Dropped 50 rows\n"
     ]
    }
   ],
   "source": [
    "minimal_days_between_responses = 4\n",
    "minimal_number_of_responses = 2\n",
    "drop_count = 0\n",
    "df_new = pd.DataFrame()\n",
    "for id_participant, df_group in df.groupby('id_participant'):\n",
    "    print('################################################################')\n",
    "    # Convert timestamp to datetime\n",
    "    df_group['timestamp'] = pd.to_datetime(df_group['timestamp'])\n",
    "    \n",
    "\n",
    "    found_flag = True\n",
    "    while found_flag==True:\n",
    "        print(' Start new check')\n",
    "\n",
    "        # Compute time between responses\n",
    "        df_group['dt_days'] = df_group['timestamp'].diff().dt.total_seconds() / 60 / 60 / 24\n",
    "        df_group['dt_days'] = df_group['dt_days'].fillna(7) # Fill first row with 7 days, for it to be always valid\n",
    "        \n",
    "        print(df_group[['id_participant', 'timestamp', 'dt_days']])\n",
    "        if df_group.shape[0] <= minimal_number_of_responses:\n",
    "            # Keep all responses if there are only two responses available\n",
    "            print('  Only two responses, keep all')\n",
    "            found_flag = False\n",
    "            break\n",
    "\n",
    "        keep_index_list = []\n",
    "        found_flag = False\n",
    "        for index, row in df_group.iterrows():\n",
    "            row.head()\n",
    "            if found_flag==True:\n",
    "                # Keep remaining rows in this check\n",
    "                keep_index_list.append(index)\n",
    "                print('  ', index, ' Add remaining rows')\n",
    "                continue\n",
    "\n",
    "            if row['dt_days'] <= minimal_days_between_responses:\n",
    "                # Do not keep this row\n",
    "                found_flag = True\n",
    "                drop_count += 1\n",
    "                print('  ', index, ' Do not add this row')\n",
    "            else:\n",
    "                # Keep this row\n",
    "                keep_index_list.append(index)\n",
    "                print('  ', index, ' Keep this row')\n",
    "\n",
    "        # Apply filter\n",
    "        df_group = df_group.loc[keep_index_list]\n",
    "        print(' ')\n",
    "\n",
    "    df_new = pd.concat([df_new, df_group])\n",
    "\n",
    "# Drop helper column used during processing\n",
    "df_new = df_new.drop(columns=['dt_days'])\n",
    "\n",
    "print('Number of rows originally:', df.shape[0])\n",
    "print('Number of rows new:', df_new.shape[0])\n",
    "print('Dropped', drop_count, 'rows')\n"
   ]
  },
  {
   "cell_type": "markdown",
   "metadata": {},
   "source": [
    "## Vizualize processed data"
   ]
  },
  {
   "cell_type": "code",
   "execution_count": 24,
   "metadata": {},
   "outputs": [
    {
     "data": {
      "application/vnd.plotly.v1+json": {
       "config": {
        "plotlyServerURL": "https://plot.ly"
       },
       "data": [
        {
         "name": "Original Data",
         "offset": -0.6,
         "type": "bar",
         "x": [
          "orenth01",
          "orenth02",
          "orenth03",
          "orenth04",
          "orenth05",
          "orenth06",
          "orenth07",
          "orenth08",
          "orenth09",
          "orenth10",
          "orenth11",
          "orenth12",
          "orenth13",
          "orenth14",
          "orenth15",
          "orenth16",
          "orenth17",
          "orenth18",
          "orenth19",
          "orenth20",
          "orenth21",
          "orenth22",
          "orenth23",
          "orenth24",
          "orenth25",
          "orenth26",
          "orenth27",
          "orenth28",
          "orenth29",
          "orenth31",
          "orenth32",
          "orenth33",
          "orenth34",
          "orenth35",
          "orenth36",
          "orenth37",
          "orenth38",
          "orenth39",
          "orenth40",
          "orenth41",
          "orenth42",
          "orenth43",
          "orenth44",
          "orenth45",
          "orenth46",
          "orenth48",
          "orenth49",
          "orenth50",
          "usk01",
          "usk02",
          "usk03",
          "usk04",
          "usk05",
          "usk06",
          "usk07",
          "usk08",
          "usk09",
          "usk10",
          "usk11",
          "usk13",
          "usk14",
          "usk15",
          "usk16",
          "usk17",
          "usk18",
          "usk19",
          "usk20",
          "usk21",
          "usk22",
          "usk23",
          "usk24",
          "usk25",
          "usk26",
          "usk27",
          "usk28",
          "usk29",
          "usk30",
          "usk31",
          "usk32",
          "usk33",
          "usk34",
          "usk35",
          "usk36",
          "usk37",
          "usk38",
          "usk39",
          "usk40",
          "usk41",
          "usk42",
          "usk43",
          "usk44",
          "usk45",
          "usk46",
          "usk47",
          "usk48",
          "usk49",
          "usk50",
          "usk51",
          "usk52",
          "usk53",
          "usk54",
          "usk55",
          "usk56"
         ],
         "xaxis": "x",
         "y": [
          3,
          6,
          3,
          3,
          4,
          3,
          3,
          4,
          3,
          2,
          2,
          4,
          3,
          5,
          5,
          5,
          3,
          4,
          4,
          3,
          4,
          3,
          3,
          2,
          2,
          4,
          7,
          10,
          13,
          7,
          5,
          5,
          6,
          6,
          2,
          3,
          6,
          2,
          3,
          3,
          7,
          2,
          5,
          3,
          2,
          5,
          4,
          3,
          4,
          3,
          7,
          5,
          5,
          3,
          7,
          7,
          6,
          9,
          4,
          3,
          2,
          8,
          3,
          3,
          4,
          7,
          5,
          3,
          3,
          3,
          2,
          3,
          6,
          3,
          6,
          3,
          4,
          8,
          4,
          2,
          4,
          2,
          3,
          2,
          5,
          2,
          3,
          4,
          7,
          5,
          5,
          5,
          9,
          3,
          3,
          3,
          2,
          3,
          2,
          3,
          4,
          3,
          4
         ],
         "yaxis": "y"
        },
        {
         "name": "After processing",
         "type": "bar",
         "x": [
          "orenth01",
          "orenth02",
          "orenth03",
          "orenth04",
          "orenth05",
          "orenth06",
          "orenth07",
          "orenth08",
          "orenth09",
          "orenth10",
          "orenth11",
          "orenth12",
          "orenth13",
          "orenth14",
          "orenth15",
          "orenth16",
          "orenth17",
          "orenth18",
          "orenth19",
          "orenth20",
          "orenth21",
          "orenth22",
          "orenth23",
          "orenth24",
          "orenth25",
          "orenth26",
          "orenth27",
          "orenth28",
          "orenth29",
          "orenth31",
          "orenth32",
          "orenth33",
          "orenth34",
          "orenth35",
          "orenth36",
          "orenth37",
          "orenth38",
          "orenth39",
          "orenth40",
          "orenth41",
          "orenth42",
          "orenth43",
          "orenth44",
          "orenth45",
          "orenth46",
          "orenth48",
          "orenth49",
          "orenth50",
          "usk01",
          "usk02",
          "usk03",
          "usk04",
          "usk05",
          "usk06",
          "usk07",
          "usk08",
          "usk09",
          "usk10",
          "usk11",
          "usk13",
          "usk14",
          "usk15",
          "usk16",
          "usk17",
          "usk18",
          "usk19",
          "usk20",
          "usk21",
          "usk22",
          "usk23",
          "usk24",
          "usk25",
          "usk26",
          "usk27",
          "usk28",
          "usk29",
          "usk30",
          "usk31",
          "usk32",
          "usk33",
          "usk34",
          "usk35",
          "usk36",
          "usk37",
          "usk38",
          "usk39",
          "usk40",
          "usk41",
          "usk42",
          "usk43",
          "usk44",
          "usk45",
          "usk46",
          "usk47",
          "usk48",
          "usk49",
          "usk50",
          "usk51",
          "usk52",
          "usk53",
          "usk54",
          "usk55",
          "usk56"
         ],
         "xaxis": "x",
         "y": [
          3,
          4,
          3,
          3,
          4,
          3,
          3,
          4,
          3,
          2,
          2,
          3,
          3,
          4,
          5,
          5,
          3,
          4,
          4,
          3,
          3,
          3,
          2,
          2,
          2,
          4,
          6,
          7,
          7,
          5,
          5,
          5,
          5,
          5,
          2,
          3,
          4,
          2,
          3,
          3,
          7,
          2,
          5,
          3,
          2,
          5,
          3,
          3,
          3,
          3,
          4,
          4,
          4,
          3,
          6,
          6,
          6,
          7,
          4,
          3,
          2,
          6,
          2,
          3,
          4,
          7,
          3,
          3,
          3,
          3,
          2,
          2,
          5,
          3,
          6,
          3,
          4,
          7,
          3,
          2,
          4,
          2,
          3,
          2,
          5,
          2,
          3,
          4,
          5,
          4,
          4,
          5,
          6,
          3,
          3,
          3,
          2,
          3,
          2,
          3,
          4,
          3,
          3
         ],
         "yaxis": "y"
        }
       ],
       "layout": {
        "bargap": 0.3,
        "bargroupgap": 0.4,
        "barmode": "overlay",
        "height": 600,
        "template": {
         "data": {
          "bar": [
           {
            "error_x": {
             "color": "#2a3f5f"
            },
            "error_y": {
             "color": "#2a3f5f"
            },
            "marker": {
             "line": {
              "color": "#E5ECF6",
              "width": 0.5
             },
             "pattern": {
              "fillmode": "overlay",
              "size": 10,
              "solidity": 0.2
             }
            },
            "type": "bar"
           }
          ],
          "barpolar": [
           {
            "marker": {
             "line": {
              "color": "#E5ECF6",
              "width": 0.5
             },
             "pattern": {
              "fillmode": "overlay",
              "size": 10,
              "solidity": 0.2
             }
            },
            "type": "barpolar"
           }
          ],
          "carpet": [
           {
            "aaxis": {
             "endlinecolor": "#2a3f5f",
             "gridcolor": "white",
             "linecolor": "white",
             "minorgridcolor": "white",
             "startlinecolor": "#2a3f5f"
            },
            "baxis": {
             "endlinecolor": "#2a3f5f",
             "gridcolor": "white",
             "linecolor": "white",
             "minorgridcolor": "white",
             "startlinecolor": "#2a3f5f"
            },
            "type": "carpet"
           }
          ],
          "choropleth": [
           {
            "colorbar": {
             "outlinewidth": 0,
             "ticks": ""
            },
            "type": "choropleth"
           }
          ],
          "contour": [
           {
            "colorbar": {
             "outlinewidth": 0,
             "ticks": ""
            },
            "colorscale": [
             [
              0,
              "#0d0887"
             ],
             [
              0.1111111111111111,
              "#46039f"
             ],
             [
              0.2222222222222222,
              "#7201a8"
             ],
             [
              0.3333333333333333,
              "#9c179e"
             ],
             [
              0.4444444444444444,
              "#bd3786"
             ],
             [
              0.5555555555555556,
              "#d8576b"
             ],
             [
              0.6666666666666666,
              "#ed7953"
             ],
             [
              0.7777777777777778,
              "#fb9f3a"
             ],
             [
              0.8888888888888888,
              "#fdca26"
             ],
             [
              1,
              "#f0f921"
             ]
            ],
            "type": "contour"
           }
          ],
          "contourcarpet": [
           {
            "colorbar": {
             "outlinewidth": 0,
             "ticks": ""
            },
            "type": "contourcarpet"
           }
          ],
          "heatmap": [
           {
            "colorbar": {
             "outlinewidth": 0,
             "ticks": ""
            },
            "colorscale": [
             [
              0,
              "#0d0887"
             ],
             [
              0.1111111111111111,
              "#46039f"
             ],
             [
              0.2222222222222222,
              "#7201a8"
             ],
             [
              0.3333333333333333,
              "#9c179e"
             ],
             [
              0.4444444444444444,
              "#bd3786"
             ],
             [
              0.5555555555555556,
              "#d8576b"
             ],
             [
              0.6666666666666666,
              "#ed7953"
             ],
             [
              0.7777777777777778,
              "#fb9f3a"
             ],
             [
              0.8888888888888888,
              "#fdca26"
             ],
             [
              1,
              "#f0f921"
             ]
            ],
            "type": "heatmap"
           }
          ],
          "heatmapgl": [
           {
            "colorbar": {
             "outlinewidth": 0,
             "ticks": ""
            },
            "colorscale": [
             [
              0,
              "#0d0887"
             ],
             [
              0.1111111111111111,
              "#46039f"
             ],
             [
              0.2222222222222222,
              "#7201a8"
             ],
             [
              0.3333333333333333,
              "#9c179e"
             ],
             [
              0.4444444444444444,
              "#bd3786"
             ],
             [
              0.5555555555555556,
              "#d8576b"
             ],
             [
              0.6666666666666666,
              "#ed7953"
             ],
             [
              0.7777777777777778,
              "#fb9f3a"
             ],
             [
              0.8888888888888888,
              "#fdca26"
             ],
             [
              1,
              "#f0f921"
             ]
            ],
            "type": "heatmapgl"
           }
          ],
          "histogram": [
           {
            "marker": {
             "pattern": {
              "fillmode": "overlay",
              "size": 10,
              "solidity": 0.2
             }
            },
            "type": "histogram"
           }
          ],
          "histogram2d": [
           {
            "colorbar": {
             "outlinewidth": 0,
             "ticks": ""
            },
            "colorscale": [
             [
              0,
              "#0d0887"
             ],
             [
              0.1111111111111111,
              "#46039f"
             ],
             [
              0.2222222222222222,
              "#7201a8"
             ],
             [
              0.3333333333333333,
              "#9c179e"
             ],
             [
              0.4444444444444444,
              "#bd3786"
             ],
             [
              0.5555555555555556,
              "#d8576b"
             ],
             [
              0.6666666666666666,
              "#ed7953"
             ],
             [
              0.7777777777777778,
              "#fb9f3a"
             ],
             [
              0.8888888888888888,
              "#fdca26"
             ],
             [
              1,
              "#f0f921"
             ]
            ],
            "type": "histogram2d"
           }
          ],
          "histogram2dcontour": [
           {
            "colorbar": {
             "outlinewidth": 0,
             "ticks": ""
            },
            "colorscale": [
             [
              0,
              "#0d0887"
             ],
             [
              0.1111111111111111,
              "#46039f"
             ],
             [
              0.2222222222222222,
              "#7201a8"
             ],
             [
              0.3333333333333333,
              "#9c179e"
             ],
             [
              0.4444444444444444,
              "#bd3786"
             ],
             [
              0.5555555555555556,
              "#d8576b"
             ],
             [
              0.6666666666666666,
              "#ed7953"
             ],
             [
              0.7777777777777778,
              "#fb9f3a"
             ],
             [
              0.8888888888888888,
              "#fdca26"
             ],
             [
              1,
              "#f0f921"
             ]
            ],
            "type": "histogram2dcontour"
           }
          ],
          "mesh3d": [
           {
            "colorbar": {
             "outlinewidth": 0,
             "ticks": ""
            },
            "type": "mesh3d"
           }
          ],
          "parcoords": [
           {
            "line": {
             "colorbar": {
              "outlinewidth": 0,
              "ticks": ""
             }
            },
            "type": "parcoords"
           }
          ],
          "pie": [
           {
            "automargin": true,
            "type": "pie"
           }
          ],
          "scatter": [
           {
            "fillpattern": {
             "fillmode": "overlay",
             "size": 10,
             "solidity": 0.2
            },
            "type": "scatter"
           }
          ],
          "scatter3d": [
           {
            "line": {
             "colorbar": {
              "outlinewidth": 0,
              "ticks": ""
             }
            },
            "marker": {
             "colorbar": {
              "outlinewidth": 0,
              "ticks": ""
             }
            },
            "type": "scatter3d"
           }
          ],
          "scattercarpet": [
           {
            "marker": {
             "colorbar": {
              "outlinewidth": 0,
              "ticks": ""
             }
            },
            "type": "scattercarpet"
           }
          ],
          "scattergeo": [
           {
            "marker": {
             "colorbar": {
              "outlinewidth": 0,
              "ticks": ""
             }
            },
            "type": "scattergeo"
           }
          ],
          "scattergl": [
           {
            "marker": {
             "colorbar": {
              "outlinewidth": 0,
              "ticks": ""
             }
            },
            "type": "scattergl"
           }
          ],
          "scattermapbox": [
           {
            "marker": {
             "colorbar": {
              "outlinewidth": 0,
              "ticks": ""
             }
            },
            "type": "scattermapbox"
           }
          ],
          "scatterpolar": [
           {
            "marker": {
             "colorbar": {
              "outlinewidth": 0,
              "ticks": ""
             }
            },
            "type": "scatterpolar"
           }
          ],
          "scatterpolargl": [
           {
            "marker": {
             "colorbar": {
              "outlinewidth": 0,
              "ticks": ""
             }
            },
            "type": "scatterpolargl"
           }
          ],
          "scatterternary": [
           {
            "marker": {
             "colorbar": {
              "outlinewidth": 0,
              "ticks": ""
             }
            },
            "type": "scatterternary"
           }
          ],
          "surface": [
           {
            "colorbar": {
             "outlinewidth": 0,
             "ticks": ""
            },
            "colorscale": [
             [
              0,
              "#0d0887"
             ],
             [
              0.1111111111111111,
              "#46039f"
             ],
             [
              0.2222222222222222,
              "#7201a8"
             ],
             [
              0.3333333333333333,
              "#9c179e"
             ],
             [
              0.4444444444444444,
              "#bd3786"
             ],
             [
              0.5555555555555556,
              "#d8576b"
             ],
             [
              0.6666666666666666,
              "#ed7953"
             ],
             [
              0.7777777777777778,
              "#fb9f3a"
             ],
             [
              0.8888888888888888,
              "#fdca26"
             ],
             [
              1,
              "#f0f921"
             ]
            ],
            "type": "surface"
           }
          ],
          "table": [
           {
            "cells": {
             "fill": {
              "color": "#EBF0F8"
             },
             "line": {
              "color": "white"
             }
            },
            "header": {
             "fill": {
              "color": "#C8D4E3"
             },
             "line": {
              "color": "white"
             }
            },
            "type": "table"
           }
          ]
         },
         "layout": {
          "annotationdefaults": {
           "arrowcolor": "#2a3f5f",
           "arrowhead": 0,
           "arrowwidth": 1
          },
          "autotypenumbers": "strict",
          "coloraxis": {
           "colorbar": {
            "outlinewidth": 0,
            "ticks": ""
           }
          },
          "colorscale": {
           "diverging": [
            [
             0,
             "#8e0152"
            ],
            [
             0.1,
             "#c51b7d"
            ],
            [
             0.2,
             "#de77ae"
            ],
            [
             0.3,
             "#f1b6da"
            ],
            [
             0.4,
             "#fde0ef"
            ],
            [
             0.5,
             "#f7f7f7"
            ],
            [
             0.6,
             "#e6f5d0"
            ],
            [
             0.7,
             "#b8e186"
            ],
            [
             0.8,
             "#7fbc41"
            ],
            [
             0.9,
             "#4d9221"
            ],
            [
             1,
             "#276419"
            ]
           ],
           "sequential": [
            [
             0,
             "#0d0887"
            ],
            [
             0.1111111111111111,
             "#46039f"
            ],
            [
             0.2222222222222222,
             "#7201a8"
            ],
            [
             0.3333333333333333,
             "#9c179e"
            ],
            [
             0.4444444444444444,
             "#bd3786"
            ],
            [
             0.5555555555555556,
             "#d8576b"
            ],
            [
             0.6666666666666666,
             "#ed7953"
            ],
            [
             0.7777777777777778,
             "#fb9f3a"
            ],
            [
             0.8888888888888888,
             "#fdca26"
            ],
            [
             1,
             "#f0f921"
            ]
           ],
           "sequentialminus": [
            [
             0,
             "#0d0887"
            ],
            [
             0.1111111111111111,
             "#46039f"
            ],
            [
             0.2222222222222222,
             "#7201a8"
            ],
            [
             0.3333333333333333,
             "#9c179e"
            ],
            [
             0.4444444444444444,
             "#bd3786"
            ],
            [
             0.5555555555555556,
             "#d8576b"
            ],
            [
             0.6666666666666666,
             "#ed7953"
            ],
            [
             0.7777777777777778,
             "#fb9f3a"
            ],
            [
             0.8888888888888888,
             "#fdca26"
            ],
            [
             1,
             "#f0f921"
            ]
           ]
          },
          "colorway": [
           "#636efa",
           "#EF553B",
           "#00cc96",
           "#ab63fa",
           "#FFA15A",
           "#19d3f3",
           "#FF6692",
           "#B6E880",
           "#FF97FF",
           "#FECB52"
          ],
          "font": {
           "color": "#2a3f5f"
          },
          "geo": {
           "bgcolor": "white",
           "lakecolor": "white",
           "landcolor": "#E5ECF6",
           "showlakes": true,
           "showland": true,
           "subunitcolor": "white"
          },
          "hoverlabel": {
           "align": "left"
          },
          "hovermode": "closest",
          "mapbox": {
           "style": "light"
          },
          "paper_bgcolor": "white",
          "plot_bgcolor": "#E5ECF6",
          "polar": {
           "angularaxis": {
            "gridcolor": "white",
            "linecolor": "white",
            "ticks": ""
           },
           "bgcolor": "#E5ECF6",
           "radialaxis": {
            "gridcolor": "white",
            "linecolor": "white",
            "ticks": ""
           }
          },
          "scene": {
           "xaxis": {
            "backgroundcolor": "#E5ECF6",
            "gridcolor": "white",
            "gridwidth": 2,
            "linecolor": "white",
            "showbackground": true,
            "ticks": "",
            "zerolinecolor": "white"
           },
           "yaxis": {
            "backgroundcolor": "#E5ECF6",
            "gridcolor": "white",
            "gridwidth": 2,
            "linecolor": "white",
            "showbackground": true,
            "ticks": "",
            "zerolinecolor": "white"
           },
           "zaxis": {
            "backgroundcolor": "#E5ECF6",
            "gridcolor": "white",
            "gridwidth": 2,
            "linecolor": "white",
            "showbackground": true,
            "ticks": "",
            "zerolinecolor": "white"
           }
          },
          "shapedefaults": {
           "line": {
            "color": "#2a3f5f"
           }
          },
          "ternary": {
           "aaxis": {
            "gridcolor": "white",
            "linecolor": "white",
            "ticks": ""
           },
           "baxis": {
            "gridcolor": "white",
            "linecolor": "white",
            "ticks": ""
           },
           "bgcolor": "#E5ECF6",
           "caxis": {
            "gridcolor": "white",
            "linecolor": "white",
            "ticks": ""
           }
          },
          "title": {
           "x": 0.05
          },
          "xaxis": {
           "automargin": true,
           "gridcolor": "white",
           "linecolor": "white",
           "ticks": "",
           "title": {
            "standoff": 15
           },
           "zerolinecolor": "white",
           "zerolinewidth": 2
          },
          "yaxis": {
           "automargin": true,
           "gridcolor": "white",
           "linecolor": "white",
           "ticks": "",
           "title": {
            "standoff": 15
           },
           "zerolinecolor": "white",
           "zerolinewidth": 2
          }
         }
        },
        "title": {
         "text": "Number of weekly survey responses per participant",
         "x": 0.5
        },
        "width": 2000,
        "xaxis": {
         "anchor": "y",
         "domain": [
          0,
          1
         ],
         "tickangle": -90,
         "title": {
          "text": "Participant ID"
         }
        },
        "yaxis": {
         "anchor": "x",
         "domain": [
          0,
          1
         ],
         "range": [
          0,
          14
         ],
         "title": {
          "text": "Number of weekly survey responses"
         }
        }
       }
      }
     },
     "metadata": {},
     "output_type": "display_data"
    }
   ],
   "source": [
    "fig = make_subplots(rows=1, cols=1)\n",
    "\n",
    "\n",
    "counts_original = df['id_participant'].value_counts(sort=False)\n",
    "counts_new = df_new['id_participant'].value_counts(sort=False)\n",
    "fig.add_trace(\n",
    "    go.Bar(x=counts_original.index, y=counts_original.values, name='Original Data', offset=-0.6),\n",
    "    row=1, col=1\n",
    ")\n",
    "\n",
    "fig.add_trace(\n",
    "    go.Bar(x=counts_new.index, y=counts_new.values, name='After processing'),\n",
    "    row=1, col=1\n",
    ")\n",
    "\n",
    "fig.update_xaxes(\n",
    "    title_text='Participant ID',\n",
    "    tickangle=-90\n",
    ")\n",
    "fig.update_yaxes(\n",
    "    range=[0, 14],  # Range of ticks\n",
    "    title_text='Number of weekly survey responses',\n",
    ")\n",
    "\n",
    "fig.update_layout(\n",
    "    title='Number of weekly survey responses per participant',\n",
    "    title_x=0.5,  # Align title to center\n",
    "    barmode='overlay',  # Ensures bars are grouped\n",
    "    bargap=0.3,       # Adjust spacing between groups\n",
    "    bargroupgap=0.4,   # Adjust overlap within groups\n",
    "    height=600,\n",
    "    width=2000,\n",
    ")\n",
    "\n",
    "fig.show()\n",
    "fig.write_html('number_of_weekly_survey_responses_bar.html')\n",
    "fig.write_image('number_of_weekly_survey_responses_bar.png')"
   ]
  },
  {
   "cell_type": "code",
   "execution_count": 25,
   "metadata": {},
   "outputs": [
    {
     "data": {
      "application/vnd.plotly.v1+json": {
       "config": {
        "plotlyServerURL": "https://plot.ly"
       },
       "data": [
        {
         "marker": {
          "color": "rgb(255, 127, 14)",
          "size": 6,
          "symbol": "circle-open"
         },
         "mode": "markers",
         "name": "orenth01",
         "type": "scatter",
         "x": [
          "2022-10-10 14:22:56.671000+00:00",
          "2022-10-20 01:44:32.965000+00:00",
          "2022-10-26 07:31:27.555000+00:00"
         ],
         "xaxis": "x",
         "y": [
          1,
          1,
          1
         ],
         "yaxis": "y"
        },
        {
         "marker": {
          "color": "rgb(44, 160, 44)",
          "size": 6,
          "symbol": "circle-open"
         },
         "mode": "markers",
         "name": "orenth02",
         "type": "scatter",
         "x": [
          "2022-10-12 01:13:47.044000+00:00",
          "2022-10-17 01:01:01.540000+00:00",
          "2022-10-18 04:00:47.730000+00:00",
          "2022-10-25 04:01:38.304000+00:00",
          "2022-10-31 04:03:46.410000+00:00",
          "2022-10-31 04:04:13.499000+00:00"
         ],
         "xaxis": "x",
         "y": [
          2,
          2,
          2,
          2,
          2,
          2
         ],
         "yaxis": "y"
        },
        {
         "marker": {
          "color": "rgb(214, 39, 40)",
          "size": 6,
          "symbol": "circle-open"
         },
         "mode": "markers",
         "name": "orenth03",
         "type": "scatter",
         "x": [
          "2022-10-10 11:00:02.929000+00:00",
          "2022-10-20 05:58:23.456000+00:00",
          "2022-10-26 07:37:07.770000+00:00"
         ],
         "xaxis": "x",
         "y": [
          3,
          3,
          3
         ],
         "yaxis": "y"
        },
        {
         "marker": {
          "color": "rgb(148, 103, 189)",
          "size": 6,
          "symbol": "circle-open"
         },
         "mode": "markers",
         "name": "orenth04",
         "type": "scatter",
         "x": [
          "2022-10-12 03:44:37.217000+00:00",
          "2022-10-23 04:29:12.833000+00:00",
          "2022-11-03 10:06:18.638000+00:00"
         ],
         "xaxis": "x",
         "y": [
          4,
          4,
          4
         ],
         "yaxis": "y"
        },
        {
         "marker": {
          "color": "rgb(140, 86, 75)",
          "size": 6,
          "symbol": "circle-open"
         },
         "mode": "markers",
         "name": "orenth05",
         "type": "scatter",
         "x": [
          "2022-10-23 11:00:11.359000+00:00",
          "2022-10-29 16:12:29.548000+00:00",
          "2022-11-04 10:43:44.313000+00:00",
          "2022-11-13 13:18:00.918000+00:00"
         ],
         "xaxis": "x",
         "y": [
          5,
          5,
          5,
          5
         ],
         "yaxis": "y"
        },
        {
         "marker": {
          "color": "rgb(227, 119, 194)",
          "size": 6,
          "symbol": "circle-open"
         },
         "mode": "markers",
         "name": "orenth06",
         "type": "scatter",
         "x": [
          "2022-10-20 01:44:14.293000+00:00",
          "2022-10-26 06:14:13.537000+00:00",
          "2022-11-02 01:14:33.271000+00:00"
         ],
         "xaxis": "x",
         "y": [
          6,
          6,
          6
         ],
         "yaxis": "y"
        },
        {
         "marker": {
          "color": "rgb(127, 127, 127)",
          "size": 6,
          "symbol": "circle-open"
         },
         "mode": "markers",
         "name": "orenth07",
         "type": "scatter",
         "x": [
          "2022-10-20 02:03:03.913000+00:00",
          "2022-10-26 07:13:22.249000+00:00",
          "2022-11-03 04:25:29.545000+00:00"
         ],
         "xaxis": "x",
         "y": [
          7,
          7,
          7
         ],
         "yaxis": "y"
        },
        {
         "marker": {
          "color": "rgb(188, 189, 34)",
          "size": 6,
          "symbol": "circle-open"
         },
         "mode": "markers",
         "name": "orenth08",
         "type": "scatter",
         "x": [
          "2022-10-27 09:11:54.515000+00:00",
          "2022-11-02 08:56:25.105000+00:00",
          "2022-11-09 07:17:33.704000+00:00",
          "2022-11-18 09:41:03.523000+00:00"
         ],
         "xaxis": "x",
         "y": [
          8,
          8,
          8,
          8
         ],
         "yaxis": "y"
        },
        {
         "marker": {
          "color": "rgb(23, 190, 207)",
          "size": 6,
          "symbol": "circle-open"
         },
         "mode": "markers",
         "name": "orenth09",
         "type": "scatter",
         "x": [
          "2022-10-24 03:38:53.018000+00:00",
          "2022-11-01 02:44:42.532000+00:00",
          "2022-11-21 15:04:33.205000+00:00"
         ],
         "xaxis": "x",
         "y": [
          9,
          9,
          9
         ],
         "yaxis": "y"
        },
        {
         "marker": {
          "color": "rgb(31, 119, 180)",
          "size": 6,
          "symbol": "circle-open"
         },
         "mode": "markers",
         "name": "orenth10",
         "type": "scatter",
         "x": [
          "2022-11-02 00:37:03.639000+00:00",
          "2022-11-08 10:20:36.154000+00:00"
         ],
         "xaxis": "x",
         "y": [
          10,
          10
         ],
         "yaxis": "y"
        },
        {
         "marker": {
          "color": "rgb(255, 127, 14)",
          "size": 6,
          "symbol": "circle-open"
         },
         "mode": "markers",
         "name": "orenth11",
         "type": "scatter",
         "x": [
          "2022-11-02 01:17:25.145000+00:00",
          "2022-11-09 01:14:18.013000+00:00"
         ],
         "xaxis": "x",
         "y": [
          11,
          11
         ],
         "yaxis": "y"
        },
        {
         "marker": {
          "color": "rgb(44, 160, 44)",
          "size": 6,
          "symbol": "circle-open"
         },
         "mode": "markers",
         "name": "orenth12",
         "type": "scatter",
         "x": [
          "2022-11-18 04:45:36.119000+00:00",
          "2022-11-23 01:14:35.141000+00:00",
          "2022-11-25 05:09:51.624000+00:00",
          "2022-11-29 14:05:23.043000+00:00"
         ],
         "xaxis": "x",
         "y": [
          12,
          12,
          12,
          12
         ],
         "yaxis": "y"
        },
        {
         "marker": {
          "color": "rgb(214, 39, 40)",
          "size": 6,
          "symbol": "circle-open"
         },
         "mode": "markers",
         "name": "orenth13",
         "type": "scatter",
         "x": [
          "2022-11-07 14:56:39.260000+00:00",
          "2022-11-14 02:25:55.359000+00:00",
          "2022-11-21 08:43:48.911000+00:00"
         ],
         "xaxis": "x",
         "y": [
          13,
          13,
          13
         ],
         "yaxis": "y"
        },
        {
         "marker": {
          "color": "rgb(148, 103, 189)",
          "size": 6,
          "symbol": "circle-open"
         },
         "mode": "markers",
         "name": "orenth14",
         "type": "scatter",
         "x": [
          "2022-11-02 03:57:20.922000+00:00",
          "2022-11-09 07:12:55.693000+00:00",
          "2022-11-18 06:57:55.521000+00:00",
          "2022-11-20 04:19:52.924000+00:00",
          "2022-11-26 10:14:10.774000+00:00"
         ],
         "xaxis": "x",
         "y": [
          14,
          14,
          14,
          14,
          14
         ],
         "yaxis": "y"
        },
        {
         "marker": {
          "color": "rgb(140, 86, 75)",
          "size": 6,
          "symbol": "circle-open"
         },
         "mode": "markers",
         "name": "orenth15",
         "type": "scatter",
         "x": [
          "2022-11-04 06:42:02.149000+00:00",
          "2022-11-10 01:32:41.243000+00:00",
          "2022-11-18 13:51:46.545000+00:00",
          "2022-11-25 16:47:46.748000+00:00",
          "2022-11-30 07:01:14.398000+00:00"
         ],
         "xaxis": "x",
         "y": [
          15,
          15,
          15,
          15,
          15
         ],
         "yaxis": "y"
        },
        {
         "marker": {
          "color": "rgb(227, 119, 194)",
          "size": 6,
          "symbol": "circle-open"
         },
         "mode": "markers",
         "name": "orenth16",
         "type": "scatter",
         "x": [
          "2022-11-02 08:40:51.988000+00:00",
          "2022-11-10 07:31:23.289000+00:00",
          "2022-11-16 10:00:54.628000+00:00",
          "2022-11-24 12:27:21.963000+00:00",
          "2022-11-30 07:04:47.484000+00:00"
         ],
         "xaxis": "x",
         "y": [
          16,
          16,
          16,
          16,
          16
         ],
         "yaxis": "y"
        },
        {
         "marker": {
          "color": "rgb(127, 127, 127)",
          "size": 6,
          "symbol": "circle-open"
         },
         "mode": "markers",
         "name": "orenth17",
         "type": "scatter",
         "x": [
          "2022-11-11 16:40:40.319000+00:00",
          "2022-11-18 02:02:37.870000+00:00",
          "2022-11-25 07:32:18.897000+00:00"
         ],
         "xaxis": "x",
         "y": [
          17,
          17,
          17
         ],
         "yaxis": "y"
        },
        {
         "marker": {
          "color": "rgb(188, 189, 34)",
          "size": 6,
          "symbol": "circle-open"
         },
         "mode": "markers",
         "name": "orenth18",
         "type": "scatter",
         "x": [
          "2022-11-11 08:00:57.503000+00:00",
          "2022-11-18 08:01:54.907000+00:00",
          "2022-11-25 01:15:27.548000+00:00",
          "2022-11-29 13:23:14.762000+00:00"
         ],
         "xaxis": "x",
         "y": [
          18,
          18,
          18,
          18
         ],
         "yaxis": "y"
        },
        {
         "marker": {
          "color": "rgb(23, 190, 207)",
          "size": 6,
          "symbol": "circle-open"
         },
         "mode": "markers",
         "name": "orenth19",
         "type": "scatter",
         "x": [
          "2022-11-09 01:16:44.302000+00:00",
          "2022-11-16 01:16:21.086000+00:00",
          "2022-11-23 01:15:51.064000+00:00",
          "2022-11-30 03:01:42.025000+00:00"
         ],
         "xaxis": "x",
         "y": [
          19,
          19,
          19,
          19
         ],
         "yaxis": "y"
        },
        {
         "marker": {
          "color": "rgb(31, 119, 180)",
          "size": 6,
          "symbol": "circle-open"
         },
         "mode": "markers",
         "name": "orenth20",
         "type": "scatter",
         "x": [
          "2022-11-09 01:39:25.257000+00:00",
          "2022-11-16 02:30:24.685000+00:00",
          "2022-11-23 03:14:46.046000+00:00"
         ],
         "xaxis": "x",
         "y": [
          20,
          20,
          20
         ],
         "yaxis": "y"
        },
        {
         "marker": {
          "color": "rgb(255, 127, 14)",
          "size": 6,
          "symbol": "circle-open"
         },
         "mode": "markers",
         "name": "orenth21",
         "type": "scatter",
         "x": [
          "2022-11-08 06:10:36.406000+00:00",
          "2022-11-09 01:29:43.030000+00:00",
          "2022-11-19 01:57:23.879000+00:00",
          "2022-11-30 01:37:45.614000+00:00"
         ],
         "xaxis": "x",
         "y": [
          21,
          21,
          21,
          21
         ],
         "yaxis": "y"
        },
        {
         "marker": {
          "color": "rgb(44, 160, 44)",
          "size": 6,
          "symbol": "circle-open"
         },
         "mode": "markers",
         "name": "orenth22",
         "type": "scatter",
         "x": [
          "2022-11-09 02:40:41.159000+00:00",
          "2022-11-23 01:15:50.109000+00:00",
          "2022-12-07 11:12:00.917000+00:00"
         ],
         "xaxis": "x",
         "y": [
          22,
          22,
          22
         ],
         "yaxis": "y"
        },
        {
         "marker": {
          "color": "rgb(214, 39, 40)",
          "size": 6,
          "symbol": "circle-open"
         },
         "mode": "markers",
         "name": "orenth23",
         "type": "scatter",
         "x": [
          "2022-11-15 01:01:35.199000+00:00",
          "2022-11-20 09:08:36.912000+00:00",
          "2022-11-23 01:16:48.038000+00:00"
         ],
         "xaxis": "x",
         "y": [
          23,
          23,
          23
         ],
         "yaxis": "y"
        },
        {
         "marker": {
          "color": "rgb(148, 103, 189)",
          "size": 6,
          "symbol": "circle-open"
         },
         "mode": "markers",
         "name": "orenth24",
         "type": "scatter",
         "x": [
          "2022-11-17 03:26:54.881000+00:00",
          "2022-11-20 02:13:08.101000+00:00"
         ],
         "xaxis": "x",
         "y": [
          24,
          24
         ],
         "yaxis": "y"
        },
        {
         "marker": {
          "color": "rgb(140, 86, 75)",
          "size": 6,
          "symbol": "circle-open"
         },
         "mode": "markers",
         "name": "orenth25",
         "type": "scatter",
         "x": [
          "2022-11-18 12:48:55.549000+00:00",
          "2022-11-23 08:33:23.784000+00:00"
         ],
         "xaxis": "x",
         "y": [
          25,
          25
         ],
         "yaxis": "y"
        },
        {
         "marker": {
          "color": "rgb(227, 119, 194)",
          "size": 6,
          "symbol": "circle-open"
         },
         "mode": "markers",
         "name": "orenth26",
         "type": "scatter",
         "x": [
          "2022-11-19 03:57:10.559000+00:00",
          "2022-11-30 13:06:49.250000+00:00",
          "2022-12-10 07:00:59.755000+00:00",
          "2023-01-08 01:36:04.896000+00:00"
         ],
         "xaxis": "x",
         "y": [
          26,
          26,
          26,
          26
         ],
         "yaxis": "y"
        },
        {
         "marker": {
          "color": "rgb(127, 127, 127)",
          "size": 6,
          "symbol": "circle-open"
         },
         "mode": "markers",
         "name": "orenth27",
         "type": "scatter",
         "x": [
          "2022-11-17 09:20:25.799000+00:00",
          "2022-11-30 00:35:18.006000+00:00",
          "2022-12-11 06:44:17.081000+00:00",
          "2022-12-22 04:14:08.823000+00:00",
          "2022-12-26 22:30:43.786000+00:00",
          "2023-01-07 06:47:44.417000+00:00",
          "2023-01-09 01:42:25.623000+00:00"
         ],
         "xaxis": "x",
         "y": [
          27,
          27,
          27,
          27,
          27,
          27,
          27
         ],
         "yaxis": "y"
        },
        {
         "marker": {
          "color": "rgb(188, 189, 34)",
          "size": 6,
          "symbol": "circle-open"
         },
         "mode": "markers",
         "name": "orenth28",
         "type": "scatter",
         "x": [
          "2022-11-16 03:50:08.583000+00:00",
          "2022-11-23 01:05:58.853000+00:00",
          "2022-11-26 09:02:38.733000+00:00",
          "2022-11-29 03:44:21.789000+00:00",
          "2022-12-02 05:15:56.854000+00:00",
          "2022-12-05 02:49:20.576000+00:00",
          "2022-12-07 02:48:13.740000+00:00",
          "2022-12-14 01:15:13.421000+00:00",
          "2022-12-21 01:20:05.358000+00:00",
          "2022-12-28 02:16:46.134000+00:00"
         ],
         "xaxis": "x",
         "y": [
          28,
          28,
          28,
          28,
          28,
          28,
          28,
          28,
          28,
          28
         ],
         "yaxis": "y"
        },
        {
         "marker": {
          "color": "rgb(23, 190, 207)",
          "size": 6,
          "symbol": "circle-open"
         },
         "mode": "markers",
         "name": "orenth29",
         "type": "scatter",
         "x": [
          "2022-11-29 00:40:22.065000+00:00",
          "2022-11-30 14:37:06.153000+00:00",
          "2022-12-03 07:03:09.364000+00:00",
          "2022-12-06 13:00:59.167000+00:00",
          "2022-12-08 13:01:11.809000+00:00",
          "2022-12-12 13:00:53.448000+00:00",
          "2022-12-16 06:42:35.321000+00:00",
          "2022-12-23 13:17:44.921000+00:00",
          "2022-12-24 13:01:32.218000+00:00",
          "2023-01-05 11:29:54.968000+00:00",
          "2023-01-07 12:58:04.709000+00:00",
          "2023-01-12 13:00:52.649000+00:00",
          "2023-01-15 04:00:50.573000+00:00"
         ],
         "xaxis": "x",
         "y": [
          29,
          29,
          29,
          29,
          29,
          29,
          29,
          29,
          29,
          29,
          29,
          29,
          29
         ],
         "yaxis": "y"
        },
        {
         "marker": {
          "color": "rgb(31, 119, 180)",
          "size": 6,
          "symbol": "circle-open"
         },
         "mode": "markers",
         "name": "orenth31",
         "type": "scatter",
         "x": [
          "2022-12-01 01:15:34.850000+00:00",
          "2022-12-20 05:11:18.703000+00:00",
          "2022-12-21 01:49:55.782000+00:00",
          "2023-01-09 06:26:21.414000+00:00",
          "2023-01-11 01:04:17.162000+00:00",
          "2023-01-25 04:16:53.005000+00:00",
          "2023-02-15 07:10:38.953000+00:00"
         ],
         "xaxis": "x",
         "y": [
          30,
          30,
          30,
          30,
          30,
          30,
          30
         ],
         "yaxis": "y"
        },
        {
         "marker": {
          "color": "rgb(255, 127, 14)",
          "size": 6,
          "symbol": "circle-open"
         },
         "mode": "markers",
         "name": "orenth32",
         "type": "scatter",
         "x": [
          "2022-11-30 00:48:24.818000+00:00",
          "2022-12-07 04:30:17.409000+00:00",
          "2022-12-14 04:56:15.503000+00:00",
          "2022-12-23 05:06:07.920000+00:00",
          "2022-12-30 02:31:51.909000+00:00"
         ],
         "xaxis": "x",
         "y": [
          31,
          31,
          31,
          31,
          31
         ],
         "yaxis": "y"
        },
        {
         "marker": {
          "color": "rgb(44, 160, 44)",
          "size": 6,
          "symbol": "circle-open"
         },
         "mode": "markers",
         "name": "orenth33",
         "type": "scatter",
         "x": [
          "2022-11-30 10:07:06.611000+00:00",
          "2022-12-09 16:38:13.879000+00:00",
          "2022-12-15 08:38:58.066000+00:00",
          "2022-12-21 07:41:23.630000+00:00",
          "2022-12-27 04:53:35.849000+00:00"
         ],
         "xaxis": "x",
         "y": [
          32,
          32,
          32,
          32,
          32
         ],
         "yaxis": "y"
        },
        {
         "marker": {
          "color": "rgb(214, 39, 40)",
          "size": 6,
          "symbol": "circle-open"
         },
         "mode": "markers",
         "name": "orenth34",
         "type": "scatter",
         "x": [
          "2022-11-29 04:01:31.913000+00:00",
          "2022-11-30 01:18:30.646000+00:00",
          "2022-12-07 01:47:14.083000+00:00",
          "2022-12-14 01:14:56.441000+00:00",
          "2022-12-21 01:20:36.940000+00:00",
          "2022-12-28 04:01:34.621000+00:00"
         ],
         "xaxis": "x",
         "y": [
          33,
          33,
          33,
          33,
          33,
          33
         ],
         "yaxis": "y"
        },
        {
         "marker": {
          "color": "rgb(148, 103, 189)",
          "size": 6,
          "symbol": "circle-open"
         },
         "mode": "markers",
         "name": "orenth35",
         "type": "scatter",
         "x": [
          "2022-11-30 03:59:52.186000+00:00",
          "2022-12-07 07:16:47.182000+00:00",
          "2022-12-15 09:21:09.460000+00:00",
          "2022-12-24 04:09:00.766000+00:00",
          "2022-12-28 01:04:26.796000+00:00",
          "2023-01-02 10:16:08.905000+00:00"
         ],
         "xaxis": "x",
         "y": [
          34,
          34,
          34,
          34,
          34,
          34
         ],
         "yaxis": "y"
        },
        {
         "marker": {
          "color": "rgb(140, 86, 75)",
          "size": 6,
          "symbol": "circle-open"
         },
         "mode": "markers",
         "name": "orenth36",
         "type": "scatter",
         "x": [
          "2022-12-07 14:31:35.769000+00:00",
          "2022-12-07 14:33:43.050000+00:00"
         ],
         "xaxis": "x",
         "y": [
          35,
          35
         ],
         "yaxis": "y"
        },
        {
         "marker": {
          "color": "rgb(227, 119, 194)",
          "size": 6,
          "symbol": "circle-open"
         },
         "mode": "markers",
         "name": "orenth37",
         "type": "scatter",
         "x": [
          "2022-12-06 01:51:33.558000+00:00",
          "2022-12-14 07:00:56.247000+00:00",
          "2022-12-19 01:18:41.684000+00:00"
         ],
         "xaxis": "x",
         "y": [
          36,
          36,
          36
         ],
         "yaxis": "y"
        },
        {
         "marker": {
          "color": "rgb(127, 127, 127)",
          "size": 6,
          "symbol": "circle-open"
         },
         "mode": "markers",
         "name": "orenth38",
         "type": "scatter",
         "x": [
          "2022-11-30 06:27:47.071000+00:00",
          "2022-12-03 01:12:35.884000+00:00",
          "2022-12-06 02:09:11.900000+00:00",
          "2022-12-09 03:45:13.186000+00:00",
          "2022-12-16 01:00:52.971000+00:00",
          "2022-12-24 01:20:49.611000+00:00"
         ],
         "xaxis": "x",
         "y": [
          37,
          37,
          37,
          37,
          37,
          37
         ],
         "yaxis": "y"
        },
        {
         "marker": {
          "color": "rgb(188, 189, 34)",
          "size": 6,
          "symbol": "circle-open"
         },
         "mode": "markers",
         "name": "orenth39",
         "type": "scatter",
         "x": [
          "2022-12-06 03:24:15.559000+00:00",
          "2022-12-20 05:14:42.192000+00:00"
         ],
         "xaxis": "x",
         "y": [
          38,
          38
         ],
         "yaxis": "y"
        },
        {
         "marker": {
          "color": "rgb(23, 190, 207)",
          "size": 6,
          "symbol": "circle-open"
         },
         "mode": "markers",
         "name": "orenth40",
         "type": "scatter",
         "x": [
          "2022-12-15 18:59:59.261000+00:00",
          "2022-12-23 09:01:35.623000+00:00",
          "2022-12-30 09:07:04.855000+00:00"
         ],
         "xaxis": "x",
         "y": [
          39,
          39,
          39
         ],
         "yaxis": "y"
        },
        {
         "marker": {
          "color": "rgb(31, 119, 180)",
          "size": 6,
          "symbol": "circle-open"
         },
         "mode": "markers",
         "name": "orenth41",
         "type": "scatter",
         "x": [
          "2022-12-04 05:25:24.061000+00:00",
          "2022-12-09 02:45:52.110000+00:00",
          "2022-12-16 04:44:49.399000+00:00"
         ],
         "xaxis": "x",
         "y": [
          40,
          40,
          40
         ],
         "yaxis": "y"
        },
        {
         "marker": {
          "color": "rgb(255, 127, 14)",
          "size": 6,
          "symbol": "circle-open"
         },
         "mode": "markers",
         "name": "orenth42",
         "type": "scatter",
         "x": [
          "2022-12-09 01:03:57.328000+00:00",
          "2022-12-16 02:56:48.773000+00:00",
          "2022-12-26 00:16:45.783000+00:00",
          "2022-12-30 03:14:25.088000+00:00",
          "2023-01-06 04:43:18.567000+00:00",
          "2023-01-11 01:05:24.459000+00:00",
          "2023-01-17 04:04:15.692000+00:00"
         ],
         "xaxis": "x",
         "y": [
          41,
          41,
          41,
          41,
          41,
          41,
          41
         ],
         "yaxis": "y"
        },
        {
         "marker": {
          "color": "rgb(44, 160, 44)",
          "size": 6,
          "symbol": "circle-open"
         },
         "mode": "markers",
         "name": "orenth43",
         "type": "scatter",
         "x": [
          "2022-12-07 04:01:45.217000+00:00",
          "2022-12-14 03:20:33.169000+00:00"
         ],
         "xaxis": "x",
         "y": [
          42,
          42
         ],
         "yaxis": "y"
        },
        {
         "marker": {
          "color": "rgb(214, 39, 40)",
          "size": 6,
          "symbol": "circle-open"
         },
         "mode": "markers",
         "name": "orenth44",
         "type": "scatter",
         "x": [
          "2022-12-13 06:24:58.926000+00:00",
          "2022-12-22 04:01:16.757000+00:00",
          "2022-12-28 12:15:22.769000+00:00",
          "2023-01-04 01:04:57.358000+00:00",
          "2023-01-11 15:54:44.729000+00:00"
         ],
         "xaxis": "x",
         "y": [
          43,
          43,
          43,
          43,
          43
         ],
         "yaxis": "y"
        },
        {
         "marker": {
          "color": "rgb(148, 103, 189)",
          "size": 6,
          "symbol": "circle-open"
         },
         "mode": "markers",
         "name": "orenth45",
         "type": "scatter",
         "x": [
          "2022-12-10 07:01:09.062000+00:00",
          "2022-12-16 01:20:43.024000+00:00",
          "2022-12-21 01:24:45.376000+00:00"
         ],
         "xaxis": "x",
         "y": [
          44,
          44,
          44
         ],
         "yaxis": "y"
        },
        {
         "marker": {
          "color": "rgb(140, 86, 75)",
          "size": 6,
          "symbol": "circle-open"
         },
         "mode": "markers",
         "name": "orenth46",
         "type": "scatter",
         "x": [
          "2022-12-07 13:28:02.430000+00:00",
          "2022-12-16 03:43:53.762000+00:00"
         ],
         "xaxis": "x",
         "y": [
          45,
          45
         ],
         "yaxis": "y"
        },
        {
         "marker": {
          "color": "rgb(227, 119, 194)",
          "size": 6,
          "symbol": "circle-open"
         },
         "mode": "markers",
         "name": "orenth48",
         "type": "scatter",
         "x": [
          "2022-12-14 01:20:45.779000+00:00",
          "2022-12-26 10:20:03.345000+00:00",
          "2023-01-01 03:33:15.429000+00:00",
          "2023-01-27 01:02:01.094000+00:00",
          "2023-02-01 07:37:14.442000+00:00"
         ],
         "xaxis": "x",
         "y": [
          46,
          46,
          46,
          46,
          46
         ],
         "yaxis": "y"
        },
        {
         "marker": {
          "color": "rgb(127, 127, 127)",
          "size": 6,
          "symbol": "circle-open"
         },
         "mode": "markers",
         "name": "orenth49",
         "type": "scatter",
         "x": [
          "2023-01-03 09:48:50.190000+00:00",
          "2023-01-09 00:20:20.605000+00:00",
          "2023-01-11 11:58:17.181000+00:00",
          "2023-01-19 02:30:24.576000+00:00"
         ],
         "xaxis": "x",
         "y": [
          47,
          47,
          47,
          47
         ],
         "yaxis": "y"
        },
        {
         "marker": {
          "color": "rgb(188, 189, 34)",
          "size": 6,
          "symbol": "circle-open"
         },
         "mode": "markers",
         "name": "orenth50",
         "type": "scatter",
         "x": [
          "2022-12-24 04:38:24.868000+00:00",
          "2023-01-06 07:21:56.340000+00:00",
          "2023-01-11 02:18:13.076000+00:00"
         ],
         "xaxis": "x",
         "y": [
          48,
          48,
          48
         ],
         "yaxis": "y"
        },
        {
         "marker": {
          "color": "rgb(23, 190, 207)",
          "size": 6,
          "symbol": "circle-open"
         },
         "mode": "markers",
         "name": "usk01",
         "type": "scatter",
         "x": [
          "2023-04-01 14:14:05.420000+00:00",
          "2023-04-08 05:26:33.945000+00:00",
          "2023-04-12 03:44:24.593000+00:00",
          "2023-04-23 16:47:21.897000+00:00"
         ],
         "xaxis": "x",
         "y": [
          49,
          49,
          49,
          49
         ],
         "yaxis": "y"
        },
        {
         "marker": {
          "color": "rgb(31, 119, 180)",
          "size": 6,
          "symbol": "circle-open"
         },
         "mode": "markers",
         "name": "usk02",
         "type": "scatter",
         "x": [
          "2023-04-02 08:51:33.496000+00:00",
          "2023-04-08 05:30:35.074000+00:00",
          "2023-04-13 01:36:02.860000+00:00"
         ],
         "xaxis": "x",
         "y": [
          50,
          50,
          50
         ],
         "yaxis": "y"
        },
        {
         "marker": {
          "color": "rgb(255, 127, 14)",
          "size": 6,
          "symbol": "circle-open"
         },
         "mode": "markers",
         "name": "usk03",
         "type": "scatter",
         "x": [
          "2023-04-04 06:09:56.387000+00:00",
          "2023-04-07 06:14:24.102000+00:00",
          "2023-04-14 14:24:50.825000+00:00",
          "2023-04-19 15:44:23.394000+00:00",
          "2023-04-21 10:23:07.011000+00:00",
          "2023-04-26 01:04:27.139000+00:00",
          "2023-04-28 08:55:42.877000+00:00"
         ],
         "xaxis": "x",
         "y": [
          51,
          51,
          51,
          51,
          51,
          51,
          51
         ],
         "yaxis": "y"
        },
        {
         "marker": {
          "color": "rgb(44, 160, 44)",
          "size": 6,
          "symbol": "circle-open"
         },
         "mode": "markers",
         "name": "usk04",
         "type": "scatter",
         "x": [
          "2023-03-30 07:01:50.909000+00:00",
          "2023-04-08 05:25:27.453000+00:00",
          "2023-04-10 10:59:30.898000+00:00",
          "2023-04-17 01:52:05.089000+00:00",
          "2023-04-21 05:47:40.294000+00:00"
         ],
         "xaxis": "x",
         "y": [
          52,
          52,
          52,
          52,
          52
         ],
         "yaxis": "y"
        },
        {
         "marker": {
          "color": "rgb(214, 39, 40)",
          "size": 6,
          "symbol": "circle-open"
         },
         "mode": "markers",
         "name": "usk05",
         "type": "scatter",
         "x": [
          "2023-03-29 02:11:15.884000+00:00",
          "2023-04-04 06:36:38.946000+00:00",
          "2023-04-05 03:20:10.066000+00:00",
          "2023-04-12 10:26:39.666000+00:00",
          "2023-04-19 06:37:54.722000+00:00"
         ],
         "xaxis": "x",
         "y": [
          53,
          53,
          53,
          53,
          53
         ],
         "yaxis": "y"
        },
        {
         "marker": {
          "color": "rgb(148, 103, 189)",
          "size": 6,
          "symbol": "circle-open"
         },
         "mode": "markers",
         "name": "usk06",
         "type": "scatter",
         "x": [
          "2023-04-03 02:41:23.660000+00:00",
          "2023-04-08 05:30:02.909000+00:00",
          "2023-04-13 05:12:36.847000+00:00"
         ],
         "xaxis": "x",
         "y": [
          54,
          54,
          54
         ],
         "yaxis": "y"
        },
        {
         "marker": {
          "color": "rgb(140, 86, 75)",
          "size": 6,
          "symbol": "circle-open"
         },
         "mode": "markers",
         "name": "usk07",
         "type": "scatter",
         "x": [
          "2023-04-07 01:19:11.119000+00:00",
          "2023-04-08 07:39:02.827000+00:00",
          "2023-04-15 04:31:21.363000+00:00",
          "2023-04-21 06:31:36.622000+00:00",
          "2023-04-29 04:39:42.529000+00:00",
          "2023-05-05 05:15:44.638000+00:00",
          "2023-05-10 21:16:37.208000+00:00"
         ],
         "xaxis": "x",
         "y": [
          55,
          55,
          55,
          55,
          55,
          55,
          55
         ],
         "yaxis": "y"
        },
        {
         "marker": {
          "color": "rgb(227, 119, 194)",
          "size": 6,
          "symbol": "circle-open"
         },
         "mode": "markers",
         "name": "usk08",
         "type": "scatter",
         "x": [
          "2023-04-05 13:53:00.176000+00:00",
          "2023-04-08 05:58:52.498000+00:00",
          "2023-04-15 10:49:37.657000+00:00",
          "2023-04-20 10:01:14.169000+00:00",
          "2023-04-26 07:19:07.396000+00:00",
          "2023-05-02 06:01:33.716000+00:00",
          "2023-05-07 06:51:48.729000+00:00"
         ],
         "xaxis": "x",
         "y": [
          56,
          56,
          56,
          56,
          56,
          56,
          56
         ],
         "yaxis": "y"
        },
        {
         "marker": {
          "color": "rgb(127, 127, 127)",
          "size": 6,
          "symbol": "circle-open"
         },
         "mode": "markers",
         "name": "usk09",
         "type": "scatter",
         "x": [
          "2023-03-29 01:05:05.332000+00:00",
          "2023-04-07 02:09:57.872000+00:00",
          "2023-04-13 12:47:09.061000+00:00",
          "2023-04-21 08:38:51.886000+00:00",
          "2023-04-29 04:38:29.166000+00:00",
          "2023-05-07 02:08:04.712000+00:00"
         ],
         "xaxis": "x",
         "y": [
          57,
          57,
          57,
          57,
          57,
          57
         ],
         "yaxis": "y"
        },
        {
         "marker": {
          "color": "rgb(188, 189, 34)",
          "size": 6,
          "symbol": "circle-open"
         },
         "mode": "markers",
         "name": "usk10",
         "type": "scatter",
         "x": [
          "2023-04-08 05:19:01.979000+00:00",
          "2023-04-12 10:04:07.671000+00:00",
          "2023-04-19 01:04:11.534000+00:00",
          "2023-04-24 09:00:27.047000+00:00",
          "2023-05-03 09:00:37.411000+00:00",
          "2023-05-09 02:24:16.955000+00:00",
          "2023-05-11 05:05:05.758000+00:00",
          "2023-05-13 04:50:38.993000+00:00",
          "2023-05-17 01:01:05.343000+00:00"
         ],
         "xaxis": "x",
         "y": [
          58,
          58,
          58,
          58,
          58,
          58,
          58,
          58,
          58
         ],
         "yaxis": "y"
        },
        {
         "marker": {
          "color": "rgb(23, 190, 207)",
          "size": 6,
          "symbol": "circle-open"
         },
         "mode": "markers",
         "name": "usk11",
         "type": "scatter",
         "x": [
          "2023-04-08 06:04:23.216000+00:00",
          "2023-04-17 06:01:08.873000+00:00",
          "2023-04-22 06:54:25.458000+00:00",
          "2023-04-29 10:50:35.654000+00:00"
         ],
         "xaxis": "x",
         "y": [
          59,
          59,
          59,
          59
         ],
         "yaxis": "y"
        },
        {
         "marker": {
          "color": "rgb(31, 119, 180)",
          "size": 6,
          "symbol": "circle-open"
         },
         "mode": "markers",
         "name": "usk13",
         "type": "scatter",
         "x": [
          "2023-04-06 00:54:41.542000+00:00",
          "2023-04-14 04:05:05.109000+00:00",
          "2023-04-18 11:01:48.545000+00:00"
         ],
         "xaxis": "x",
         "y": [
          60,
          60,
          60
         ],
         "yaxis": "y"
        },
        {
         "marker": {
          "color": "rgb(255, 127, 14)",
          "size": 6,
          "symbol": "circle-open"
         },
         "mode": "markers",
         "name": "usk14",
         "type": "scatter",
         "x": [
          "2023-04-05 01:06:55.437000+00:00",
          "2023-04-13 08:07:53.549000+00:00"
         ],
         "xaxis": "x",
         "y": [
          61,
          61
         ],
         "yaxis": "y"
        },
        {
         "marker": {
          "color": "rgb(44, 160, 44)",
          "size": 6,
          "symbol": "circle-open"
         },
         "mode": "markers",
         "name": "usk15",
         "type": "scatter",
         "x": [
          "2023-04-05 06:05:47.470000+00:00",
          "2023-04-13 08:03:13.495000+00:00",
          "2023-04-24 14:03:33.021000+00:00",
          "2023-04-30 13:50:59.970000+00:00",
          "2023-05-03 02:17:07.406000+00:00",
          "2023-05-07 07:54:09.004000+00:00",
          "2023-05-14 09:19:49.232000+00:00",
          "2023-05-16 10:02:35.240000+00:00"
         ],
         "xaxis": "x",
         "y": [
          62,
          62,
          62,
          62,
          62,
          62,
          62,
          62
         ],
         "yaxis": "y"
        },
        {
         "marker": {
          "color": "rgb(214, 39, 40)",
          "size": 6,
          "symbol": "circle-open"
         },
         "mode": "markers",
         "name": "usk16",
         "type": "scatter",
         "x": [
          "2023-04-13 04:59:26.041000+00:00",
          "2023-04-15 00:47:07.743000+00:00",
          "2023-04-22 07:20:51.113000+00:00"
         ],
         "xaxis": "x",
         "y": [
          63,
          63,
          63
         ],
         "yaxis": "y"
        },
        {
         "marker": {
          "color": "rgb(148, 103, 189)",
          "size": 6,
          "symbol": "circle-open"
         },
         "mode": "markers",
         "name": "usk17",
         "type": "scatter",
         "x": [
          "2023-04-15 03:31:55.782000+00:00",
          "2023-04-22 07:21:06.535000+00:00",
          "2023-04-30 01:26:38.091000+00:00"
         ],
         "xaxis": "x",
         "y": [
          64,
          64,
          64
         ],
         "yaxis": "y"
        },
        {
         "marker": {
          "color": "rgb(140, 86, 75)",
          "size": 6,
          "symbol": "circle-open"
         },
         "mode": "markers",
         "name": "usk18",
         "type": "scatter",
         "x": [
          "2023-04-15 08:44:48.207000+00:00",
          "2023-04-22 15:24:45.874000+00:00",
          "2023-04-30 05:34:18.699000+00:00",
          "2023-05-06 13:05:52.608000+00:00"
         ],
         "xaxis": "x",
         "y": [
          65,
          65,
          65,
          65
         ],
         "yaxis": "y"
        },
        {
         "marker": {
          "color": "rgb(227, 119, 194)",
          "size": 6,
          "symbol": "circle-open"
         },
         "mode": "markers",
         "name": "usk19",
         "type": "scatter",
         "x": [
          "2023-04-15 05:09:03.365000+00:00",
          "2023-04-24 10:23:51.807000+00:00",
          "2023-04-30 13:26:02.379000+00:00",
          "2023-05-07 14:58:41.406000+00:00",
          "2023-05-12 07:10:21.749000+00:00",
          "2023-05-19 15:22:46.152000+00:00",
          "2023-05-25 08:00:26.604000+00:00"
         ],
         "xaxis": "x",
         "y": [
          66,
          66,
          66,
          66,
          66,
          66,
          66
         ],
         "yaxis": "y"
        },
        {
         "marker": {
          "color": "rgb(127, 127, 127)",
          "size": 6,
          "symbol": "circle-open"
         },
         "mode": "markers",
         "name": "usk20",
         "type": "scatter",
         "x": [
          "2023-04-14 10:02:50.630000+00:00",
          "2023-04-17 09:11:25.220000+00:00",
          "2023-04-19 01:44:49.998000+00:00",
          "2023-04-25 02:22:15.566000+00:00",
          "2023-04-28 03:10:20.058000+00:00"
         ],
         "xaxis": "x",
         "y": [
          67,
          67,
          67,
          67,
          67
         ],
         "yaxis": "y"
        },
        {
         "marker": {
          "color": "rgb(188, 189, 34)",
          "size": 6,
          "symbol": "circle-open"
         },
         "mode": "markers",
         "name": "usk21",
         "type": "scatter",
         "x": [
          "2023-04-15 09:19:39.957000+00:00",
          "2023-04-21 12:00:54.696000+00:00",
          "2023-05-13 10:33:50.221000+00:00"
         ],
         "xaxis": "x",
         "y": [
          68,
          68,
          68
         ],
         "yaxis": "y"
        },
        {
         "marker": {
          "color": "rgb(23, 190, 207)",
          "size": 6,
          "symbol": "circle-open"
         },
         "mode": "markers",
         "name": "usk22",
         "type": "scatter",
         "x": [
          "2023-04-13 05:01:08.860000+00:00",
          "2023-04-22 06:47:27.526000+00:00",
          "2023-04-30 06:33:17.581000+00:00"
         ],
         "xaxis": "x",
         "y": [
          69,
          69,
          69
         ],
         "yaxis": "y"
        },
        {
         "marker": {
          "color": "rgb(31, 119, 180)",
          "size": 6,
          "symbol": "circle-open"
         },
         "mode": "markers",
         "name": "usk23",
         "type": "scatter",
         "x": [
          "2023-04-15 04:27:36.444000+00:00",
          "2023-04-21 02:21:30.753000+00:00",
          "2023-05-01 04:02:43.143000+00:00"
         ],
         "xaxis": "x",
         "y": [
          70,
          70,
          70
         ],
         "yaxis": "y"
        },
        {
         "marker": {
          "color": "rgb(255, 127, 14)",
          "size": 6,
          "symbol": "circle-open"
         },
         "mode": "markers",
         "name": "usk24",
         "type": "scatter",
         "x": [
          "2023-04-15 08:32:09.737000+00:00",
          "2023-04-22 19:31:32.800000+00:00"
         ],
         "xaxis": "x",
         "y": [
          71,
          71
         ],
         "yaxis": "y"
        },
        {
         "marker": {
          "color": "rgb(44, 160, 44)",
          "size": 6,
          "symbol": "circle-open"
         },
         "mode": "markers",
         "name": "usk25",
         "type": "scatter",
         "x": [
          "2023-04-19 03:35:49.464000+00:00",
          "2023-04-28 03:31:56.216000+00:00",
          "2023-05-01 03:16:20.217000+00:00"
         ],
         "xaxis": "x",
         "y": [
          72,
          72,
          72
         ],
         "yaxis": "y"
        },
        {
         "marker": {
          "color": "rgb(214, 39, 40)",
          "size": 6,
          "symbol": "circle-open"
         },
         "mode": "markers",
         "name": "usk26",
         "type": "scatter",
         "x": [
          "2023-04-19 01:06:47.873000+00:00",
          "2023-05-03 01:04:24.496000+00:00",
          "2023-05-07 05:04:30.030000+00:00",
          "2023-05-10 01:12:04.306000+00:00",
          "2023-05-17 01:05:36.423000+00:00",
          "2023-05-21 02:55:45.077000+00:00"
         ],
         "xaxis": "x",
         "y": [
          73,
          73,
          73,
          73,
          73,
          73
         ],
         "yaxis": "y"
        },
        {
         "marker": {
          "color": "rgb(148, 103, 189)",
          "size": 6,
          "symbol": "circle-open"
         },
         "mode": "markers",
         "name": "usk27",
         "type": "scatter",
         "x": [
          "2023-04-17 07:18:02.629000+00:00",
          "2023-04-27 10:05:20.206000+00:00",
          "2023-05-07 14:08:23.424000+00:00"
         ],
         "xaxis": "x",
         "y": [
          74,
          74,
          74
         ],
         "yaxis": "y"
        },
        {
         "marker": {
          "color": "rgb(140, 86, 75)",
          "size": 6,
          "symbol": "circle-open"
         },
         "mode": "markers",
         "name": "usk28",
         "type": "scatter",
         "x": [
          "2023-04-22 14:03:25.843000+00:00",
          "2023-04-29 12:21:02.903000+00:00",
          "2023-05-08 02:16:27.871000+00:00",
          "2023-05-14 06:33:13.162000+00:00",
          "2023-05-21 07:49:37.999000+00:00",
          "2023-05-28 08:13:19.738000+00:00"
         ],
         "xaxis": "x",
         "y": [
          75,
          75,
          75,
          75,
          75,
          75
         ],
         "yaxis": "y"
        },
        {
         "marker": {
          "color": "rgb(227, 119, 194)",
          "size": 6,
          "symbol": "circle-open"
         },
         "mode": "markers",
         "name": "usk29",
         "type": "scatter",
         "x": [
          "2023-04-21 10:11:50.489000+00:00",
          "2023-04-28 04:47:53.347000+00:00",
          "2023-05-05 01:04:57.078000+00:00"
         ],
         "xaxis": "x",
         "y": [
          76,
          76,
          76
         ],
         "yaxis": "y"
        },
        {
         "marker": {
          "color": "rgb(127, 127, 127)",
          "size": 6,
          "symbol": "circle-open"
         },
         "mode": "markers",
         "name": "usk30",
         "type": "scatter",
         "x": [
          "2023-04-22 06:49:31.850000+00:00",
          "2023-04-29 04:45:08.091000+00:00",
          "2023-05-06 01:01:16.629000+00:00",
          "2023-05-13 15:50:11.682000+00:00"
         ],
         "xaxis": "x",
         "y": [
          77,
          77,
          77,
          77
         ],
         "yaxis": "y"
        },
        {
         "marker": {
          "color": "rgb(188, 189, 34)",
          "size": 6,
          "symbol": "circle-open"
         },
         "mode": "markers",
         "name": "usk31",
         "type": "scatter",
         "x": [
          "2023-04-22 06:52:57.013000+00:00",
          "2023-04-28 02:10:27.019000+00:00",
          "2023-05-07 05:50:40.610000+00:00",
          "2023-05-12 04:01:23.933000+00:00",
          "2023-05-14 10:01:16.454000+00:00",
          "2023-05-17 01:04:16.370000+00:00",
          "2023-05-22 02:01:56.639000+00:00",
          "2023-05-28 07:00:40.628000+00:00"
         ],
         "xaxis": "x",
         "y": [
          78,
          78,
          78,
          78,
          78,
          78,
          78,
          78
         ],
         "yaxis": "y"
        },
        {
         "marker": {
          "color": "rgb(23, 190, 207)",
          "size": 6,
          "symbol": "circle-open"
         },
         "mode": "markers",
         "name": "usk32",
         "type": "scatter",
         "x": [
          "2023-04-19 05:53:59.078000+00:00",
          "2023-04-29 05:12:30.639000+00:00",
          "2023-05-07 04:46:08.915000+00:00",
          "2023-05-10 01:04:25.358000+00:00"
         ],
         "xaxis": "x",
         "y": [
          79,
          79,
          79,
          79
         ],
         "yaxis": "y"
        },
        {
         "marker": {
          "color": "rgb(31, 119, 180)",
          "size": 6,
          "symbol": "circle-open"
         },
         "mode": "markers",
         "name": "usk33",
         "type": "scatter",
         "x": [
          "2023-04-22 07:31:18.733000+00:00",
          "2023-05-14 11:17:35.561000+00:00"
         ],
         "xaxis": "x",
         "y": [
          80,
          80
         ],
         "yaxis": "y"
        },
        {
         "marker": {
          "color": "rgb(255, 127, 14)",
          "size": 6,
          "symbol": "circle-open"
         },
         "mode": "markers",
         "name": "usk34",
         "type": "scatter",
         "x": [
          "2023-04-27 02:31:28.523000+00:00",
          "2023-05-03 06:59:28.899000+00:00",
          "2023-05-10 01:04:44.633000+00:00",
          "2023-05-17 01:27:05.750000+00:00"
         ],
         "xaxis": "x",
         "y": [
          81,
          81,
          81,
          81
         ],
         "yaxis": "y"
        },
        {
         "marker": {
          "color": "rgb(44, 160, 44)",
          "size": 6,
          "symbol": "circle-open"
         },
         "mode": "markers",
         "name": "usk35",
         "type": "scatter",
         "x": [
          "2023-04-29 04:43:55.800000+00:00",
          "2023-05-06 04:03:27.010000+00:00"
         ],
         "xaxis": "x",
         "y": [
          82,
          82
         ],
         "yaxis": "y"
        },
        {
         "marker": {
          "color": "rgb(214, 39, 40)",
          "size": 6,
          "symbol": "circle-open"
         },
         "mode": "markers",
         "name": "usk36",
         "type": "scatter",
         "x": [
          "2023-04-26 01:05:00.335000+00:00",
          "2023-05-03 02:07:08.509000+00:00",
          "2023-05-10 01:09:45.189000+00:00"
         ],
         "xaxis": "x",
         "y": [
          83,
          83,
          83
         ],
         "yaxis": "y"
        },
        {
         "marker": {
          "color": "rgb(148, 103, 189)",
          "size": 6,
          "symbol": "circle-open"
         },
         "mode": "markers",
         "name": "usk37",
         "type": "scatter",
         "x": [
          "2023-04-26 04:48:55.746000+00:00",
          "2023-05-07 09:51:12.168000+00:00"
         ],
         "xaxis": "x",
         "y": [
          84,
          84
         ],
         "yaxis": "y"
        },
        {
         "marker": {
          "color": "rgb(140, 86, 75)",
          "size": 6,
          "symbol": "circle-open"
         },
         "mode": "markers",
         "name": "usk38",
         "type": "scatter",
         "x": [
          "2023-04-29 04:40:08.932000+00:00",
          "2023-05-05 03:07:06.485000+00:00",
          "2023-05-12 06:25:27.670000+00:00",
          "2023-05-19 01:04:53.539000+00:00",
          "2023-05-31 10:08:45.029000+00:00"
         ],
         "xaxis": "x",
         "y": [
          85,
          85,
          85,
          85,
          85
         ],
         "yaxis": "y"
        },
        {
         "marker": {
          "color": "rgb(227, 119, 194)",
          "size": 6,
          "symbol": "circle-open"
         },
         "mode": "markers",
         "name": "usk39",
         "type": "scatter",
         "x": [
          "2023-04-29 16:16:01.256000+00:00",
          "2023-05-04 05:21:37.935000+00:00"
         ],
         "xaxis": "x",
         "y": [
          86,
          86
         ],
         "yaxis": "y"
        },
        {
         "marker": {
          "color": "rgb(127, 127, 127)",
          "size": 6,
          "symbol": "circle-open"
         },
         "mode": "markers",
         "name": "usk40",
         "type": "scatter",
         "x": [
          "2023-05-05 09:36:20.951000+00:00",
          "2023-05-12 04:26:16.824000+00:00",
          "2023-05-17 07:21:44.242000+00:00"
         ],
         "xaxis": "x",
         "y": [
          87,
          87,
          87
         ],
         "yaxis": "y"
        },
        {
         "marker": {
          "color": "rgb(188, 189, 34)",
          "size": 6,
          "symbol": "circle-open"
         },
         "mode": "markers",
         "name": "usk41",
         "type": "scatter",
         "x": [
          "2023-05-07 05:00:09.692000+00:00",
          "2023-05-13 06:16:35.832000+00:00",
          "2023-05-26 07:05:23.605000+00:00",
          "2023-06-02 07:04:58.393000+00:00"
         ],
         "xaxis": "x",
         "y": [
          88,
          88,
          88,
          88
         ],
         "yaxis": "y"
        },
        {
         "marker": {
          "color": "rgb(23, 190, 207)",
          "size": 6,
          "symbol": "circle-open"
         },
         "mode": "markers",
         "name": "usk42",
         "type": "scatter",
         "x": [
          "2023-05-05 01:07:40.802000+00:00",
          "2023-05-13 04:52:06.186000+00:00",
          "2023-05-19 01:23:09.450000+00:00",
          "2023-05-21 09:01:20.217000+00:00",
          "2023-05-28 01:55:33.494000+00:00",
          "2023-05-31 01:04:12.377000+00:00",
          "2023-06-08 23:51:06.323000+00:00"
         ],
         "xaxis": "x",
         "y": [
          89,
          89,
          89,
          89,
          89,
          89,
          89
         ],
         "yaxis": "y"
        },
        {
         "marker": {
          "color": "rgb(31, 119, 180)",
          "size": 6,
          "symbol": "circle-open"
         },
         "mode": "markers",
         "name": "usk43",
         "type": "scatter",
         "x": [
          "2023-05-07 04:52:25.223000+00:00",
          "2023-05-10 01:12:45.868000+00:00",
          "2023-05-17 01:38:59.383000+00:00",
          "2023-05-21 04:15:12.518000+00:00",
          "2023-06-02 01:04:18.893000+00:00"
         ],
         "xaxis": "x",
         "y": [
          90,
          90,
          90,
          90,
          90
         ],
         "yaxis": "y"
        },
        {
         "marker": {
          "color": "rgb(255, 127, 14)",
          "size": 6,
          "symbol": "circle-open"
         },
         "mode": "markers",
         "name": "usk44",
         "type": "scatter",
         "x": [
          "2023-05-07 05:17:34.536000+00:00",
          "2023-05-13 05:15:46.843000+00:00",
          "2023-05-19 03:01:16.484000+00:00",
          "2023-05-21 03:47:02.318000+00:00",
          "2023-05-28 07:01:30.948000+00:00"
         ],
         "xaxis": "x",
         "y": [
          91,
          91,
          91,
          91,
          91
         ],
         "yaxis": "y"
        },
        {
         "marker": {
          "color": "rgb(44, 160, 44)",
          "size": 6,
          "symbol": "circle-open"
         },
         "mode": "markers",
         "name": "usk45",
         "type": "scatter",
         "x": [
          "2023-05-07 04:52:19.601000+00:00",
          "2023-05-13 13:00:37.344000+00:00",
          "2023-05-21 11:36:21.558000+00:00",
          "2023-05-28 01:19:49.372000+00:00",
          "2023-06-01 02:43:30.691000+00:00"
         ],
         "xaxis": "x",
         "y": [
          92,
          92,
          92,
          92,
          92
         ],
         "yaxis": "y"
        },
        {
         "marker": {
          "color": "rgb(214, 39, 40)",
          "size": 6,
          "symbol": "circle-open"
         },
         "mode": "markers",
         "name": "usk46",
         "type": "scatter",
         "x": [
          "2023-05-07 17:01:28.385000+00:00",
          "2023-05-10 01:04:46.883000+00:00",
          "2023-05-15 04:00:26.229000+00:00",
          "2023-05-19 01:00:32.008000+00:00",
          "2023-05-22 04:23:25.694000+00:00",
          "2023-05-29 04:30:01.921000+00:00",
          "2023-06-05 10:00:24.889000+00:00",
          "2023-06-20 14:58:11.325000+00:00",
          "2023-06-23 00:42:33.393000+00:00"
         ],
         "xaxis": "x",
         "y": [
          93,
          93,
          93,
          93,
          93,
          93,
          93,
          93,
          93
         ],
         "yaxis": "y"
        },
        {
         "marker": {
          "color": "rgb(148, 103, 189)",
          "size": 6,
          "symbol": "circle-open"
         },
         "mode": "markers",
         "name": "usk47",
         "type": "scatter",
         "x": [
          "2023-05-13 13:01:33.344000+00:00",
          "2023-05-20 18:01:25.843000+00:00",
          "2023-05-27 04:49:06.808000+00:00"
         ],
         "xaxis": "x",
         "y": [
          94,
          94,
          94
         ],
         "yaxis": "y"
        },
        {
         "marker": {
          "color": "rgb(140, 86, 75)",
          "size": 6,
          "symbol": "circle-open"
         },
         "mode": "markers",
         "name": "usk48",
         "type": "scatter",
         "x": [
          "2023-05-03 08:31:42.612000+00:00",
          "2023-05-13 14:40:41.140000+00:00",
          "2023-05-21 12:23:11.961000+00:00"
         ],
         "xaxis": "x",
         "y": [
          95,
          95,
          95
         ],
         "yaxis": "y"
        },
        {
         "marker": {
          "color": "rgb(227, 119, 194)",
          "size": 6,
          "symbol": "circle-open"
         },
         "mode": "markers",
         "name": "usk49",
         "type": "scatter",
         "x": [
          "2023-05-07 10:41:54.913000+00:00",
          "2023-05-13 09:40:23.289000+00:00",
          "2023-05-20 11:03:11.478000+00:00"
         ],
         "xaxis": "x",
         "y": [
          96,
          96,
          96
         ],
         "yaxis": "y"
        },
        {
         "marker": {
          "color": "rgb(127, 127, 127)",
          "size": 6,
          "symbol": "circle-open"
         },
         "mode": "markers",
         "name": "usk50",
         "type": "scatter",
         "x": [
          "2023-05-07 05:19:26.297000+00:00",
          "2023-05-13 10:53:40.121000+00:00"
         ],
         "xaxis": "x",
         "y": [
          97,
          97
         ],
         "yaxis": "y"
        },
        {
         "marker": {
          "color": "rgb(188, 189, 34)",
          "size": 6,
          "symbol": "circle-open"
         },
         "mode": "markers",
         "name": "usk51",
         "type": "scatter",
         "x": [
          "2023-05-07 08:09:49.322000+00:00",
          "2023-05-15 08:25:04.497000+00:00",
          "2023-06-19 11:37:48.339000+00:00"
         ],
         "xaxis": "x",
         "y": [
          98,
          98,
          98
         ],
         "yaxis": "y"
        },
        {
         "marker": {
          "color": "rgb(23, 190, 207)",
          "size": 6,
          "symbol": "circle-open"
         },
         "mode": "markers",
         "name": "usk52",
         "type": "scatter",
         "x": [
          "2023-05-07 06:40:13.589000+00:00",
          "2023-05-18 07:56:03.299000+00:00"
         ],
         "xaxis": "x",
         "y": [
          99,
          99
         ],
         "yaxis": "y"
        },
        {
         "marker": {
          "color": "rgb(31, 119, 180)",
          "size": 6,
          "symbol": "circle-open"
         },
         "mode": "markers",
         "name": "usk53",
         "type": "scatter",
         "x": [
          "2023-05-10 05:13:45.784000+00:00",
          "2023-05-24 02:51:29.790000+00:00",
          "2023-05-31 01:07:44.292000+00:00"
         ],
         "xaxis": "x",
         "y": [
          100,
          100,
          100
         ],
         "yaxis": "y"
        },
        {
         "marker": {
          "color": "rgb(255, 127, 14)",
          "size": 6,
          "symbol": "circle-open"
         },
         "mode": "markers",
         "name": "usk54",
         "type": "scatter",
         "x": [
          "2023-05-13 13:51:46.011000+00:00",
          "2023-05-21 02:55:51.487000+00:00",
          "2023-05-26 16:22:59.740000+00:00",
          "2023-06-01 11:32:16.919000+00:00"
         ],
         "xaxis": "x",
         "y": [
          101,
          101,
          101,
          101
         ],
         "yaxis": "y"
        },
        {
         "marker": {
          "color": "rgb(44, 160, 44)",
          "size": 6,
          "symbol": "circle-open"
         },
         "mode": "markers",
         "name": "usk55",
         "type": "scatter",
         "x": [
          "2023-05-21 08:17:53.989000+00:00",
          "2023-05-26 11:09:39.204000+00:00",
          "2023-06-09 16:18:34.998000+00:00"
         ],
         "xaxis": "x",
         "y": [
          102,
          102,
          102
         ],
         "yaxis": "y"
        },
        {
         "marker": {
          "color": "rgb(214, 39, 40)",
          "size": 6,
          "symbol": "circle-open"
         },
         "mode": "markers",
         "name": "usk56",
         "type": "scatter",
         "x": [
          "2023-05-21 04:53:13.177000+00:00",
          "2023-05-24 01:04:41.697000+00:00",
          "2023-05-31 01:04:39.258000+00:00",
          "2023-06-07 04:13:21.181000+00:00"
         ],
         "xaxis": "x",
         "y": [
          103,
          103,
          103,
          103
         ],
         "yaxis": "y"
        },
        {
         "marker": {
          "color": "rgb(255, 127, 14)",
          "size": 5,
          "symbol": "circle"
         },
         "mode": "markers",
         "name": "orenth01",
         "type": "scatter",
         "x": [
          "2022-10-10T14:22:56.671000+00:00",
          "2022-10-20T01:44:32.965000+00:00",
          "2022-10-26T07:31:27.555000+00:00"
         ],
         "xaxis": "x",
         "y": [
          1,
          1,
          1
         ],
         "yaxis": "y"
        },
        {
         "marker": {
          "color": "rgb(44, 160, 44)",
          "size": 5,
          "symbol": "circle"
         },
         "mode": "markers",
         "name": "orenth02",
         "type": "scatter",
         "x": [
          "2022-10-12T01:13:47.044000+00:00",
          "2022-10-17T01:01:01.540000+00:00",
          "2022-10-25T04:01:38.304000+00:00",
          "2022-10-31T04:03:46.410000+00:00"
         ],
         "xaxis": "x",
         "y": [
          2,
          2,
          2,
          2
         ],
         "yaxis": "y"
        },
        {
         "marker": {
          "color": "rgb(214, 39, 40)",
          "size": 5,
          "symbol": "circle"
         },
         "mode": "markers",
         "name": "orenth03",
         "type": "scatter",
         "x": [
          "2022-10-10T11:00:02.929000+00:00",
          "2022-10-20T05:58:23.456000+00:00",
          "2022-10-26T07:37:07.770000+00:00"
         ],
         "xaxis": "x",
         "y": [
          3,
          3,
          3
         ],
         "yaxis": "y"
        },
        {
         "marker": {
          "color": "rgb(148, 103, 189)",
          "size": 5,
          "symbol": "circle"
         },
         "mode": "markers",
         "name": "orenth04",
         "type": "scatter",
         "x": [
          "2022-10-12T03:44:37.217000+00:00",
          "2022-10-23T04:29:12.833000+00:00",
          "2022-11-03T10:06:18.638000+00:00"
         ],
         "xaxis": "x",
         "y": [
          4,
          4,
          4
         ],
         "yaxis": "y"
        },
        {
         "marker": {
          "color": "rgb(140, 86, 75)",
          "size": 5,
          "symbol": "circle"
         },
         "mode": "markers",
         "name": "orenth05",
         "type": "scatter",
         "x": [
          "2022-10-23T11:00:11.359000+00:00",
          "2022-10-29T16:12:29.548000+00:00",
          "2022-11-04T10:43:44.313000+00:00",
          "2022-11-13T13:18:00.918000+00:00"
         ],
         "xaxis": "x",
         "y": [
          5,
          5,
          5,
          5
         ],
         "yaxis": "y"
        },
        {
         "marker": {
          "color": "rgb(227, 119, 194)",
          "size": 5,
          "symbol": "circle"
         },
         "mode": "markers",
         "name": "orenth06",
         "type": "scatter",
         "x": [
          "2022-10-20T01:44:14.293000+00:00",
          "2022-10-26T06:14:13.537000+00:00",
          "2022-11-02T01:14:33.271000+00:00"
         ],
         "xaxis": "x",
         "y": [
          6,
          6,
          6
         ],
         "yaxis": "y"
        },
        {
         "marker": {
          "color": "rgb(127, 127, 127)",
          "size": 5,
          "symbol": "circle"
         },
         "mode": "markers",
         "name": "orenth07",
         "type": "scatter",
         "x": [
          "2022-10-20T02:03:03.913000+00:00",
          "2022-10-26T07:13:22.249000+00:00",
          "2022-11-03T04:25:29.545000+00:00"
         ],
         "xaxis": "x",
         "y": [
          7,
          7,
          7
         ],
         "yaxis": "y"
        },
        {
         "marker": {
          "color": "rgb(188, 189, 34)",
          "size": 5,
          "symbol": "circle"
         },
         "mode": "markers",
         "name": "orenth08",
         "type": "scatter",
         "x": [
          "2022-10-27T09:11:54.515000+00:00",
          "2022-11-02T08:56:25.105000+00:00",
          "2022-11-09T07:17:33.704000+00:00",
          "2022-11-18T09:41:03.523000+00:00"
         ],
         "xaxis": "x",
         "y": [
          8,
          8,
          8,
          8
         ],
         "yaxis": "y"
        },
        {
         "marker": {
          "color": "rgb(23, 190, 207)",
          "size": 5,
          "symbol": "circle"
         },
         "mode": "markers",
         "name": "orenth09",
         "type": "scatter",
         "x": [
          "2022-10-24T03:38:53.018000+00:00",
          "2022-11-01T02:44:42.532000+00:00",
          "2022-11-21T15:04:33.205000+00:00"
         ],
         "xaxis": "x",
         "y": [
          9,
          9,
          9
         ],
         "yaxis": "y"
        },
        {
         "marker": {
          "color": "rgb(31, 119, 180)",
          "size": 5,
          "symbol": "circle"
         },
         "mode": "markers",
         "name": "orenth10",
         "type": "scatter",
         "x": [
          "2022-11-02T00:37:03.639000+00:00",
          "2022-11-08T10:20:36.154000+00:00"
         ],
         "xaxis": "x",
         "y": [
          10,
          10
         ],
         "yaxis": "y"
        },
        {
         "marker": {
          "color": "rgb(255, 127, 14)",
          "size": 5,
          "symbol": "circle"
         },
         "mode": "markers",
         "name": "orenth11",
         "type": "scatter",
         "x": [
          "2022-11-02T01:17:25.145000+00:00",
          "2022-11-09T01:14:18.013000+00:00"
         ],
         "xaxis": "x",
         "y": [
          11,
          11
         ],
         "yaxis": "y"
        },
        {
         "marker": {
          "color": "rgb(44, 160, 44)",
          "size": 5,
          "symbol": "circle"
         },
         "mode": "markers",
         "name": "orenth12",
         "type": "scatter",
         "x": [
          "2022-11-18T04:45:36.119000+00:00",
          "2022-11-23T01:14:35.141000+00:00",
          "2022-11-29T14:05:23.043000+00:00"
         ],
         "xaxis": "x",
         "y": [
          12,
          12,
          12
         ],
         "yaxis": "y"
        },
        {
         "marker": {
          "color": "rgb(214, 39, 40)",
          "size": 5,
          "symbol": "circle"
         },
         "mode": "markers",
         "name": "orenth13",
         "type": "scatter",
         "x": [
          "2022-11-07T14:56:39.260000+00:00",
          "2022-11-14T02:25:55.359000+00:00",
          "2022-11-21T08:43:48.911000+00:00"
         ],
         "xaxis": "x",
         "y": [
          13,
          13,
          13
         ],
         "yaxis": "y"
        },
        {
         "marker": {
          "color": "rgb(148, 103, 189)",
          "size": 5,
          "symbol": "circle"
         },
         "mode": "markers",
         "name": "orenth14",
         "type": "scatter",
         "x": [
          "2022-11-02T03:57:20.922000+00:00",
          "2022-11-09T07:12:55.693000+00:00",
          "2022-11-18T06:57:55.521000+00:00",
          "2022-11-26T10:14:10.774000+00:00"
         ],
         "xaxis": "x",
         "y": [
          14,
          14,
          14,
          14
         ],
         "yaxis": "y"
        },
        {
         "marker": {
          "color": "rgb(140, 86, 75)",
          "size": 5,
          "symbol": "circle"
         },
         "mode": "markers",
         "name": "orenth15",
         "type": "scatter",
         "x": [
          "2022-11-04T06:42:02.149000+00:00",
          "2022-11-10T01:32:41.243000+00:00",
          "2022-11-18T13:51:46.545000+00:00",
          "2022-11-25T16:47:46.748000+00:00",
          "2022-11-30T07:01:14.398000+00:00"
         ],
         "xaxis": "x",
         "y": [
          15,
          15,
          15,
          15,
          15
         ],
         "yaxis": "y"
        },
        {
         "marker": {
          "color": "rgb(227, 119, 194)",
          "size": 5,
          "symbol": "circle"
         },
         "mode": "markers",
         "name": "orenth16",
         "type": "scatter",
         "x": [
          "2022-11-02T08:40:51.988000+00:00",
          "2022-11-10T07:31:23.289000+00:00",
          "2022-11-16T10:00:54.628000+00:00",
          "2022-11-24T12:27:21.963000+00:00",
          "2022-11-30T07:04:47.484000+00:00"
         ],
         "xaxis": "x",
         "y": [
          16,
          16,
          16,
          16,
          16
         ],
         "yaxis": "y"
        },
        {
         "marker": {
          "color": "rgb(127, 127, 127)",
          "size": 5,
          "symbol": "circle"
         },
         "mode": "markers",
         "name": "orenth17",
         "type": "scatter",
         "x": [
          "2022-11-11T16:40:40.319000+00:00",
          "2022-11-18T02:02:37.870000+00:00",
          "2022-11-25T07:32:18.897000+00:00"
         ],
         "xaxis": "x",
         "y": [
          17,
          17,
          17
         ],
         "yaxis": "y"
        },
        {
         "marker": {
          "color": "rgb(188, 189, 34)",
          "size": 5,
          "symbol": "circle"
         },
         "mode": "markers",
         "name": "orenth18",
         "type": "scatter",
         "x": [
          "2022-11-11T08:00:57.503000+00:00",
          "2022-11-18T08:01:54.907000+00:00",
          "2022-11-25T01:15:27.548000+00:00",
          "2022-11-29T13:23:14.762000+00:00"
         ],
         "xaxis": "x",
         "y": [
          18,
          18,
          18,
          18
         ],
         "yaxis": "y"
        },
        {
         "marker": {
          "color": "rgb(23, 190, 207)",
          "size": 5,
          "symbol": "circle"
         },
         "mode": "markers",
         "name": "orenth19",
         "type": "scatter",
         "x": [
          "2022-11-09T01:16:44.302000+00:00",
          "2022-11-16T01:16:21.086000+00:00",
          "2022-11-23T01:15:51.064000+00:00",
          "2022-11-30T03:01:42.025000+00:00"
         ],
         "xaxis": "x",
         "y": [
          19,
          19,
          19,
          19
         ],
         "yaxis": "y"
        },
        {
         "marker": {
          "color": "rgb(31, 119, 180)",
          "size": 5,
          "symbol": "circle"
         },
         "mode": "markers",
         "name": "orenth20",
         "type": "scatter",
         "x": [
          "2022-11-09T01:39:25.257000+00:00",
          "2022-11-16T02:30:24.685000+00:00",
          "2022-11-23T03:14:46.046000+00:00"
         ],
         "xaxis": "x",
         "y": [
          20,
          20,
          20
         ],
         "yaxis": "y"
        },
        {
         "marker": {
          "color": "rgb(255, 127, 14)",
          "size": 5,
          "symbol": "circle"
         },
         "mode": "markers",
         "name": "orenth21",
         "type": "scatter",
         "x": [
          "2022-11-08T06:10:36.406000+00:00",
          "2022-11-19T01:57:23.879000+00:00",
          "2022-11-30T01:37:45.614000+00:00"
         ],
         "xaxis": "x",
         "y": [
          21,
          21,
          21
         ],
         "yaxis": "y"
        },
        {
         "marker": {
          "color": "rgb(44, 160, 44)",
          "size": 5,
          "symbol": "circle"
         },
         "mode": "markers",
         "name": "orenth22",
         "type": "scatter",
         "x": [
          "2022-11-09T02:40:41.159000+00:00",
          "2022-11-23T01:15:50.109000+00:00",
          "2022-12-07T11:12:00.917000+00:00"
         ],
         "xaxis": "x",
         "y": [
          22,
          22,
          22
         ],
         "yaxis": "y"
        },
        {
         "marker": {
          "color": "rgb(214, 39, 40)",
          "size": 5,
          "symbol": "circle"
         },
         "mode": "markers",
         "name": "orenth23",
         "type": "scatter",
         "x": [
          "2022-11-15T01:01:35.199000+00:00",
          "2022-11-20T09:08:36.912000+00:00"
         ],
         "xaxis": "x",
         "y": [
          23,
          23
         ],
         "yaxis": "y"
        },
        {
         "marker": {
          "color": "rgb(148, 103, 189)",
          "size": 5,
          "symbol": "circle"
         },
         "mode": "markers",
         "name": "orenth24",
         "type": "scatter",
         "x": [
          "2022-11-17T03:26:54.881000+00:00",
          "2022-11-20T02:13:08.101000+00:00"
         ],
         "xaxis": "x",
         "y": [
          24,
          24
         ],
         "yaxis": "y"
        },
        {
         "marker": {
          "color": "rgb(140, 86, 75)",
          "size": 5,
          "symbol": "circle"
         },
         "mode": "markers",
         "name": "orenth25",
         "type": "scatter",
         "x": [
          "2022-11-18T12:48:55.549000+00:00",
          "2022-11-23T08:33:23.784000+00:00"
         ],
         "xaxis": "x",
         "y": [
          25,
          25
         ],
         "yaxis": "y"
        },
        {
         "marker": {
          "color": "rgb(227, 119, 194)",
          "size": 5,
          "symbol": "circle"
         },
         "mode": "markers",
         "name": "orenth26",
         "type": "scatter",
         "x": [
          "2022-11-19T03:57:10.559000+00:00",
          "2022-11-30T13:06:49.250000+00:00",
          "2022-12-10T07:00:59.755000+00:00",
          "2023-01-08T01:36:04.896000+00:00"
         ],
         "xaxis": "x",
         "y": [
          26,
          26,
          26,
          26
         ],
         "yaxis": "y"
        },
        {
         "marker": {
          "color": "rgb(127, 127, 127)",
          "size": 5,
          "symbol": "circle"
         },
         "mode": "markers",
         "name": "orenth27",
         "type": "scatter",
         "x": [
          "2022-11-17T09:20:25.799000+00:00",
          "2022-11-30T00:35:18.006000+00:00",
          "2022-12-11T06:44:17.081000+00:00",
          "2022-12-22T04:14:08.823000+00:00",
          "2022-12-26T22:30:43.786000+00:00",
          "2023-01-07T06:47:44.417000+00:00"
         ],
         "xaxis": "x",
         "y": [
          27,
          27,
          27,
          27,
          27,
          27
         ],
         "yaxis": "y"
        },
        {
         "marker": {
          "color": "rgb(188, 189, 34)",
          "size": 5,
          "symbol": "circle"
         },
         "mode": "markers",
         "name": "orenth28",
         "type": "scatter",
         "x": [
          "2022-11-16T03:50:08.583000+00:00",
          "2022-11-23T01:05:58.853000+00:00",
          "2022-11-29T03:44:21.789000+00:00",
          "2022-12-05T02:49:20.576000+00:00",
          "2022-12-14T01:15:13.421000+00:00",
          "2022-12-21T01:20:05.358000+00:00",
          "2022-12-28T02:16:46.134000+00:00"
         ],
         "xaxis": "x",
         "y": [
          28,
          28,
          28,
          28,
          28,
          28,
          28
         ],
         "yaxis": "y"
        },
        {
         "marker": {
          "color": "rgb(23, 190, 207)",
          "size": 5,
          "symbol": "circle"
         },
         "mode": "markers",
         "name": "orenth29",
         "type": "scatter",
         "x": [
          "2022-11-29T00:40:22.065000+00:00",
          "2022-12-03T07:03:09.364000+00:00",
          "2022-12-08T13:01:11.809000+00:00",
          "2022-12-16T06:42:35.321000+00:00",
          "2022-12-23T13:17:44.921000+00:00",
          "2023-01-05T11:29:54.968000+00:00",
          "2023-01-12T13:00:52.649000+00:00"
         ],
         "xaxis": "x",
         "y": [
          29,
          29,
          29,
          29,
          29,
          29,
          29
         ],
         "yaxis": "y"
        },
        {
         "marker": {
          "color": "rgb(31, 119, 180)",
          "size": 5,
          "symbol": "circle"
         },
         "mode": "markers",
         "name": "orenth31",
         "type": "scatter",
         "x": [
          "2022-12-01T01:15:34.850000+00:00",
          "2022-12-20T05:11:18.703000+00:00",
          "2023-01-09T06:26:21.414000+00:00",
          "2023-01-25T04:16:53.005000+00:00",
          "2023-02-15T07:10:38.953000+00:00"
         ],
         "xaxis": "x",
         "y": [
          30,
          30,
          30,
          30,
          30
         ],
         "yaxis": "y"
        },
        {
         "marker": {
          "color": "rgb(255, 127, 14)",
          "size": 5,
          "symbol": "circle"
         },
         "mode": "markers",
         "name": "orenth32",
         "type": "scatter",
         "x": [
          "2022-11-30T00:48:24.818000+00:00",
          "2022-12-07T04:30:17.409000+00:00",
          "2022-12-14T04:56:15.503000+00:00",
          "2022-12-23T05:06:07.920000+00:00",
          "2022-12-30T02:31:51.909000+00:00"
         ],
         "xaxis": "x",
         "y": [
          31,
          31,
          31,
          31,
          31
         ],
         "yaxis": "y"
        },
        {
         "marker": {
          "color": "rgb(44, 160, 44)",
          "size": 5,
          "symbol": "circle"
         },
         "mode": "markers",
         "name": "orenth33",
         "type": "scatter",
         "x": [
          "2022-11-30T10:07:06.611000+00:00",
          "2022-12-09T16:38:13.879000+00:00",
          "2022-12-15T08:38:58.066000+00:00",
          "2022-12-21T07:41:23.630000+00:00",
          "2022-12-27T04:53:35.849000+00:00"
         ],
         "xaxis": "x",
         "y": [
          32,
          32,
          32,
          32,
          32
         ],
         "yaxis": "y"
        },
        {
         "marker": {
          "color": "rgb(214, 39, 40)",
          "size": 5,
          "symbol": "circle"
         },
         "mode": "markers",
         "name": "orenth34",
         "type": "scatter",
         "x": [
          "2022-11-29T04:01:31.913000+00:00",
          "2022-12-07T01:47:14.083000+00:00",
          "2022-12-14T01:14:56.441000+00:00",
          "2022-12-21T01:20:36.940000+00:00",
          "2022-12-28T04:01:34.621000+00:00"
         ],
         "xaxis": "x",
         "y": [
          33,
          33,
          33,
          33,
          33
         ],
         "yaxis": "y"
        },
        {
         "marker": {
          "color": "rgb(148, 103, 189)",
          "size": 5,
          "symbol": "circle"
         },
         "mode": "markers",
         "name": "orenth35",
         "type": "scatter",
         "x": [
          "2022-11-30T03:59:52.186000+00:00",
          "2022-12-07T07:16:47.182000+00:00",
          "2022-12-15T09:21:09.460000+00:00",
          "2022-12-24T04:09:00.766000+00:00",
          "2023-01-02T10:16:08.905000+00:00"
         ],
         "xaxis": "x",
         "y": [
          34,
          34,
          34,
          34,
          34
         ],
         "yaxis": "y"
        },
        {
         "marker": {
          "color": "rgb(140, 86, 75)",
          "size": 5,
          "symbol": "circle"
         },
         "mode": "markers",
         "name": "orenth36",
         "type": "scatter",
         "x": [
          "2022-12-07T14:31:35.769000+00:00",
          "2022-12-07T14:33:43.050000+00:00"
         ],
         "xaxis": "x",
         "y": [
          35,
          35
         ],
         "yaxis": "y"
        },
        {
         "marker": {
          "color": "rgb(227, 119, 194)",
          "size": 5,
          "symbol": "circle"
         },
         "mode": "markers",
         "name": "orenth37",
         "type": "scatter",
         "x": [
          "2022-12-06T01:51:33.558000+00:00",
          "2022-12-14T07:00:56.247000+00:00",
          "2022-12-19T01:18:41.684000+00:00"
         ],
         "xaxis": "x",
         "y": [
          36,
          36,
          36
         ],
         "yaxis": "y"
        },
        {
         "marker": {
          "color": "rgb(127, 127, 127)",
          "size": 5,
          "symbol": "circle"
         },
         "mode": "markers",
         "name": "orenth38",
         "type": "scatter",
         "x": [
          "2022-11-30T06:27:47.071000+00:00",
          "2022-12-06T02:09:11.900000+00:00",
          "2022-12-16T01:00:52.971000+00:00",
          "2022-12-24T01:20:49.611000+00:00"
         ],
         "xaxis": "x",
         "y": [
          37,
          37,
          37,
          37
         ],
         "yaxis": "y"
        },
        {
         "marker": {
          "color": "rgb(188, 189, 34)",
          "size": 5,
          "symbol": "circle"
         },
         "mode": "markers",
         "name": "orenth39",
         "type": "scatter",
         "x": [
          "2022-12-06T03:24:15.559000+00:00",
          "2022-12-20T05:14:42.192000+00:00"
         ],
         "xaxis": "x",
         "y": [
          38,
          38
         ],
         "yaxis": "y"
        },
        {
         "marker": {
          "color": "rgb(23, 190, 207)",
          "size": 5,
          "symbol": "circle"
         },
         "mode": "markers",
         "name": "orenth40",
         "type": "scatter",
         "x": [
          "2022-12-15T18:59:59.261000+00:00",
          "2022-12-23T09:01:35.623000+00:00",
          "2022-12-30T09:07:04.855000+00:00"
         ],
         "xaxis": "x",
         "y": [
          39,
          39,
          39
         ],
         "yaxis": "y"
        },
        {
         "marker": {
          "color": "rgb(31, 119, 180)",
          "size": 5,
          "symbol": "circle"
         },
         "mode": "markers",
         "name": "orenth41",
         "type": "scatter",
         "x": [
          "2022-12-04T05:25:24.061000+00:00",
          "2022-12-09T02:45:52.110000+00:00",
          "2022-12-16T04:44:49.399000+00:00"
         ],
         "xaxis": "x",
         "y": [
          40,
          40,
          40
         ],
         "yaxis": "y"
        },
        {
         "marker": {
          "color": "rgb(255, 127, 14)",
          "size": 5,
          "symbol": "circle"
         },
         "mode": "markers",
         "name": "orenth42",
         "type": "scatter",
         "x": [
          "2022-12-09T01:03:57.328000+00:00",
          "2022-12-16T02:56:48.773000+00:00",
          "2022-12-26T00:16:45.783000+00:00",
          "2022-12-30T03:14:25.088000+00:00",
          "2023-01-06T04:43:18.567000+00:00",
          "2023-01-11T01:05:24.459000+00:00",
          "2023-01-17T04:04:15.692000+00:00"
         ],
         "xaxis": "x",
         "y": [
          41,
          41,
          41,
          41,
          41,
          41,
          41
         ],
         "yaxis": "y"
        },
        {
         "marker": {
          "color": "rgb(44, 160, 44)",
          "size": 5,
          "symbol": "circle"
         },
         "mode": "markers",
         "name": "orenth43",
         "type": "scatter",
         "x": [
          "2022-12-07T04:01:45.217000+00:00",
          "2022-12-14T03:20:33.169000+00:00"
         ],
         "xaxis": "x",
         "y": [
          42,
          42
         ],
         "yaxis": "y"
        },
        {
         "marker": {
          "color": "rgb(214, 39, 40)",
          "size": 5,
          "symbol": "circle"
         },
         "mode": "markers",
         "name": "orenth44",
         "type": "scatter",
         "x": [
          "2022-12-13T06:24:58.926000+00:00",
          "2022-12-22T04:01:16.757000+00:00",
          "2022-12-28T12:15:22.769000+00:00",
          "2023-01-04T01:04:57.358000+00:00",
          "2023-01-11T15:54:44.729000+00:00"
         ],
         "xaxis": "x",
         "y": [
          43,
          43,
          43,
          43,
          43
         ],
         "yaxis": "y"
        },
        {
         "marker": {
          "color": "rgb(148, 103, 189)",
          "size": 5,
          "symbol": "circle"
         },
         "mode": "markers",
         "name": "orenth45",
         "type": "scatter",
         "x": [
          "2022-12-10T07:01:09.062000+00:00",
          "2022-12-16T01:20:43.024000+00:00",
          "2022-12-21T01:24:45.376000+00:00"
         ],
         "xaxis": "x",
         "y": [
          44,
          44,
          44
         ],
         "yaxis": "y"
        },
        {
         "marker": {
          "color": "rgb(140, 86, 75)",
          "size": 5,
          "symbol": "circle"
         },
         "mode": "markers",
         "name": "orenth46",
         "type": "scatter",
         "x": [
          "2022-12-07T13:28:02.430000+00:00",
          "2022-12-16T03:43:53.762000+00:00"
         ],
         "xaxis": "x",
         "y": [
          45,
          45
         ],
         "yaxis": "y"
        },
        {
         "marker": {
          "color": "rgb(227, 119, 194)",
          "size": 5,
          "symbol": "circle"
         },
         "mode": "markers",
         "name": "orenth48",
         "type": "scatter",
         "x": [
          "2022-12-14T01:20:45.779000+00:00",
          "2022-12-26T10:20:03.345000+00:00",
          "2023-01-01T03:33:15.429000+00:00",
          "2023-01-27T01:02:01.094000+00:00",
          "2023-02-01T07:37:14.442000+00:00"
         ],
         "xaxis": "x",
         "y": [
          46,
          46,
          46,
          46,
          46
         ],
         "yaxis": "y"
        },
        {
         "marker": {
          "color": "rgb(127, 127, 127)",
          "size": 5,
          "symbol": "circle"
         },
         "mode": "markers",
         "name": "orenth49",
         "type": "scatter",
         "x": [
          "2023-01-03T09:48:50.190000+00:00",
          "2023-01-09T00:20:20.605000+00:00",
          "2023-01-19T02:30:24.576000+00:00"
         ],
         "xaxis": "x",
         "y": [
          47,
          47,
          47
         ],
         "yaxis": "y"
        },
        {
         "marker": {
          "color": "rgb(188, 189, 34)",
          "size": 5,
          "symbol": "circle"
         },
         "mode": "markers",
         "name": "orenth50",
         "type": "scatter",
         "x": [
          "2022-12-24T04:38:24.868000+00:00",
          "2023-01-06T07:21:56.340000+00:00",
          "2023-01-11T02:18:13.076000+00:00"
         ],
         "xaxis": "x",
         "y": [
          48,
          48,
          48
         ],
         "yaxis": "y"
        },
        {
         "marker": {
          "color": "rgb(23, 190, 207)",
          "size": 5,
          "symbol": "circle"
         },
         "mode": "markers",
         "name": "usk01",
         "type": "scatter",
         "x": [
          "2023-04-01T14:14:05.420000+00:00",
          "2023-04-08T05:26:33.945000+00:00",
          "2023-04-23T16:47:21.897000+00:00"
         ],
         "xaxis": "x",
         "y": [
          49,
          49,
          49
         ],
         "yaxis": "y"
        },
        {
         "marker": {
          "color": "rgb(31, 119, 180)",
          "size": 5,
          "symbol": "circle"
         },
         "mode": "markers",
         "name": "usk02",
         "type": "scatter",
         "x": [
          "2023-04-02T08:51:33.496000+00:00",
          "2023-04-08T05:30:35.074000+00:00",
          "2023-04-13T01:36:02.860000+00:00"
         ],
         "xaxis": "x",
         "y": [
          50,
          50,
          50
         ],
         "yaxis": "y"
        },
        {
         "marker": {
          "color": "rgb(255, 127, 14)",
          "size": 5,
          "symbol": "circle"
         },
         "mode": "markers",
         "name": "usk03",
         "type": "scatter",
         "x": [
          "2023-04-04T06:09:56.387000+00:00",
          "2023-04-14T14:24:50.825000+00:00",
          "2023-04-19T15:44:23.394000+00:00",
          "2023-04-26T01:04:27.139000+00:00"
         ],
         "xaxis": "x",
         "y": [
          51,
          51,
          51,
          51
         ],
         "yaxis": "y"
        },
        {
         "marker": {
          "color": "rgb(44, 160, 44)",
          "size": 5,
          "symbol": "circle"
         },
         "mode": "markers",
         "name": "usk04",
         "type": "scatter",
         "x": [
          "2023-03-30T07:01:50.909000+00:00",
          "2023-04-08T05:25:27.453000+00:00",
          "2023-04-17T01:52:05.089000+00:00",
          "2023-04-21T05:47:40.294000+00:00"
         ],
         "xaxis": "x",
         "y": [
          52,
          52,
          52,
          52
         ],
         "yaxis": "y"
        },
        {
         "marker": {
          "color": "rgb(214, 39, 40)",
          "size": 5,
          "symbol": "circle"
         },
         "mode": "markers",
         "name": "usk05",
         "type": "scatter",
         "x": [
          "2023-03-29T02:11:15.884000+00:00",
          "2023-04-04T06:36:38.946000+00:00",
          "2023-04-12T10:26:39.666000+00:00",
          "2023-04-19T06:37:54.722000+00:00"
         ],
         "xaxis": "x",
         "y": [
          53,
          53,
          53,
          53
         ],
         "yaxis": "y"
        },
        {
         "marker": {
          "color": "rgb(148, 103, 189)",
          "size": 5,
          "symbol": "circle"
         },
         "mode": "markers",
         "name": "usk06",
         "type": "scatter",
         "x": [
          "2023-04-03T02:41:23.660000+00:00",
          "2023-04-08T05:30:02.909000+00:00",
          "2023-04-13T05:12:36.847000+00:00"
         ],
         "xaxis": "x",
         "y": [
          54,
          54,
          54
         ],
         "yaxis": "y"
        },
        {
         "marker": {
          "color": "rgb(140, 86, 75)",
          "size": 5,
          "symbol": "circle"
         },
         "mode": "markers",
         "name": "usk07",
         "type": "scatter",
         "x": [
          "2023-04-07T01:19:11.119000+00:00",
          "2023-04-15T04:31:21.363000+00:00",
          "2023-04-21T06:31:36.622000+00:00",
          "2023-04-29T04:39:42.529000+00:00",
          "2023-05-05T05:15:44.638000+00:00",
          "2023-05-10T21:16:37.208000+00:00"
         ],
         "xaxis": "x",
         "y": [
          55,
          55,
          55,
          55,
          55,
          55
         ],
         "yaxis": "y"
        },
        {
         "marker": {
          "color": "rgb(227, 119, 194)",
          "size": 5,
          "symbol": "circle"
         },
         "mode": "markers",
         "name": "usk08",
         "type": "scatter",
         "x": [
          "2023-04-05T13:53:00.176000+00:00",
          "2023-04-15T10:49:37.657000+00:00",
          "2023-04-20T10:01:14.169000+00:00",
          "2023-04-26T07:19:07.396000+00:00",
          "2023-05-02T06:01:33.716000+00:00",
          "2023-05-07T06:51:48.729000+00:00"
         ],
         "xaxis": "x",
         "y": [
          56,
          56,
          56,
          56,
          56,
          56
         ],
         "yaxis": "y"
        },
        {
         "marker": {
          "color": "rgb(127, 127, 127)",
          "size": 5,
          "symbol": "circle"
         },
         "mode": "markers",
         "name": "usk09",
         "type": "scatter",
         "x": [
          "2023-03-29T01:05:05.332000+00:00",
          "2023-04-07T02:09:57.872000+00:00",
          "2023-04-13T12:47:09.061000+00:00",
          "2023-04-21T08:38:51.886000+00:00",
          "2023-04-29T04:38:29.166000+00:00",
          "2023-05-07T02:08:04.712000+00:00"
         ],
         "xaxis": "x",
         "y": [
          57,
          57,
          57,
          57,
          57,
          57
         ],
         "yaxis": "y"
        },
        {
         "marker": {
          "color": "rgb(188, 189, 34)",
          "size": 5,
          "symbol": "circle"
         },
         "mode": "markers",
         "name": "usk10",
         "type": "scatter",
         "x": [
          "2023-04-08T05:19:01.979000+00:00",
          "2023-04-12T10:04:07.671000+00:00",
          "2023-04-19T01:04:11.534000+00:00",
          "2023-04-24T09:00:27.047000+00:00",
          "2023-05-03T09:00:37.411000+00:00",
          "2023-05-09T02:24:16.955000+00:00",
          "2023-05-13T04:50:38.993000+00:00"
         ],
         "xaxis": "x",
         "y": [
          58,
          58,
          58,
          58,
          58,
          58,
          58
         ],
         "yaxis": "y"
        },
        {
         "marker": {
          "color": "rgb(23, 190, 207)",
          "size": 5,
          "symbol": "circle"
         },
         "mode": "markers",
         "name": "usk11",
         "type": "scatter",
         "x": [
          "2023-04-08T06:04:23.216000+00:00",
          "2023-04-17T06:01:08.873000+00:00",
          "2023-04-22T06:54:25.458000+00:00",
          "2023-04-29T10:50:35.654000+00:00"
         ],
         "xaxis": "x",
         "y": [
          59,
          59,
          59,
          59
         ],
         "yaxis": "y"
        },
        {
         "marker": {
          "color": "rgb(31, 119, 180)",
          "size": 5,
          "symbol": "circle"
         },
         "mode": "markers",
         "name": "usk13",
         "type": "scatter",
         "x": [
          "2023-04-06T00:54:41.542000+00:00",
          "2023-04-14T04:05:05.109000+00:00",
          "2023-04-18T11:01:48.545000+00:00"
         ],
         "xaxis": "x",
         "y": [
          60,
          60,
          60
         ],
         "yaxis": "y"
        },
        {
         "marker": {
          "color": "rgb(255, 127, 14)",
          "size": 5,
          "symbol": "circle"
         },
         "mode": "markers",
         "name": "usk14",
         "type": "scatter",
         "x": [
          "2023-04-05T01:06:55.437000+00:00",
          "2023-04-13T08:07:53.549000+00:00"
         ],
         "xaxis": "x",
         "y": [
          61,
          61
         ],
         "yaxis": "y"
        },
        {
         "marker": {
          "color": "rgb(44, 160, 44)",
          "size": 5,
          "symbol": "circle"
         },
         "mode": "markers",
         "name": "usk15",
         "type": "scatter",
         "x": [
          "2023-04-05T06:05:47.470000+00:00",
          "2023-04-13T08:03:13.495000+00:00",
          "2023-04-24T14:03:33.021000+00:00",
          "2023-04-30T13:50:59.970000+00:00",
          "2023-05-07T07:54:09.004000+00:00",
          "2023-05-14T09:19:49.232000+00:00"
         ],
         "xaxis": "x",
         "y": [
          62,
          62,
          62,
          62,
          62,
          62
         ],
         "yaxis": "y"
        },
        {
         "marker": {
          "color": "rgb(214, 39, 40)",
          "size": 5,
          "symbol": "circle"
         },
         "mode": "markers",
         "name": "usk16",
         "type": "scatter",
         "x": [
          "2023-04-13T04:59:26.041000+00:00",
          "2023-04-22T07:20:51.113000+00:00"
         ],
         "xaxis": "x",
         "y": [
          63,
          63
         ],
         "yaxis": "y"
        },
        {
         "marker": {
          "color": "rgb(148, 103, 189)",
          "size": 5,
          "symbol": "circle"
         },
         "mode": "markers",
         "name": "usk17",
         "type": "scatter",
         "x": [
          "2023-04-15T03:31:55.782000+00:00",
          "2023-04-22T07:21:06.535000+00:00",
          "2023-04-30T01:26:38.091000+00:00"
         ],
         "xaxis": "x",
         "y": [
          64,
          64,
          64
         ],
         "yaxis": "y"
        },
        {
         "marker": {
          "color": "rgb(140, 86, 75)",
          "size": 5,
          "symbol": "circle"
         },
         "mode": "markers",
         "name": "usk18",
         "type": "scatter",
         "x": [
          "2023-04-15T08:44:48.207000+00:00",
          "2023-04-22T15:24:45.874000+00:00",
          "2023-04-30T05:34:18.699000+00:00",
          "2023-05-06T13:05:52.608000+00:00"
         ],
         "xaxis": "x",
         "y": [
          65,
          65,
          65,
          65
         ],
         "yaxis": "y"
        },
        {
         "marker": {
          "color": "rgb(227, 119, 194)",
          "size": 5,
          "symbol": "circle"
         },
         "mode": "markers",
         "name": "usk19",
         "type": "scatter",
         "x": [
          "2023-04-15T05:09:03.365000+00:00",
          "2023-04-24T10:23:51.807000+00:00",
          "2023-04-30T13:26:02.379000+00:00",
          "2023-05-07T14:58:41.406000+00:00",
          "2023-05-12T07:10:21.749000+00:00",
          "2023-05-19T15:22:46.152000+00:00",
          "2023-05-25T08:00:26.604000+00:00"
         ],
         "xaxis": "x",
         "y": [
          66,
          66,
          66,
          66,
          66,
          66,
          66
         ],
         "yaxis": "y"
        },
        {
         "marker": {
          "color": "rgb(127, 127, 127)",
          "size": 5,
          "symbol": "circle"
         },
         "mode": "markers",
         "name": "usk20",
         "type": "scatter",
         "x": [
          "2023-04-14T10:02:50.630000+00:00",
          "2023-04-19T01:44:49.998000+00:00",
          "2023-04-25T02:22:15.566000+00:00"
         ],
         "xaxis": "x",
         "y": [
          67,
          67,
          67
         ],
         "yaxis": "y"
        },
        {
         "marker": {
          "color": "rgb(188, 189, 34)",
          "size": 5,
          "symbol": "circle"
         },
         "mode": "markers",
         "name": "usk21",
         "type": "scatter",
         "x": [
          "2023-04-15T09:19:39.957000+00:00",
          "2023-04-21T12:00:54.696000+00:00",
          "2023-05-13T10:33:50.221000+00:00"
         ],
         "xaxis": "x",
         "y": [
          68,
          68,
          68
         ],
         "yaxis": "y"
        },
        {
         "marker": {
          "color": "rgb(23, 190, 207)",
          "size": 5,
          "symbol": "circle"
         },
         "mode": "markers",
         "name": "usk22",
         "type": "scatter",
         "x": [
          "2023-04-13T05:01:08.860000+00:00",
          "2023-04-22T06:47:27.526000+00:00",
          "2023-04-30T06:33:17.581000+00:00"
         ],
         "xaxis": "x",
         "y": [
          69,
          69,
          69
         ],
         "yaxis": "y"
        },
        {
         "marker": {
          "color": "rgb(31, 119, 180)",
          "size": 5,
          "symbol": "circle"
         },
         "mode": "markers",
         "name": "usk23",
         "type": "scatter",
         "x": [
          "2023-04-15T04:27:36.444000+00:00",
          "2023-04-21T02:21:30.753000+00:00",
          "2023-05-01T04:02:43.143000+00:00"
         ],
         "xaxis": "x",
         "y": [
          70,
          70,
          70
         ],
         "yaxis": "y"
        },
        {
         "marker": {
          "color": "rgb(255, 127, 14)",
          "size": 5,
          "symbol": "circle"
         },
         "mode": "markers",
         "name": "usk24",
         "type": "scatter",
         "x": [
          "2023-04-15T08:32:09.737000+00:00",
          "2023-04-22T19:31:32.800000+00:00"
         ],
         "xaxis": "x",
         "y": [
          71,
          71
         ],
         "yaxis": "y"
        },
        {
         "marker": {
          "color": "rgb(44, 160, 44)",
          "size": 5,
          "symbol": "circle"
         },
         "mode": "markers",
         "name": "usk25",
         "type": "scatter",
         "x": [
          "2023-04-19T03:35:49.464000+00:00",
          "2023-04-28T03:31:56.216000+00:00"
         ],
         "xaxis": "x",
         "y": [
          72,
          72
         ],
         "yaxis": "y"
        },
        {
         "marker": {
          "color": "rgb(214, 39, 40)",
          "size": 5,
          "symbol": "circle"
         },
         "mode": "markers",
         "name": "usk26",
         "type": "scatter",
         "x": [
          "2023-04-19T01:06:47.873000+00:00",
          "2023-05-03T01:04:24.496000+00:00",
          "2023-05-07T05:04:30.030000+00:00",
          "2023-05-17T01:05:36.423000+00:00",
          "2023-05-21T02:55:45.077000+00:00"
         ],
         "xaxis": "x",
         "y": [
          73,
          73,
          73,
          73,
          73
         ],
         "yaxis": "y"
        },
        {
         "marker": {
          "color": "rgb(148, 103, 189)",
          "size": 5,
          "symbol": "circle"
         },
         "mode": "markers",
         "name": "usk27",
         "type": "scatter",
         "x": [
          "2023-04-17T07:18:02.629000+00:00",
          "2023-04-27T10:05:20.206000+00:00",
          "2023-05-07T14:08:23.424000+00:00"
         ],
         "xaxis": "x",
         "y": [
          74,
          74,
          74
         ],
         "yaxis": "y"
        },
        {
         "marker": {
          "color": "rgb(140, 86, 75)",
          "size": 5,
          "symbol": "circle"
         },
         "mode": "markers",
         "name": "usk28",
         "type": "scatter",
         "x": [
          "2023-04-22T14:03:25.843000+00:00",
          "2023-04-29T12:21:02.903000+00:00",
          "2023-05-08T02:16:27.871000+00:00",
          "2023-05-14T06:33:13.162000+00:00",
          "2023-05-21T07:49:37.999000+00:00",
          "2023-05-28T08:13:19.738000+00:00"
         ],
         "xaxis": "x",
         "y": [
          75,
          75,
          75,
          75,
          75,
          75
         ],
         "yaxis": "y"
        },
        {
         "marker": {
          "color": "rgb(227, 119, 194)",
          "size": 5,
          "symbol": "circle"
         },
         "mode": "markers",
         "name": "usk29",
         "type": "scatter",
         "x": [
          "2023-04-21T10:11:50.489000+00:00",
          "2023-04-28T04:47:53.347000+00:00",
          "2023-05-05T01:04:57.078000+00:00"
         ],
         "xaxis": "x",
         "y": [
          76,
          76,
          76
         ],
         "yaxis": "y"
        },
        {
         "marker": {
          "color": "rgb(127, 127, 127)",
          "size": 5,
          "symbol": "circle"
         },
         "mode": "markers",
         "name": "usk30",
         "type": "scatter",
         "x": [
          "2023-04-22T06:49:31.850000+00:00",
          "2023-04-29T04:45:08.091000+00:00",
          "2023-05-06T01:01:16.629000+00:00",
          "2023-05-13T15:50:11.682000+00:00"
         ],
         "xaxis": "x",
         "y": [
          77,
          77,
          77,
          77
         ],
         "yaxis": "y"
        },
        {
         "marker": {
          "color": "rgb(188, 189, 34)",
          "size": 5,
          "symbol": "circle"
         },
         "mode": "markers",
         "name": "usk31",
         "type": "scatter",
         "x": [
          "2023-04-22T06:52:57.013000+00:00",
          "2023-04-28T02:10:27.019000+00:00",
          "2023-05-07T05:50:40.610000+00:00",
          "2023-05-12T04:01:23.933000+00:00",
          "2023-05-17T01:04:16.370000+00:00",
          "2023-05-22T02:01:56.639000+00:00",
          "2023-05-28T07:00:40.628000+00:00"
         ],
         "xaxis": "x",
         "y": [
          78,
          78,
          78,
          78,
          78,
          78,
          78
         ],
         "yaxis": "y"
        },
        {
         "marker": {
          "color": "rgb(23, 190, 207)",
          "size": 5,
          "symbol": "circle"
         },
         "mode": "markers",
         "name": "usk32",
         "type": "scatter",
         "x": [
          "2023-04-19T05:53:59.078000+00:00",
          "2023-04-29T05:12:30.639000+00:00",
          "2023-05-07T04:46:08.915000+00:00"
         ],
         "xaxis": "x",
         "y": [
          79,
          79,
          79
         ],
         "yaxis": "y"
        },
        {
         "marker": {
          "color": "rgb(31, 119, 180)",
          "size": 5,
          "symbol": "circle"
         },
         "mode": "markers",
         "name": "usk33",
         "type": "scatter",
         "x": [
          "2023-04-22T07:31:18.733000+00:00",
          "2023-05-14T11:17:35.561000+00:00"
         ],
         "xaxis": "x",
         "y": [
          80,
          80
         ],
         "yaxis": "y"
        },
        {
         "marker": {
          "color": "rgb(255, 127, 14)",
          "size": 5,
          "symbol": "circle"
         },
         "mode": "markers",
         "name": "usk34",
         "type": "scatter",
         "x": [
          "2023-04-27T02:31:28.523000+00:00",
          "2023-05-03T06:59:28.899000+00:00",
          "2023-05-10T01:04:44.633000+00:00",
          "2023-05-17T01:27:05.750000+00:00"
         ],
         "xaxis": "x",
         "y": [
          81,
          81,
          81,
          81
         ],
         "yaxis": "y"
        },
        {
         "marker": {
          "color": "rgb(44, 160, 44)",
          "size": 5,
          "symbol": "circle"
         },
         "mode": "markers",
         "name": "usk35",
         "type": "scatter",
         "x": [
          "2023-04-29T04:43:55.800000+00:00",
          "2023-05-06T04:03:27.010000+00:00"
         ],
         "xaxis": "x",
         "y": [
          82,
          82
         ],
         "yaxis": "y"
        },
        {
         "marker": {
          "color": "rgb(214, 39, 40)",
          "size": 5,
          "symbol": "circle"
         },
         "mode": "markers",
         "name": "usk36",
         "type": "scatter",
         "x": [
          "2023-04-26T01:05:00.335000+00:00",
          "2023-05-03T02:07:08.509000+00:00",
          "2023-05-10T01:09:45.189000+00:00"
         ],
         "xaxis": "x",
         "y": [
          83,
          83,
          83
         ],
         "yaxis": "y"
        },
        {
         "marker": {
          "color": "rgb(148, 103, 189)",
          "size": 5,
          "symbol": "circle"
         },
         "mode": "markers",
         "name": "usk37",
         "type": "scatter",
         "x": [
          "2023-04-26T04:48:55.746000+00:00",
          "2023-05-07T09:51:12.168000+00:00"
         ],
         "xaxis": "x",
         "y": [
          84,
          84
         ],
         "yaxis": "y"
        },
        {
         "marker": {
          "color": "rgb(140, 86, 75)",
          "size": 5,
          "symbol": "circle"
         },
         "mode": "markers",
         "name": "usk38",
         "type": "scatter",
         "x": [
          "2023-04-29T04:40:08.932000+00:00",
          "2023-05-05T03:07:06.485000+00:00",
          "2023-05-12T06:25:27.670000+00:00",
          "2023-05-19T01:04:53.539000+00:00",
          "2023-05-31T10:08:45.029000+00:00"
         ],
         "xaxis": "x",
         "y": [
          85,
          85,
          85,
          85,
          85
         ],
         "yaxis": "y"
        },
        {
         "marker": {
          "color": "rgb(227, 119, 194)",
          "size": 5,
          "symbol": "circle"
         },
         "mode": "markers",
         "name": "usk39",
         "type": "scatter",
         "x": [
          "2023-04-29T16:16:01.256000+00:00",
          "2023-05-04T05:21:37.935000+00:00"
         ],
         "xaxis": "x",
         "y": [
          86,
          86
         ],
         "yaxis": "y"
        },
        {
         "marker": {
          "color": "rgb(127, 127, 127)",
          "size": 5,
          "symbol": "circle"
         },
         "mode": "markers",
         "name": "usk40",
         "type": "scatter",
         "x": [
          "2023-05-05T09:36:20.951000+00:00",
          "2023-05-12T04:26:16.824000+00:00",
          "2023-05-17T07:21:44.242000+00:00"
         ],
         "xaxis": "x",
         "y": [
          87,
          87,
          87
         ],
         "yaxis": "y"
        },
        {
         "marker": {
          "color": "rgb(188, 189, 34)",
          "size": 5,
          "symbol": "circle"
         },
         "mode": "markers",
         "name": "usk41",
         "type": "scatter",
         "x": [
          "2023-05-07T05:00:09.692000+00:00",
          "2023-05-13T06:16:35.832000+00:00",
          "2023-05-26T07:05:23.605000+00:00",
          "2023-06-02T07:04:58.393000+00:00"
         ],
         "xaxis": "x",
         "y": [
          88,
          88,
          88,
          88
         ],
         "yaxis": "y"
        },
        {
         "marker": {
          "color": "rgb(23, 190, 207)",
          "size": 5,
          "symbol": "circle"
         },
         "mode": "markers",
         "name": "usk42",
         "type": "scatter",
         "x": [
          "2023-05-05T01:07:40.802000+00:00",
          "2023-05-13T04:52:06.186000+00:00",
          "2023-05-19T01:23:09.450000+00:00",
          "2023-05-28T01:55:33.494000+00:00",
          "2023-06-08T23:51:06.323000+00:00"
         ],
         "xaxis": "x",
         "y": [
          89,
          89,
          89,
          89,
          89
         ],
         "yaxis": "y"
        },
        {
         "marker": {
          "color": "rgb(31, 119, 180)",
          "size": 5,
          "symbol": "circle"
         },
         "mode": "markers",
         "name": "usk43",
         "type": "scatter",
         "x": [
          "2023-05-07T04:52:25.223000+00:00",
          "2023-05-17T01:38:59.383000+00:00",
          "2023-05-21T04:15:12.518000+00:00",
          "2023-06-02T01:04:18.893000+00:00"
         ],
         "xaxis": "x",
         "y": [
          90,
          90,
          90,
          90
         ],
         "yaxis": "y"
        },
        {
         "marker": {
          "color": "rgb(255, 127, 14)",
          "size": 5,
          "symbol": "circle"
         },
         "mode": "markers",
         "name": "usk44",
         "type": "scatter",
         "x": [
          "2023-05-07T05:17:34.536000+00:00",
          "2023-05-13T05:15:46.843000+00:00",
          "2023-05-19T03:01:16.484000+00:00",
          "2023-05-28T07:01:30.948000+00:00"
         ],
         "xaxis": "x",
         "y": [
          91,
          91,
          91,
          91
         ],
         "yaxis": "y"
        },
        {
         "marker": {
          "color": "rgb(44, 160, 44)",
          "size": 5,
          "symbol": "circle"
         },
         "mode": "markers",
         "name": "usk45",
         "type": "scatter",
         "x": [
          "2023-05-07T04:52:19.601000+00:00",
          "2023-05-13T13:00:37.344000+00:00",
          "2023-05-21T11:36:21.558000+00:00",
          "2023-05-28T01:19:49.372000+00:00",
          "2023-06-01T02:43:30.691000+00:00"
         ],
         "xaxis": "x",
         "y": [
          92,
          92,
          92,
          92,
          92
         ],
         "yaxis": "y"
        },
        {
         "marker": {
          "color": "rgb(214, 39, 40)",
          "size": 5,
          "symbol": "circle"
         },
         "mode": "markers",
         "name": "usk46",
         "type": "scatter",
         "x": [
          "2023-05-07T17:01:28.385000+00:00",
          "2023-05-15T04:00:26.229000+00:00",
          "2023-05-22T04:23:25.694000+00:00",
          "2023-05-29T04:30:01.921000+00:00",
          "2023-06-05T10:00:24.889000+00:00",
          "2023-06-20T14:58:11.325000+00:00"
         ],
         "xaxis": "x",
         "y": [
          93,
          93,
          93,
          93,
          93,
          93
         ],
         "yaxis": "y"
        },
        {
         "marker": {
          "color": "rgb(148, 103, 189)",
          "size": 5,
          "symbol": "circle"
         },
         "mode": "markers",
         "name": "usk47",
         "type": "scatter",
         "x": [
          "2023-05-13T13:01:33.344000+00:00",
          "2023-05-20T18:01:25.843000+00:00",
          "2023-05-27T04:49:06.808000+00:00"
         ],
         "xaxis": "x",
         "y": [
          94,
          94,
          94
         ],
         "yaxis": "y"
        },
        {
         "marker": {
          "color": "rgb(140, 86, 75)",
          "size": 5,
          "symbol": "circle"
         },
         "mode": "markers",
         "name": "usk48",
         "type": "scatter",
         "x": [
          "2023-05-03T08:31:42.612000+00:00",
          "2023-05-13T14:40:41.140000+00:00",
          "2023-05-21T12:23:11.961000+00:00"
         ],
         "xaxis": "x",
         "y": [
          95,
          95,
          95
         ],
         "yaxis": "y"
        },
        {
         "marker": {
          "color": "rgb(227, 119, 194)",
          "size": 5,
          "symbol": "circle"
         },
         "mode": "markers",
         "name": "usk49",
         "type": "scatter",
         "x": [
          "2023-05-07T10:41:54.913000+00:00",
          "2023-05-13T09:40:23.289000+00:00",
          "2023-05-20T11:03:11.478000+00:00"
         ],
         "xaxis": "x",
         "y": [
          96,
          96,
          96
         ],
         "yaxis": "y"
        },
        {
         "marker": {
          "color": "rgb(127, 127, 127)",
          "size": 5,
          "symbol": "circle"
         },
         "mode": "markers",
         "name": "usk50",
         "type": "scatter",
         "x": [
          "2023-05-07T05:19:26.297000+00:00",
          "2023-05-13T10:53:40.121000+00:00"
         ],
         "xaxis": "x",
         "y": [
          97,
          97
         ],
         "yaxis": "y"
        },
        {
         "marker": {
          "color": "rgb(188, 189, 34)",
          "size": 5,
          "symbol": "circle"
         },
         "mode": "markers",
         "name": "usk51",
         "type": "scatter",
         "x": [
          "2023-05-07T08:09:49.322000+00:00",
          "2023-05-15T08:25:04.497000+00:00",
          "2023-06-19T11:37:48.339000+00:00"
         ],
         "xaxis": "x",
         "y": [
          98,
          98,
          98
         ],
         "yaxis": "y"
        },
        {
         "marker": {
          "color": "rgb(23, 190, 207)",
          "size": 5,
          "symbol": "circle"
         },
         "mode": "markers",
         "name": "usk52",
         "type": "scatter",
         "x": [
          "2023-05-07T06:40:13.589000+00:00",
          "2023-05-18T07:56:03.299000+00:00"
         ],
         "xaxis": "x",
         "y": [
          99,
          99
         ],
         "yaxis": "y"
        },
        {
         "marker": {
          "color": "rgb(31, 119, 180)",
          "size": 5,
          "symbol": "circle"
         },
         "mode": "markers",
         "name": "usk53",
         "type": "scatter",
         "x": [
          "2023-05-10T05:13:45.784000+00:00",
          "2023-05-24T02:51:29.790000+00:00",
          "2023-05-31T01:07:44.292000+00:00"
         ],
         "xaxis": "x",
         "y": [
          100,
          100,
          100
         ],
         "yaxis": "y"
        },
        {
         "marker": {
          "color": "rgb(255, 127, 14)",
          "size": 5,
          "symbol": "circle"
         },
         "mode": "markers",
         "name": "usk54",
         "type": "scatter",
         "x": [
          "2023-05-13T13:51:46.011000+00:00",
          "2023-05-21T02:55:51.487000+00:00",
          "2023-05-26T16:22:59.740000+00:00",
          "2023-06-01T11:32:16.919000+00:00"
         ],
         "xaxis": "x",
         "y": [
          101,
          101,
          101,
          101
         ],
         "yaxis": "y"
        },
        {
         "marker": {
          "color": "rgb(44, 160, 44)",
          "size": 5,
          "symbol": "circle"
         },
         "mode": "markers",
         "name": "usk55",
         "type": "scatter",
         "x": [
          "2023-05-21T08:17:53.989000+00:00",
          "2023-05-26T11:09:39.204000+00:00",
          "2023-06-09T16:18:34.998000+00:00"
         ],
         "xaxis": "x",
         "y": [
          102,
          102,
          102
         ],
         "yaxis": "y"
        },
        {
         "marker": {
          "color": "rgb(214, 39, 40)",
          "size": 5,
          "symbol": "circle"
         },
         "mode": "markers",
         "name": "usk56",
         "type": "scatter",
         "x": [
          "2023-05-21T04:53:13.177000+00:00",
          "2023-05-31T01:04:39.258000+00:00",
          "2023-06-07T04:13:21.181000+00:00"
         ],
         "xaxis": "x",
         "y": [
          103,
          103,
          103
         ],
         "yaxis": "y"
        }
       ],
       "layout": {
        "annotations": [
         {
          "align": "left",
          "bgcolor": "white",
          "bordercolor": "black",
          "borderwidth": 1,
          "font": {
           "color": "black",
           "size": 12
          },
          "showarrow": false,
          "text": "Legend:<br>\t&#9898; Original data<br>&#9899; Processed data",
          "x": "2022-10-10 11:00:02.929000+00:00",
          "xanchor": "left",
          "y": 80
         }
        ],
        "height": 1400,
        "showlegend": false,
        "template": {
         "data": {
          "bar": [
           {
            "error_x": {
             "color": "#2a3f5f"
            },
            "error_y": {
             "color": "#2a3f5f"
            },
            "marker": {
             "line": {
              "color": "#E5ECF6",
              "width": 0.5
             },
             "pattern": {
              "fillmode": "overlay",
              "size": 10,
              "solidity": 0.2
             }
            },
            "type": "bar"
           }
          ],
          "barpolar": [
           {
            "marker": {
             "line": {
              "color": "#E5ECF6",
              "width": 0.5
             },
             "pattern": {
              "fillmode": "overlay",
              "size": 10,
              "solidity": 0.2
             }
            },
            "type": "barpolar"
           }
          ],
          "carpet": [
           {
            "aaxis": {
             "endlinecolor": "#2a3f5f",
             "gridcolor": "white",
             "linecolor": "white",
             "minorgridcolor": "white",
             "startlinecolor": "#2a3f5f"
            },
            "baxis": {
             "endlinecolor": "#2a3f5f",
             "gridcolor": "white",
             "linecolor": "white",
             "minorgridcolor": "white",
             "startlinecolor": "#2a3f5f"
            },
            "type": "carpet"
           }
          ],
          "choropleth": [
           {
            "colorbar": {
             "outlinewidth": 0,
             "ticks": ""
            },
            "type": "choropleth"
           }
          ],
          "contour": [
           {
            "colorbar": {
             "outlinewidth": 0,
             "ticks": ""
            },
            "colorscale": [
             [
              0,
              "#0d0887"
             ],
             [
              0.1111111111111111,
              "#46039f"
             ],
             [
              0.2222222222222222,
              "#7201a8"
             ],
             [
              0.3333333333333333,
              "#9c179e"
             ],
             [
              0.4444444444444444,
              "#bd3786"
             ],
             [
              0.5555555555555556,
              "#d8576b"
             ],
             [
              0.6666666666666666,
              "#ed7953"
             ],
             [
              0.7777777777777778,
              "#fb9f3a"
             ],
             [
              0.8888888888888888,
              "#fdca26"
             ],
             [
              1,
              "#f0f921"
             ]
            ],
            "type": "contour"
           }
          ],
          "contourcarpet": [
           {
            "colorbar": {
             "outlinewidth": 0,
             "ticks": ""
            },
            "type": "contourcarpet"
           }
          ],
          "heatmap": [
           {
            "colorbar": {
             "outlinewidth": 0,
             "ticks": ""
            },
            "colorscale": [
             [
              0,
              "#0d0887"
             ],
             [
              0.1111111111111111,
              "#46039f"
             ],
             [
              0.2222222222222222,
              "#7201a8"
             ],
             [
              0.3333333333333333,
              "#9c179e"
             ],
             [
              0.4444444444444444,
              "#bd3786"
             ],
             [
              0.5555555555555556,
              "#d8576b"
             ],
             [
              0.6666666666666666,
              "#ed7953"
             ],
             [
              0.7777777777777778,
              "#fb9f3a"
             ],
             [
              0.8888888888888888,
              "#fdca26"
             ],
             [
              1,
              "#f0f921"
             ]
            ],
            "type": "heatmap"
           }
          ],
          "heatmapgl": [
           {
            "colorbar": {
             "outlinewidth": 0,
             "ticks": ""
            },
            "colorscale": [
             [
              0,
              "#0d0887"
             ],
             [
              0.1111111111111111,
              "#46039f"
             ],
             [
              0.2222222222222222,
              "#7201a8"
             ],
             [
              0.3333333333333333,
              "#9c179e"
             ],
             [
              0.4444444444444444,
              "#bd3786"
             ],
             [
              0.5555555555555556,
              "#d8576b"
             ],
             [
              0.6666666666666666,
              "#ed7953"
             ],
             [
              0.7777777777777778,
              "#fb9f3a"
             ],
             [
              0.8888888888888888,
              "#fdca26"
             ],
             [
              1,
              "#f0f921"
             ]
            ],
            "type": "heatmapgl"
           }
          ],
          "histogram": [
           {
            "marker": {
             "pattern": {
              "fillmode": "overlay",
              "size": 10,
              "solidity": 0.2
             }
            },
            "type": "histogram"
           }
          ],
          "histogram2d": [
           {
            "colorbar": {
             "outlinewidth": 0,
             "ticks": ""
            },
            "colorscale": [
             [
              0,
              "#0d0887"
             ],
             [
              0.1111111111111111,
              "#46039f"
             ],
             [
              0.2222222222222222,
              "#7201a8"
             ],
             [
              0.3333333333333333,
              "#9c179e"
             ],
             [
              0.4444444444444444,
              "#bd3786"
             ],
             [
              0.5555555555555556,
              "#d8576b"
             ],
             [
              0.6666666666666666,
              "#ed7953"
             ],
             [
              0.7777777777777778,
              "#fb9f3a"
             ],
             [
              0.8888888888888888,
              "#fdca26"
             ],
             [
              1,
              "#f0f921"
             ]
            ],
            "type": "histogram2d"
           }
          ],
          "histogram2dcontour": [
           {
            "colorbar": {
             "outlinewidth": 0,
             "ticks": ""
            },
            "colorscale": [
             [
              0,
              "#0d0887"
             ],
             [
              0.1111111111111111,
              "#46039f"
             ],
             [
              0.2222222222222222,
              "#7201a8"
             ],
             [
              0.3333333333333333,
              "#9c179e"
             ],
             [
              0.4444444444444444,
              "#bd3786"
             ],
             [
              0.5555555555555556,
              "#d8576b"
             ],
             [
              0.6666666666666666,
              "#ed7953"
             ],
             [
              0.7777777777777778,
              "#fb9f3a"
             ],
             [
              0.8888888888888888,
              "#fdca26"
             ],
             [
              1,
              "#f0f921"
             ]
            ],
            "type": "histogram2dcontour"
           }
          ],
          "mesh3d": [
           {
            "colorbar": {
             "outlinewidth": 0,
             "ticks": ""
            },
            "type": "mesh3d"
           }
          ],
          "parcoords": [
           {
            "line": {
             "colorbar": {
              "outlinewidth": 0,
              "ticks": ""
             }
            },
            "type": "parcoords"
           }
          ],
          "pie": [
           {
            "automargin": true,
            "type": "pie"
           }
          ],
          "scatter": [
           {
            "fillpattern": {
             "fillmode": "overlay",
             "size": 10,
             "solidity": 0.2
            },
            "type": "scatter"
           }
          ],
          "scatter3d": [
           {
            "line": {
             "colorbar": {
              "outlinewidth": 0,
              "ticks": ""
             }
            },
            "marker": {
             "colorbar": {
              "outlinewidth": 0,
              "ticks": ""
             }
            },
            "type": "scatter3d"
           }
          ],
          "scattercarpet": [
           {
            "marker": {
             "colorbar": {
              "outlinewidth": 0,
              "ticks": ""
             }
            },
            "type": "scattercarpet"
           }
          ],
          "scattergeo": [
           {
            "marker": {
             "colorbar": {
              "outlinewidth": 0,
              "ticks": ""
             }
            },
            "type": "scattergeo"
           }
          ],
          "scattergl": [
           {
            "marker": {
             "colorbar": {
              "outlinewidth": 0,
              "ticks": ""
             }
            },
            "type": "scattergl"
           }
          ],
          "scattermapbox": [
           {
            "marker": {
             "colorbar": {
              "outlinewidth": 0,
              "ticks": ""
             }
            },
            "type": "scattermapbox"
           }
          ],
          "scatterpolar": [
           {
            "marker": {
             "colorbar": {
              "outlinewidth": 0,
              "ticks": ""
             }
            },
            "type": "scatterpolar"
           }
          ],
          "scatterpolargl": [
           {
            "marker": {
             "colorbar": {
              "outlinewidth": 0,
              "ticks": ""
             }
            },
            "type": "scatterpolargl"
           }
          ],
          "scatterternary": [
           {
            "marker": {
             "colorbar": {
              "outlinewidth": 0,
              "ticks": ""
             }
            },
            "type": "scatterternary"
           }
          ],
          "surface": [
           {
            "colorbar": {
             "outlinewidth": 0,
             "ticks": ""
            },
            "colorscale": [
             [
              0,
              "#0d0887"
             ],
             [
              0.1111111111111111,
              "#46039f"
             ],
             [
              0.2222222222222222,
              "#7201a8"
             ],
             [
              0.3333333333333333,
              "#9c179e"
             ],
             [
              0.4444444444444444,
              "#bd3786"
             ],
             [
              0.5555555555555556,
              "#d8576b"
             ],
             [
              0.6666666666666666,
              "#ed7953"
             ],
             [
              0.7777777777777778,
              "#fb9f3a"
             ],
             [
              0.8888888888888888,
              "#fdca26"
             ],
             [
              1,
              "#f0f921"
             ]
            ],
            "type": "surface"
           }
          ],
          "table": [
           {
            "cells": {
             "fill": {
              "color": "#EBF0F8"
             },
             "line": {
              "color": "white"
             }
            },
            "header": {
             "fill": {
              "color": "#C8D4E3"
             },
             "line": {
              "color": "white"
             }
            },
            "type": "table"
           }
          ]
         },
         "layout": {
          "annotationdefaults": {
           "arrowcolor": "#2a3f5f",
           "arrowhead": 0,
           "arrowwidth": 1
          },
          "autotypenumbers": "strict",
          "coloraxis": {
           "colorbar": {
            "outlinewidth": 0,
            "ticks": ""
           }
          },
          "colorscale": {
           "diverging": [
            [
             0,
             "#8e0152"
            ],
            [
             0.1,
             "#c51b7d"
            ],
            [
             0.2,
             "#de77ae"
            ],
            [
             0.3,
             "#f1b6da"
            ],
            [
             0.4,
             "#fde0ef"
            ],
            [
             0.5,
             "#f7f7f7"
            ],
            [
             0.6,
             "#e6f5d0"
            ],
            [
             0.7,
             "#b8e186"
            ],
            [
             0.8,
             "#7fbc41"
            ],
            [
             0.9,
             "#4d9221"
            ],
            [
             1,
             "#276419"
            ]
           ],
           "sequential": [
            [
             0,
             "#0d0887"
            ],
            [
             0.1111111111111111,
             "#46039f"
            ],
            [
             0.2222222222222222,
             "#7201a8"
            ],
            [
             0.3333333333333333,
             "#9c179e"
            ],
            [
             0.4444444444444444,
             "#bd3786"
            ],
            [
             0.5555555555555556,
             "#d8576b"
            ],
            [
             0.6666666666666666,
             "#ed7953"
            ],
            [
             0.7777777777777778,
             "#fb9f3a"
            ],
            [
             0.8888888888888888,
             "#fdca26"
            ],
            [
             1,
             "#f0f921"
            ]
           ],
           "sequentialminus": [
            [
             0,
             "#0d0887"
            ],
            [
             0.1111111111111111,
             "#46039f"
            ],
            [
             0.2222222222222222,
             "#7201a8"
            ],
            [
             0.3333333333333333,
             "#9c179e"
            ],
            [
             0.4444444444444444,
             "#bd3786"
            ],
            [
             0.5555555555555556,
             "#d8576b"
            ],
            [
             0.6666666666666666,
             "#ed7953"
            ],
            [
             0.7777777777777778,
             "#fb9f3a"
            ],
            [
             0.8888888888888888,
             "#fdca26"
            ],
            [
             1,
             "#f0f921"
            ]
           ]
          },
          "colorway": [
           "#636efa",
           "#EF553B",
           "#00cc96",
           "#ab63fa",
           "#FFA15A",
           "#19d3f3",
           "#FF6692",
           "#B6E880",
           "#FF97FF",
           "#FECB52"
          ],
          "font": {
           "color": "#2a3f5f"
          },
          "geo": {
           "bgcolor": "white",
           "lakecolor": "white",
           "landcolor": "#E5ECF6",
           "showlakes": true,
           "showland": true,
           "subunitcolor": "white"
          },
          "hoverlabel": {
           "align": "left"
          },
          "hovermode": "closest",
          "mapbox": {
           "style": "light"
          },
          "paper_bgcolor": "white",
          "plot_bgcolor": "#E5ECF6",
          "polar": {
           "angularaxis": {
            "gridcolor": "white",
            "linecolor": "white",
            "ticks": ""
           },
           "bgcolor": "#E5ECF6",
           "radialaxis": {
            "gridcolor": "white",
            "linecolor": "white",
            "ticks": ""
           }
          },
          "scene": {
           "xaxis": {
            "backgroundcolor": "#E5ECF6",
            "gridcolor": "white",
            "gridwidth": 2,
            "linecolor": "white",
            "showbackground": true,
            "ticks": "",
            "zerolinecolor": "white"
           },
           "yaxis": {
            "backgroundcolor": "#E5ECF6",
            "gridcolor": "white",
            "gridwidth": 2,
            "linecolor": "white",
            "showbackground": true,
            "ticks": "",
            "zerolinecolor": "white"
           },
           "zaxis": {
            "backgroundcolor": "#E5ECF6",
            "gridcolor": "white",
            "gridwidth": 2,
            "linecolor": "white",
            "showbackground": true,
            "ticks": "",
            "zerolinecolor": "white"
           }
          },
          "shapedefaults": {
           "line": {
            "color": "#2a3f5f"
           }
          },
          "ternary": {
           "aaxis": {
            "gridcolor": "white",
            "linecolor": "white",
            "ticks": ""
           },
           "baxis": {
            "gridcolor": "white",
            "linecolor": "white",
            "ticks": ""
           },
           "bgcolor": "#E5ECF6",
           "caxis": {
            "gridcolor": "white",
            "linecolor": "white",
            "ticks": ""
           }
          },
          "title": {
           "x": 0.05
          },
          "xaxis": {
           "automargin": true,
           "gridcolor": "white",
           "linecolor": "white",
           "ticks": "",
           "title": {
            "standoff": 15
           },
           "zerolinecolor": "white",
           "zerolinewidth": 2
          },
          "yaxis": {
           "automargin": true,
           "gridcolor": "white",
           "linecolor": "white",
           "ticks": "",
           "title": {
            "standoff": 15
           },
           "zerolinecolor": "white",
           "zerolinewidth": 2
          }
         }
        },
        "title": {
         "x": 0.5
        },
        "width": 1400,
        "xaxis": {
         "anchor": "y",
         "domain": [
          0,
          1
         ]
        },
        "yaxis": {
         "anchor": "x",
         "domain": [
          0,
          1
         ],
         "range": [
          0,
          104
         ],
         "ticktext": [
          "orenth01",
          "orenth02",
          "orenth03",
          "orenth04",
          "orenth05",
          "orenth06",
          "orenth07",
          "orenth08",
          "orenth09",
          "orenth10",
          "orenth11",
          "orenth12",
          "orenth13",
          "orenth14",
          "orenth15",
          "orenth16",
          "orenth17",
          "orenth18",
          "orenth19",
          "orenth20",
          "orenth21",
          "orenth22",
          "orenth23",
          "orenth24",
          "orenth25",
          "orenth26",
          "orenth27",
          "orenth28",
          "orenth29",
          "orenth31",
          "orenth32",
          "orenth33",
          "orenth34",
          "orenth35",
          "orenth36",
          "orenth37",
          "orenth38",
          "orenth39",
          "orenth40",
          "orenth41",
          "orenth42",
          "orenth43",
          "orenth44",
          "orenth45",
          "orenth46",
          "orenth48",
          "orenth49",
          "orenth50",
          "usk01",
          "usk02",
          "usk03",
          "usk04",
          "usk05",
          "usk06",
          "usk07",
          "usk08",
          "usk09",
          "usk10",
          "usk11",
          "usk13",
          "usk14",
          "usk15",
          "usk16",
          "usk17",
          "usk18",
          "usk19",
          "usk20",
          "usk21",
          "usk22",
          "usk23",
          "usk24",
          "usk25",
          "usk26",
          "usk27",
          "usk28",
          "usk29",
          "usk30",
          "usk31",
          "usk32",
          "usk33",
          "usk34",
          "usk35",
          "usk36",
          "usk37",
          "usk38",
          "usk39",
          "usk40",
          "usk41",
          "usk42",
          "usk43",
          "usk44",
          "usk45",
          "usk46",
          "usk47",
          "usk48",
          "usk49",
          "usk50",
          "usk51",
          "usk52",
          "usk53",
          "usk54",
          "usk55",
          "usk56"
         ],
         "tickvals": [
          1,
          2,
          3,
          4,
          5,
          6,
          7,
          8,
          9,
          10,
          11,
          12,
          13,
          14,
          15,
          16,
          17,
          18,
          19,
          20,
          21,
          22,
          23,
          24,
          25,
          26,
          27,
          28,
          29,
          30,
          31,
          32,
          33,
          34,
          35,
          36,
          37,
          38,
          39,
          40,
          41,
          42,
          43,
          44,
          45,
          46,
          47,
          48,
          49,
          50,
          51,
          52,
          53,
          54,
          55,
          56,
          57,
          58,
          59,
          60,
          61,
          62,
          63,
          64,
          65,
          66,
          67,
          68,
          69,
          70,
          71,
          72,
          73,
          74,
          75,
          76,
          77,
          78,
          79,
          80,
          81,
          82,
          83,
          84,
          85,
          86,
          87,
          88,
          89,
          90,
          91,
          92,
          93,
          94,
          95,
          96,
          97,
          98,
          99,
          100,
          101,
          102,
          103
         ],
         "title": {
          "text": "Participant ID"
         }
        }
       }
      }
     },
     "metadata": {},
     "output_type": "display_data"
    }
   ],
   "source": [
    "# Get the default Plotly color palette\n",
    "color_palette= pc.DEFAULT_PLOTLY_COLORS\n",
    "\n",
    "\n",
    "fig = make_subplots(rows=1, cols=1)\n",
    "\n",
    "# Add traces for original data\n",
    "y_ticks = []\n",
    "y_labels = []\n",
    "i = 1\n",
    "for id_participant, df_group in df.groupby('id_participant'):\n",
    "    df_group['y'] = i\n",
    "    fig.add_trace(\n",
    "        go.Scatter(x=df_group['timestamp'], y=df_group['y'], mode='markers', name=id_participant, \n",
    "                   marker_symbol='circle-open', marker_size=6, marker_color=color_palette[i%len(color_palette)]),\n",
    "        row=1, col=1\n",
    "    )\n",
    "    y_ticks.append(i)\n",
    "    y_labels.append(id_participant)\n",
    "    i = i+1\n",
    "\n",
    "# Add traces for processed data\n",
    "i = 1\n",
    "for id_participant, df_group in df_new.groupby('id_participant'):\n",
    "    df_group['y'] = i\n",
    "    fig.add_trace(\n",
    "        go.Scatter(x=df_group['timestamp'], y=df_group['y'], mode='markers', name=id_participant, \n",
    "                   marker_symbol='circle', marker_size=5, marker_color=color_palette[i%len(color_palette)]),\n",
    "        row=1, col=1   \n",
    "    )\n",
    "    i = i+1\n",
    "\n",
    "# Add manual legend\n",
    "fig.update_layout(\n",
    "    annotations=[\n",
    "        dict(\n",
    "            text='Legend:<br>\t&#9898; Original data<br>&#9899; Processed data',  # Text to display\n",
    "            x=df['timestamp'].min(),    # X-coordinate\n",
    "            y=80,                       # Y-coordinate\n",
    "            showarrow=False,            # Do not show arrow\n",
    "            font=dict(\n",
    "                size=12,\n",
    "                color='black'\n",
    "            ),\n",
    "            bgcolor='white',            # Background color of the text box\n",
    "            bordercolor='black',        # Border color of the text box\n",
    "            borderwidth=1,\n",
    "            xanchor='left', \n",
    "            align='left'\n",
    "        )\n",
    "    ]\n",
    ")\n",
    "\n",
    "# Format figure\n",
    "fig.update_yaxes(\n",
    "    range=[0, len(y_ticks)+1],  # Range of ticks\n",
    "    tickvals=y_ticks,           # Positions of ticks\n",
    "    ticktext=y_labels,          # Labels for the ticks\n",
    "    title_text='Participant ID'\n",
    ")\n",
    "\n",
    "# Update layout for better readability\n",
    "fig.update_layout(\n",
    "    height=1400, width=1400,\n",
    "    title_x=0.5,\n",
    "    showlegend=False\n",
    ")\n",
    "\n",
    "\n",
    "# Show the plot\n",
    "fig.show()\n",
    "\n",
    "fig.write_html('number_of_weekly_survey_responses_timeline.html')\n",
    "fig.write_image('number_of_weekly_survey_responses_timeline.png')"
   ]
  },
  {
   "cell_type": "markdown",
   "metadata": {},
   "source": [
    "# Save data"
   ]
  },
  {
   "cell_type": "code",
   "execution_count": 27,
   "metadata": {},
   "outputs": [],
   "source": [
    "df_new.to_csv('../2_processing/7_weekly_survey_with_personality_no_nan_one_response_per_week.csv', index=False)"
   ]
  }
 ],
 "metadata": {
  "kernelspec": {
   "display_name": ".venv",
   "language": "python",
   "name": "python3"
  },
  "language_info": {
   "codemirror_mode": {
    "name": "ipython",
    "version": 3
   },
   "file_extension": ".py",
   "mimetype": "text/x-python",
   "name": "python",
   "nbconvert_exporter": "python",
   "pygments_lexer": "ipython3",
   "version": "3.11.9"
  }
 },
 "nbformat": 4,
 "nbformat_minor": 2
}
