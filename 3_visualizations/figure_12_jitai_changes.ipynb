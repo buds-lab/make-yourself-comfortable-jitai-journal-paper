{
 "cells": [
  {
   "cell_type": "markdown",
   "id": "f8af3026",
   "metadata": {},
   "source": [
    "# Notebook to generate subplots of Figure 12\n",
    "Caption: Total number of JITAIs sent to each participant for all participants in Phase 1 and Phase 2."
   ]
  },
  {
   "cell_type": "code",
   "execution_count": 1,
   "id": "68c24549-3a35-4790-94c4-1f05e82fba8b",
   "metadata": {},
   "outputs": [],
   "source": [
    "import pandas as pd\n",
    "import datetime as dt\n",
    "import numpy as np\n",
    "import seaborn as sns\n",
    "import matplotlib.pyplot as plt\n",
    "from matplotlib import rc"
   ]
  },
  {
   "cell_type": "code",
   "execution_count": 2,
   "id": "314858a1-25d5-4e07-a78a-c72e1ae9b839",
   "metadata": {},
   "outputs": [],
   "source": [
    "# Set the font to be used for text rendering\n",
    "# rc('font', family='serif')\n",
    "# rc('text', usetex=True)"
   ]
  },
  {
   "cell_type": "code",
   "execution_count": 3,
   "id": "38af2e15",
   "metadata": {},
   "outputs": [],
   "source": [
    "#df = pd.read_csv('data.csv')"
   ]
  },
  {
   "cell_type": "code",
   "execution_count": 4,
   "id": "8de8f5a1-d363-45a5-9db6-68700a6599b8",
   "metadata": {},
   "outputs": [],
   "source": [
    "#df = pd.read_parquet(\"../../1_data/1_usk_jitai_data_raw_2023-08-04_120400.parquet.gzip\")\n",
    "#df[\"id_message\"].unique()"
   ]
  },
  {
   "cell_type": "markdown",
   "id": "1f9189be-aaa3-4b3f-b1cd-97ad373a5fc1",
   "metadata": {},
   "source": [
    "# Read data"
   ]
  },
  {
   "cell_type": "code",
   "execution_count": 5,
   "id": "811c3ed5-b943-49a1-93f9-80d05161b55a",
   "metadata": {},
   "outputs": [],
   "source": [
    "# Original data\n",
    "#df_phase1 = pd.read_parquet(\"../../1_data/1_orenth_jitai_data_raw_2023-08-04_120400.parquet.gzip\")\n",
    "#df_phase2 = pd.read_parquet(\"../../1_data/1_usk_jitai_data_raw_2023-08-04_120400.parquet.gzip\")\n",
    "\n",
    "#df_phase1[\"timestamp_lambda\"] = pd.to_datetime(df_phase1[\"timestamp_lambda\"])\n",
    "#df_phase2[\"timestamp_lambda\"] = pd.to_datetime(df_phase2[\"timestamp_lambda\"])\n",
    "\n",
    "\n",
    "\n",
    "# Public data\n",
    "df_phase1 = pd.read_csv(\"../1_data/3_jitai_data_participants_phase1_orenth.csv\")\n",
    "df_phase2 = pd.read_csv(\"../1_data/4_jitai_data_participants_phase2_usk.csv\")"
   ]
  },
  {
   "cell_type": "code",
   "execution_count": 6,
   "id": "c52b5c22-80dc-4cd7-82b5-da196813358f",
   "metadata": {},
   "outputs": [
    {
     "data": {
      "text/plain": [
       "array(['jitai_temperature', 'jitai_noise'], dtype=object)"
      ]
     },
     "execution_count": 6,
     "metadata": {},
     "output_type": "execute_result"
    }
   ],
   "source": [
    "df_phase1[\"id_message\"].unique()"
   ]
  },
  {
   "cell_type": "code",
   "execution_count": 7,
   "id": "b4a35e15-2539-440c-93bc-9b8176c3f6c0",
   "metadata": {},
   "outputs": [
    {
     "data": {
      "text/plain": [
       "array(['jitai_temperature', 'jitai_temperature_adaptive',\n",
       "       'jitai_noise_adaptive'], dtype=object)"
      ]
     },
     "execution_count": 7,
     "metadata": {},
     "output_type": "execute_result"
    }
   ],
   "source": [
    "df_phase2[\"id_message\"].unique()"
   ]
  },
  {
   "cell_type": "markdown",
   "id": "c5bfdc2d-66f9-4d50-a5bc-1b7765d035cc",
   "metadata": {},
   "source": [
    "# Filter data\n",
    "\n",
    "Only use JITAI messages that were actually sent"
   ]
  },
  {
   "cell_type": "markdown",
   "id": "42d001f4-0a6a-4a7b-9571-96a895185975",
   "metadata": {},
   "source": [
    "## Temperature"
   ]
  },
  {
   "cell_type": "code",
   "execution_count": 8,
   "id": "efbfb284-e829-4467-ae27-efc23d7ee299",
   "metadata": {},
   "outputs": [
    {
     "data": {
      "text/html": [
       "<div>\n",
       "<style scoped>\n",
       "    .dataframe tbody tr th:only-of-type {\n",
       "        vertical-align: middle;\n",
       "    }\n",
       "\n",
       "    .dataframe tbody tr th {\n",
       "        vertical-align: top;\n",
       "    }\n",
       "\n",
       "    .dataframe thead th {\n",
       "        text-align: right;\n",
       "    }\n",
       "</style>\n",
       "<table border=\"1\" class=\"dataframe\">\n",
       "  <thead>\n",
       "    <tr style=\"text-align: right;\">\n",
       "      <th></th>\n",
       "      <th>index</th>\n",
       "      <th>action</th>\n",
       "      <th>id_message</th>\n",
       "      <th>id_participant</th>\n",
       "      <th>recipients</th>\n",
       "    </tr>\n",
       "  </thead>\n",
       "  <tbody>\n",
       "    <tr>\n",
       "      <th>0</th>\n",
       "      <td>2022-10-20 12:12:51.584105+08:00</td>\n",
       "      <td>send notification</td>\n",
       "      <td>jitai_temperature</td>\n",
       "      <td>orenth02</td>\n",
       "      <td>1</td>\n",
       "    </tr>\n",
       "    <tr>\n",
       "      <th>1</th>\n",
       "      <td>2022-10-20 12:12:52.365312+08:00</td>\n",
       "      <td>send notification</td>\n",
       "      <td>jitai_temperature</td>\n",
       "      <td>orenth03</td>\n",
       "      <td>1</td>\n",
       "    </tr>\n",
       "    <tr>\n",
       "      <th>2</th>\n",
       "      <td>2022-10-20 14:42:52.719691+08:00</td>\n",
       "      <td>send notification</td>\n",
       "      <td>jitai_temperature</td>\n",
       "      <td>orenth01</td>\n",
       "      <td>1</td>\n",
       "    </tr>\n",
       "    <tr>\n",
       "      <th>3</th>\n",
       "      <td>2022-10-20 15:27:54.200827+08:00</td>\n",
       "      <td>send notification</td>\n",
       "      <td>jitai_temperature</td>\n",
       "      <td>orenth02</td>\n",
       "      <td>1</td>\n",
       "    </tr>\n",
       "    <tr>\n",
       "      <th>4</th>\n",
       "      <td>2022-10-20 15:27:55.079841+08:00</td>\n",
       "      <td>send notification</td>\n",
       "      <td>jitai_temperature</td>\n",
       "      <td>orenth03</td>\n",
       "      <td>1</td>\n",
       "    </tr>\n",
       "  </tbody>\n",
       "</table>\n",
       "</div>"
      ],
      "text/plain": [
       "                              index             action         id_message  \\\n",
       "0  2022-10-20 12:12:51.584105+08:00  send notification  jitai_temperature   \n",
       "1  2022-10-20 12:12:52.365312+08:00  send notification  jitai_temperature   \n",
       "2  2022-10-20 14:42:52.719691+08:00  send notification  jitai_temperature   \n",
       "3  2022-10-20 15:27:54.200827+08:00  send notification  jitai_temperature   \n",
       "4  2022-10-20 15:27:55.079841+08:00  send notification  jitai_temperature   \n",
       "\n",
       "  id_participant  recipients  \n",
       "0       orenth02           1  \n",
       "1       orenth03           1  \n",
       "2       orenth01           1  \n",
       "3       orenth02           1  \n",
       "4       orenth03           1  "
      ]
     },
     "execution_count": 8,
     "metadata": {},
     "output_type": "execute_result"
    }
   ],
   "source": [
    "# threshold JITAI\n",
    "# df_phase1_temperature_threshold = df_phase1[(df_phase1[\"id_message\"] == \"jitai_temperature\") & (df_phase1[\"response_code\"] == 200)]\n",
    "df_phase1_temperature_threshold = df_phase1[(df_phase1[\"id_message\"] == \"jitai_temperature\") & (df_phase1[\"recipients\"] == 1)]\n",
    "df_phase1_temperature_threshold.head()"
   ]
  },
  {
   "cell_type": "code",
   "execution_count": 9,
   "id": "170af372-f78b-4a68-be18-003442cff48e",
   "metadata": {},
   "outputs": [
    {
     "data": {
      "text/html": [
       "<div>\n",
       "<style scoped>\n",
       "    .dataframe tbody tr th:only-of-type {\n",
       "        vertical-align: middle;\n",
       "    }\n",
       "\n",
       "    .dataframe tbody tr th {\n",
       "        vertical-align: top;\n",
       "    }\n",
       "\n",
       "    .dataframe thead th {\n",
       "        text-align: right;\n",
       "    }\n",
       "</style>\n",
       "<table border=\"1\" class=\"dataframe\">\n",
       "  <thead>\n",
       "    <tr style=\"text-align: right;\">\n",
       "      <th></th>\n",
       "      <th>index</th>\n",
       "      <th>action</th>\n",
       "      <th>id_message</th>\n",
       "      <th>id_participant</th>\n",
       "      <th>recipients</th>\n",
       "    </tr>\n",
       "  </thead>\n",
       "  <tbody>\n",
       "    <tr>\n",
       "      <th>0</th>\n",
       "      <td>2023-03-28 10:28:13.539184+08:00</td>\n",
       "      <td>send notification</td>\n",
       "      <td>jitai_temperature</td>\n",
       "      <td>usk03</td>\n",
       "      <td>1</td>\n",
       "    </tr>\n",
       "    <tr>\n",
       "      <th>1</th>\n",
       "      <td>2023-03-28 10:28:14.101926+08:00</td>\n",
       "      <td>send notification</td>\n",
       "      <td>jitai_temperature</td>\n",
       "      <td>usk04</td>\n",
       "      <td>1</td>\n",
       "    </tr>\n",
       "    <tr>\n",
       "      <th>2</th>\n",
       "      <td>2023-03-28 10:48:13.806091+08:00</td>\n",
       "      <td>send notification</td>\n",
       "      <td>jitai_temperature</td>\n",
       "      <td>usk05</td>\n",
       "      <td>1</td>\n",
       "    </tr>\n",
       "    <tr>\n",
       "      <th>3</th>\n",
       "      <td>2023-03-28 10:53:13.541044+08:00</td>\n",
       "      <td>send notification</td>\n",
       "      <td>jitai_temperature</td>\n",
       "      <td>usk01</td>\n",
       "      <td>1</td>\n",
       "    </tr>\n",
       "    <tr>\n",
       "      <th>4</th>\n",
       "      <td>2023-03-28 11:03:13.480438+08:00</td>\n",
       "      <td>send notification</td>\n",
       "      <td>jitai_temperature</td>\n",
       "      <td>usk02</td>\n",
       "      <td>1</td>\n",
       "    </tr>\n",
       "  </tbody>\n",
       "</table>\n",
       "</div>"
      ],
      "text/plain": [
       "                              index             action         id_message  \\\n",
       "0  2023-03-28 10:28:13.539184+08:00  send notification  jitai_temperature   \n",
       "1  2023-03-28 10:28:14.101926+08:00  send notification  jitai_temperature   \n",
       "2  2023-03-28 10:48:13.806091+08:00  send notification  jitai_temperature   \n",
       "3  2023-03-28 10:53:13.541044+08:00  send notification  jitai_temperature   \n",
       "4  2023-03-28 11:03:13.480438+08:00  send notification  jitai_temperature   \n",
       "\n",
       "  id_participant  recipients  \n",
       "0          usk03           1  \n",
       "1          usk04           1  \n",
       "2          usk05           1  \n",
       "3          usk01           1  \n",
       "4          usk02           1  "
      ]
     },
     "execution_count": 9,
     "metadata": {},
     "output_type": "execute_result"
    }
   ],
   "source": [
    "# threshold JITAI\n",
    "# df_phase2_temperature_threshold = df_phase2[(df_phase2[\"id_message\"] == \"jitai_temperature\") & (df_phase2[\"response_code\"] == 200)]\n",
    "df_phase2_temperature_threshold = df_phase2[(df_phase2[\"id_message\"] == \"jitai_temperature\") & (df_phase2[\"recipients\"] == 1)]\n",
    "df_phase2_temperature_threshold.head()"
   ]
  },
  {
   "cell_type": "code",
   "execution_count": 10,
   "id": "8b10a655-0d01-4275-9216-cadce2d81e32",
   "metadata": {},
   "outputs": [
    {
     "data": {
      "text/html": [
       "<div>\n",
       "<style scoped>\n",
       "    .dataframe tbody tr th:only-of-type {\n",
       "        vertical-align: middle;\n",
       "    }\n",
       "\n",
       "    .dataframe tbody tr th {\n",
       "        vertical-align: top;\n",
       "    }\n",
       "\n",
       "    .dataframe thead th {\n",
       "        text-align: right;\n",
       "    }\n",
       "</style>\n",
       "<table border=\"1\" class=\"dataframe\">\n",
       "  <thead>\n",
       "    <tr style=\"text-align: right;\">\n",
       "      <th></th>\n",
       "      <th>index</th>\n",
       "      <th>action</th>\n",
       "      <th>id_message</th>\n",
       "      <th>id_participant</th>\n",
       "      <th>recipients</th>\n",
       "    </tr>\n",
       "  </thead>\n",
       "  <tbody>\n",
       "  </tbody>\n",
       "</table>\n",
       "</div>"
      ],
      "text/plain": [
       "Empty DataFrame\n",
       "Columns: [index, action, id_message, id_participant, recipients]\n",
       "Index: []"
      ]
     },
     "execution_count": 10,
     "metadata": {},
     "output_type": "execute_result"
    }
   ],
   "source": [
    "# personalised JITAI\n",
    "# df_phase1_temperature_personalised = df_phase1[(df_phase1[\"id_message\"] == \"jitai_temperature_adaptive\") & (df_phase1[\"response_code\"] == 200)]\n",
    "df_phase1_temperature_personalised = df_phase1[(df_phase1[\"id_message\"] == \"jitai_temperature_adaptive\") & (df_phase1[\"recipients\"] == 1)]\n",
    "df_phase1_temperature_personalised.head()"
   ]
  },
  {
   "cell_type": "code",
   "execution_count": 11,
   "id": "0ddaede8-26bb-49e1-8443-c93917303305",
   "metadata": {},
   "outputs": [
    {
     "data": {
      "text/html": [
       "<div>\n",
       "<style scoped>\n",
       "    .dataframe tbody tr th:only-of-type {\n",
       "        vertical-align: middle;\n",
       "    }\n",
       "\n",
       "    .dataframe tbody tr th {\n",
       "        vertical-align: top;\n",
       "    }\n",
       "\n",
       "    .dataframe thead th {\n",
       "        text-align: right;\n",
       "    }\n",
       "</style>\n",
       "<table border=\"1\" class=\"dataframe\">\n",
       "  <thead>\n",
       "    <tr style=\"text-align: right;\">\n",
       "      <th></th>\n",
       "      <th>index</th>\n",
       "      <th>action</th>\n",
       "      <th>id_message</th>\n",
       "      <th>id_participant</th>\n",
       "      <th>recipients</th>\n",
       "    </tr>\n",
       "  </thead>\n",
       "  <tbody>\n",
       "    <tr>\n",
       "      <th>119</th>\n",
       "      <td>2023-04-05 11:03:17.272313+08:00</td>\n",
       "      <td>send notification</td>\n",
       "      <td>jitai_temperature_adaptive</td>\n",
       "      <td>usk02</td>\n",
       "      <td>1</td>\n",
       "    </tr>\n",
       "    <tr>\n",
       "      <th>120</th>\n",
       "      <td>2023-04-05 14:03:18.770294+08:00</td>\n",
       "      <td>send notification</td>\n",
       "      <td>jitai_temperature_adaptive</td>\n",
       "      <td>usk02</td>\n",
       "      <td>1</td>\n",
       "    </tr>\n",
       "    <tr>\n",
       "      <th>121</th>\n",
       "      <td>2023-04-05 16:03:18.905526+08:00</td>\n",
       "      <td>send notification</td>\n",
       "      <td>jitai_temperature_adaptive</td>\n",
       "      <td>usk02</td>\n",
       "      <td>1</td>\n",
       "    </tr>\n",
       "    <tr>\n",
       "      <th>122</th>\n",
       "      <td>2023-04-06 09:03:17.764803+08:00</td>\n",
       "      <td>send notification</td>\n",
       "      <td>jitai_temperature_adaptive</td>\n",
       "      <td>usk02</td>\n",
       "      <td>1</td>\n",
       "    </tr>\n",
       "    <tr>\n",
       "      <th>123</th>\n",
       "      <td>2023-04-06 09:03:18.689614+08:00</td>\n",
       "      <td>send notification</td>\n",
       "      <td>jitai_temperature_adaptive</td>\n",
       "      <td>usk04</td>\n",
       "      <td>1</td>\n",
       "    </tr>\n",
       "  </tbody>\n",
       "</table>\n",
       "</div>"
      ],
      "text/plain": [
       "                                index             action  \\\n",
       "119  2023-04-05 11:03:17.272313+08:00  send notification   \n",
       "120  2023-04-05 14:03:18.770294+08:00  send notification   \n",
       "121  2023-04-05 16:03:18.905526+08:00  send notification   \n",
       "122  2023-04-06 09:03:17.764803+08:00  send notification   \n",
       "123  2023-04-06 09:03:18.689614+08:00  send notification   \n",
       "\n",
       "                     id_message id_participant  recipients  \n",
       "119  jitai_temperature_adaptive          usk02           1  \n",
       "120  jitai_temperature_adaptive          usk02           1  \n",
       "121  jitai_temperature_adaptive          usk02           1  \n",
       "122  jitai_temperature_adaptive          usk02           1  \n",
       "123  jitai_temperature_adaptive          usk04           1  "
      ]
     },
     "execution_count": 11,
     "metadata": {},
     "output_type": "execute_result"
    }
   ],
   "source": [
    "# personalised JITAI\n",
    "# df_phase2_temperature_personalised = df_phase2[(df_phase2[\"id_message\"] == \"jitai_temperature_adaptive\") & (df_phase2[\"response_code\"] == 200)]\n",
    "df_phase2_temperature_personalised = df_phase2[(df_phase2[\"id_message\"] == \"jitai_temperature_adaptive\") & (df_phase2[\"recipients\"] == 1)]\n",
    "df_phase2_temperature_personalised.head()"
   ]
  },
  {
   "cell_type": "code",
   "execution_count": 12,
   "id": "ffbd3e28-159c-4818-8632-7106b36d2c6f",
   "metadata": {},
   "outputs": [],
   "source": [
    "# sanity check\n",
    "#sum(df_phase2_temperature_personalised.groupby(df_phase2_temperature_personalised['timestamp_lambda'].dt.floor('d'))['id_message'].count())\n"
   ]
  },
  {
   "cell_type": "markdown",
   "id": "22e221a9-43f5-49a0-9833-6f411a90721d",
   "metadata": {},
   "source": [
    "# JITAIs for every participant\n"
   ]
  },
  {
   "cell_type": "markdown",
   "id": "1fb15b80-31b9-44aa-9197-00bda40d435d",
   "metadata": {},
   "source": [
    "## Phase 1 (Orenth)"
   ]
  },
  {
   "cell_type": "code",
   "execution_count": 13,
   "id": "6eb11750-e289-4208-b0be-ecde6d57199f",
   "metadata": {},
   "outputs": [
    {
     "name": "stdout",
     "output_type": "stream",
     "text": [
      "                Threshold\n",
      "id_participant           \n",
      "orenth23               32\n",
      "orenth12               25\n",
      "orenth13               24\n",
      "orenth17               24\n",
      "orenth31               24\n",
      "orenth14               23\n",
      "orenth24               23\n",
      "orenth09               22\n",
      "orenth18               22\n",
      "orenth08               21\n",
      "orenth10               20\n",
      "orenth15               20\n",
      "orenth21               20\n",
      "orenth48               19\n",
      "orenth16               19\n",
      "orenth19               19\n",
      "orenth20               18\n",
      "orenth27               18\n",
      "orenth42               17\n",
      "orenth06               17\n",
      "orenth50               14\n",
      "orenth05               13\n",
      "orenth28               13\n",
      "orenth07               13\n",
      "orenth11               13\n",
      "orenth34               13\n",
      "orenth29               12\n",
      "orenth22               12\n",
      "orenth25               12\n",
      "orenth03               11\n",
      "orenth49               11\n",
      "orenth01               11\n",
      "orenth33               11\n",
      "orenth26               11\n",
      "orenth45               11\n",
      "orenth32               10\n",
      "orenth02                9\n",
      "orenth41                9\n",
      "orenth40                9\n",
      "orenth35                9\n",
      "orenth04                8\n",
      "orenth46                8\n",
      "orenth39                7\n",
      "orenth43                4\n",
      "orenth36                3\n",
      "orenth38                3\n",
      "orenth37                2\n",
      "orenth44                1\n"
     ]
    }
   ],
   "source": [
    "df_delta_phase1 = pd.DataFrame(columns=[\"id_participant\", \"Threshold\"])\n",
    "\n",
    "for participant in df_phase1_temperature_threshold[\"id_participant\"].unique():\n",
    "    df_participant_threshold = df_phase1_temperature_threshold[df_phase1_temperature_threshold[\"id_participant\"] == participant]\n",
    "    df_delta_phase1.loc[len(df_delta_phase1)] = [participant, len(df_participant_threshold)]\n",
    "\n",
    "df_delta_phase1 = df_delta_phase1.loc[(df_delta_phase1['Threshold']).sort_values(ascending=False).index]\n",
    "\n",
    "df_delta_phase1.set_index('id_participant', inplace=True)\n",
    "\n",
    "print(df_delta_phase1)"
   ]
  },
  {
   "cell_type": "code",
   "execution_count": 14,
   "id": "2bfe2fd1-74c4-465e-8435-0fd9df07b430",
   "metadata": {},
   "outputs": [
    {
     "data": {
      "image/png": "[encoded data removed]",
      "text/plain": [
       "<Figure size 1800x600 with 1 Axes>"
      ]
     },
     "metadata": {},
     "output_type": "display_data"
    }
   ],
   "source": [
    "# Plot a bar plot for each row comparing Threshold and Personalized number of JITAIs\n",
    "ax = df_delta_phase1.plot(kind='bar', rot=0, figsize=(18, 6),  width=0.35)\n",
    "\n",
    "# Show horizontal lines\n",
    "for tick in ax.get_yticks():\n",
    "    plt.axhline(y=tick, color='gray', linestyle='--', linewidth=0.8)\n",
    "\n",
    "# aesthetic edits\n",
    "plt.xlabel('Participants', fontsize=18)\n",
    "plt.ylabel('Num. JITAIs', fontsize=18)\n",
    "\n",
    "plt.xticks(rotation=90, fontsize=16)\n",
    "plt.yticks(fontsize=16)\n",
    "plt.ylim([0,73])\n",
    "plt.legend(fontsize=18)\n",
    "\n",
    "plt.tight_layout()\n",
    "\n",
    "# Save the figure\n",
    "plt.savefig('./img/figure_12_orenth_before_after_jitai.png')\n",
    "\n",
    "# Show the plot\n",
    "plt.show()"
   ]
  },
  {
   "cell_type": "markdown",
   "id": "f3c59417-596d-408f-8957-b9d8a95f3c0d",
   "metadata": {},
   "source": [
    "## Phase 2 (Usk)"
   ]
  },
  {
   "cell_type": "code",
   "execution_count": 15,
   "id": "078cfff0-0eed-4b99-a810-21d4f8717adf",
   "metadata": {},
   "outputs": [
    {
     "name": "stdout",
     "output_type": "stream",
     "text": [
      "                Threshold  Personalized\n",
      "id_participant                         \n",
      "usk33                  36            62\n",
      "usk27                  18            72\n",
      "usk26                  50            38\n",
      "usk10                  47            33\n",
      "usk46                  39            29\n",
      "usk04                  13            45\n",
      "usk15                  10            46\n",
      "usk08                  13            42\n",
      "usk50                  19            34\n",
      "usk09                  21            31\n",
      "usk29                   7            41\n",
      "usk44                  25            22\n",
      "usk02                  12            32\n",
      "usk28                  42             0\n",
      "usk40                  10            28\n",
      "usk41                  36             0\n",
      "usk51                  15            19\n",
      "usk53                  20            12\n",
      "usk07                  31             0\n",
      "usk45                  30             0\n",
      "usk42                  29             0\n",
      "usk43                  27             0\n",
      "usk55                  27             0\n",
      "usk19                  26             0\n",
      "usk47                  25             0\n",
      "usk21                  25             0\n",
      "usk48                  24             0\n",
      "usk54                  24             0\n",
      "usk49                  24             0\n",
      "usk13                   9            14\n",
      "usk12                   9            13\n",
      "usk22                  21             0\n",
      "usk31                  18             0\n",
      "usk32                  18             0\n",
      "usk37                  18             0\n",
      "usk38                  18             0\n",
      "usk11                  17             0\n",
      "usk36                  16             0\n",
      "usk03                  16             0\n",
      "usk56                  16             0\n",
      "usk01                  16             0\n",
      "usk34                  15             0\n",
      "usk05                  13             0\n",
      "usk52                  13             0\n",
      "usk30                  12             0\n",
      "usk23                  12             0\n",
      "usk20                  12             0\n",
      "usk35                   7             5\n",
      "usk06                  11             0\n",
      "usk17                  11             0\n",
      "usk16                  10             0\n",
      "usk25                   9             0\n",
      "usk18                   8             0\n",
      "usk14                   7             0\n",
      "usk39                   7             0\n",
      "usk24                   6             0\n",
      "618\n"
     ]
    }
   ],
   "source": [
    "df_delta = pd.DataFrame(columns=[\"id_participant\", \"Threshold\", \"Personalized\"])\n",
    "\n",
    "for participant in df_phase2_temperature_threshold[\"id_participant\"].unique():\n",
    "    df_participant_threshold = df_phase2_temperature_threshold[df_phase2_temperature_threshold[\"id_participant\"] == participant]\n",
    "    df_participant_personalised = df_phase2_temperature_personalised[df_phase2_temperature_personalised[\"id_participant\"] == participant]\n",
    "    df_delta.loc[len(df_delta)] = [participant, len(df_participant_threshold), len(df_participant_personalised)]\n",
    "\n",
    "# sort the dataframe\n",
    "#df_delta['id_participant'] = df_delta['id_participant'].str.replace(\"usk\", \"ID\")\n",
    "\n",
    "df_delta = df_delta.loc[(df_delta['Threshold'] + df_delta['Personalized']).sort_values(ascending=False).index]\n",
    "\n",
    "df_delta.set_index('id_participant', inplace=True)\n",
    "\n",
    "print(df_delta)\n",
    "\n",
    "print(sum(df_delta[\"Personalized\"])) # sanity check"
   ]
  },
  {
   "cell_type": "markdown",
   "id": "5922c7e8-b6d3-446f-a9b1-90b22acc5e75",
   "metadata": {},
   "source": [
    "# Plots"
   ]
  },
  {
   "cell_type": "markdown",
   "id": "e0ca9ff8-59fd-4d40-a442-8a6ba143f05b",
   "metadata": {},
   "source": [
    "## Old vs New JITAI messages for Phase 2 (Usk)"
   ]
  },
  {
   "cell_type": "code",
   "execution_count": 16,
   "id": "d4950667-5f61-4d6b-a72c-95e9fa19bb6a",
   "metadata": {},
   "outputs": [
    {
     "data": {
      "image/png": "[encoded data removed]",
      "text/plain": [
       "<Figure size 1800x600 with 1 Axes>"
      ]
     },
     "metadata": {},
     "output_type": "display_data"
    }
   ],
   "source": [
    "# Plot a bar plot for each row comparing Threshold and Personalized number of JITAIs\n",
    "ax = df_delta.plot(kind='bar', rot=0, figsize=(18, 6),  width=0.75)\n",
    "\n",
    "# Show horizontal lines\n",
    "for tick in ax.get_yticks():\n",
    "    plt.axhline(y=tick, color='gray', linestyle='--', linewidth=0.8)\n",
    "\n",
    "# aesthetic edits\n",
    "plt.xlabel('Participants', fontsize=18)\n",
    "plt.ylabel('Num. JITAIs', fontsize=18)\n",
    "\n",
    "plt.xticks(rotation=90, fontsize=16)\n",
    "plt.yticks(fontsize=16)\n",
    "plt.ylim([0,73])\n",
    "plt.legend(fontsize=18)\n",
    "\n",
    "plt.tight_layout()\n",
    "\n",
    "# Save the figure\n",
    "plt.savefig('./img/figure_12_usk_before_after_jitai.png')\n",
    "\n",
    "# Show the plot\n",
    "plt.show()"
   ]
  }
 ],
 "metadata": {
  "kernelspec": {
   "display_name": ".venv",
   "language": "python",
   "name": "python3"
  },
  "language_info": {
   "codemirror_mode": {
    "name": "ipython",
    "version": 3
   },
   "file_extension": ".py",
   "mimetype": "text/x-python",
   "name": "python",
   "nbconvert_exporter": "python",
   "pygments_lexer": "ipython3",
   "version": "3.11.9"
  }
 },
 "nbformat": 4,
 "nbformat_minor": 5
}
