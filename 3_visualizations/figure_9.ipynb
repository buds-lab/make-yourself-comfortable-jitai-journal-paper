{
 "cells": [
  {
   "cell_type": "markdown",
   "metadata": {},
   "source": [
    "# Create Figure 9"
   ]
  },
  {
   "cell_type": "markdown",
   "metadata": {},
   "source": [
    "# Imports"
   ]
  },
  {
   "cell_type": "code",
   "execution_count": 1,
   "metadata": {},
   "outputs": [],
   "source": [
    "import pandas as pd\n",
    "import numpy as np\n",
    "from plotly.subplots import make_subplots\n",
    "import plotly.graph_objects as go"
   ]
  },
  {
   "cell_type": "markdown",
   "metadata": {},
   "source": [
    "# Config"
   ]
  },
  {
   "cell_type": "code",
   "execution_count": 2,
   "metadata": {},
   "outputs": [],
   "source": [
    "csv_file_path = '../2_processing/7_weekly_survey_with_personality_no_nan_one_response_per_week.csv'"
   ]
  },
  {
   "cell_type": "markdown",
   "metadata": {},
   "source": [
    "# Read data"
   ]
  },
  {
   "cell_type": "code",
   "execution_count": 3,
   "metadata": {},
   "outputs": [],
   "source": [
    "# Load the CSV file into a DataFrame\n",
    "df_weekly = pd.read_csv(csv_file_path)"
   ]
  },
  {
   "cell_type": "markdown",
   "metadata": {},
   "source": [
    "# Create Figure 9"
   ]
  },
  {
   "cell_type": "code",
   "execution_count": 4,
   "metadata": {},
   "outputs": [
    {
     "data": {
      "application/vnd.plotly.v1+json": {
       "config": {
        "plotlyServerURL": "https://plot.ly"
       },
       "data": [
        {
         "quartilemethod": "inclusive",
         "showlegend": false,
         "type": "box",
         "width": 0.4,
         "x": [
          "No response",
          "No response",
          "No response",
          "No response",
          "No response",
          "No response",
          "No response",
          "No response",
          "No response",
          "No response",
          "No response",
          "No response",
          "No response",
          "No response",
          "No response",
          "No response",
          "No response",
          "No response",
          "No response",
          "No response",
          "No response",
          "No response",
          "No response",
          "No response",
          "No response",
          "No response",
          "No response",
          "No response",
          "No response",
          "No response",
          "No response",
          "No response",
          "No response",
          "No response",
          "No response",
          "Agree",
          "Agree",
          "No response",
          "No response",
          "No response",
          "No response",
          "No response",
          "No response",
          "Agree",
          "No response",
          "No response",
          "No response",
          "Disagree",
          "Disagree",
          "No response",
          "No response",
          "No response",
          "Strongly agree",
          "Strongly agree",
          "No response",
          "No response",
          "Agree",
          "No response",
          "No response",
          "Neutral",
          "Agree",
          "No response",
          "No response",
          "Agree",
          "Agree",
          "No response",
          "No response",
          "Agree",
          "No response",
          "No response",
          "Agree",
          "No response",
          null,
          "Neutral",
          "No response",
          "No response",
          "No response",
          "No response",
          "No response",
          "Disagree",
          "No response",
          "Agree",
          "Agree",
          "Agree",
          "No response",
          "Agree",
          "Agree",
          "Agree",
          "Agree",
          "Agree",
          "No response",
          "Agree",
          "Agree",
          "Agree",
          "Agree",
          "Agree",
          "Agree",
          "Strongly agree",
          "Strongly agree",
          "Agree",
          "Agree",
          "Agree",
          "Strongly agree",
          "Agree",
          "Agree",
          "Agree",
          "Neutral",
          "Neutral",
          "Agree",
          null,
          null,
          null,
          "Agree",
          "Agree",
          null,
          "Neutral",
          "Agree",
          "Agree",
          "Agree",
          null,
          null,
          null,
          "Agree",
          "Strongly agree",
          "Neutral",
          "Agree",
          "Agree",
          "Agree",
          "Agree",
          "Strongly agree",
          "Agree",
          null,
          null,
          "Neutral",
          null,
          null,
          null,
          null,
          null,
          "Agree",
          null,
          "Agree",
          "Agree",
          "Strongly agree",
          "Strongly agree",
          "Agree",
          "Neutral",
          "Agree",
          "Neutral",
          "Neutral",
          "Neutral",
          "Neutral",
          "Neutral",
          "Agree",
          "Agree",
          "Agree",
          "Strongly agree",
          "Strongly agree",
          "Strongly agree",
          "Agree",
          null,
          null,
          "Agree",
          null,
          null,
          "Neutral",
          null,
          "Neutral",
          "Neutral",
          "Neutral",
          null,
          null,
          null,
          null,
          "Agree",
          null,
          "Neutral",
          "Neutral",
          "Neutral",
          "Neutral",
          "Neutral",
          "Agree",
          "Disagree",
          "Disagree",
          "Agree",
          "Agree",
          "Disagree",
          "Disagree",
          "Disagree",
          "Disagree",
          "Agree",
          "Agree",
          "Agree",
          "Agree",
          "Strongly agree",
          "Strongly agree",
          "Agree",
          "Neutral",
          "Disagree",
          "Neutral",
          "Disagree",
          "Agree",
          "Neutral",
          "Disagree",
          "Disagree",
          "Strongly disagree",
          "Disagree",
          "Disagree",
          "Disagree",
          "Agree",
          "Disagree",
          "Agree",
          "Neutral",
          "Neutral",
          "Neutral",
          "Neutral",
          "Neutral",
          "Neutral",
          "Disagree",
          "Strongly disagree",
          "Disagree",
          "Disagree",
          "Neutral",
          "Neutral",
          "Agree",
          "Agree",
          "Neutral",
          "Neutral",
          "Neutral",
          "Agree",
          "Agree",
          "Agree",
          "Agree",
          "Agree",
          "Agree",
          "Agree",
          "Agree",
          "Neutral",
          "Disagree",
          "Agree",
          "Agree",
          "Agree",
          "Agree",
          null,
          null,
          null,
          "Neutral",
          "Agree",
          "Agree",
          "Agree",
          "Agree",
          "Agree",
          "Agree",
          "Neutral",
          "Agree",
          "Neutral",
          "Disagree",
          "Disagree",
          "Agree",
          "Strongly agree",
          "Strongly agree",
          "Strongly agree",
          "Strongly agree",
          "Agree",
          null,
          "Agree",
          "Agree",
          "Disagree",
          "Strongly disagree",
          "Neutral",
          "Neutral",
          "Disagree",
          "Agree",
          "Neutral",
          "Agree",
          "Agree",
          "Agree",
          "Disagree",
          "Disagree",
          "Neutral",
          "Agree",
          "Agree",
          "Agree",
          "Neutral",
          "Neutral",
          "Agree",
          "Agree",
          "Agree",
          "Agree",
          null,
          "Neutral",
          "Neutral",
          "Agree",
          "Neutral",
          "Neutral",
          "Neutral",
          "Neutral",
          "Neutral",
          "Neutral",
          "Neutral",
          "Disagree",
          "Neutral",
          "Agree",
          "Agree",
          "Agree",
          "Agree",
          "Neutral",
          "Agree",
          null,
          "Disagree",
          "Neutral",
          "Neutral",
          "Disagree",
          "Disagree",
          "Agree",
          "Strongly agree",
          "Strongly agree",
          "Agree",
          "Disagree",
          "Disagree",
          "Disagree",
          "Disagree",
          "Strongly disagree",
          "Neutral",
          "Neutral",
          "Neutral",
          "Disagree",
          "Agree",
          "Agree",
          "Agree",
          "Agree",
          "Strongly agree",
          "Neutral",
          "Agree",
          "Agree",
          "Agree",
          "Disagree",
          "Disagree",
          "Strongly disagree",
          "Disagree",
          "Agree",
          "Agree",
          "Strongly agree",
          "Strongly agree",
          "Agree",
          "Agree",
          "Agree",
          "Agree",
          "Agree",
          "Agree",
          "Agree",
          "Neutral",
          "Agree",
          "Agree",
          "Agree",
          "Neutral",
          "Agree",
          "Agree",
          "Agree",
          "Agree",
          "Strongly disagree",
          "Disagree",
          "Agree",
          "Agree",
          "Neutral",
          "Neutral",
          "Agree",
          "Disagree",
          "Neutral",
          "Neutral",
          "Strongly disagree",
          "Disagree",
          "Strongly disagree",
          "Disagree",
          "Neutral",
          "Disagree",
          "Disagree",
          "Neutral",
          "Agree",
          "Neutral"
         ],
         "xaxis": "x",
         "y": [
          3,
          3,
          3,
          5,
          5,
          5,
          5,
          3,
          3,
          3,
          4,
          4,
          4,
          4,
          4,
          4,
          4,
          4,
          4,
          4,
          3.5,
          3.5,
          3.5,
          6,
          6,
          6,
          6,
          5,
          5,
          5,
          7,
          7,
          5.5,
          5.5,
          5,
          5,
          5,
          3,
          3,
          3,
          6,
          6,
          6,
          6,
          3.5,
          3.5,
          3.5,
          3.5,
          3.5,
          3.5,
          3.5,
          3.5,
          3.5,
          3.5,
          5,
          5,
          5,
          4,
          4,
          4,
          4,
          6,
          6,
          6,
          6,
          6,
          6,
          6,
          6.5,
          6.5,
          6.5,
          5,
          5,
          5,
          6,
          6,
          4,
          4,
          4,
          4,
          5.5,
          5.5,
          5.5,
          5.5,
          7,
          7,
          7,
          7,
          7,
          7,
          6,
          6,
          6,
          6,
          6,
          6,
          6,
          6,
          6,
          6,
          6,
          6,
          6,
          6,
          5,
          5,
          5,
          5,
          5,
          7,
          7,
          7,
          7,
          7,
          6,
          6,
          6,
          6,
          6,
          4.5,
          4.5,
          4.5,
          4.5,
          4.5,
          5,
          5,
          5,
          5,
          5,
          6,
          6,
          4,
          4,
          4,
          6,
          6,
          6,
          6,
          6,
          6,
          5,
          5,
          5,
          5.5,
          5.5,
          5.5,
          4.5,
          4.5,
          4.5,
          4.5,
          4.5,
          4.5,
          4.5,
          3,
          3,
          6,
          6,
          6,
          6,
          6,
          4,
          4,
          4,
          4,
          4,
          5,
          5,
          5,
          5,
          5,
          2.5,
          2.5,
          2.5,
          5.5,
          5.5,
          5.5,
          5.5,
          5.5,
          5.5,
          4.5,
          4.5,
          4.5,
          3,
          3,
          3,
          3,
          4.5,
          4.5,
          4.5,
          4.5,
          3.5,
          3.5,
          3.5,
          3.5,
          5,
          5,
          5,
          6,
          6,
          6,
          6,
          6,
          6,
          4.5,
          4.5,
          4.5,
          4.5,
          4.5,
          4.5,
          5.5,
          5.5,
          5.5,
          5.5,
          5.5,
          5.5,
          3,
          3,
          3,
          3,
          3,
          3,
          3,
          5,
          5,
          5,
          5,
          5.5,
          5.5,
          5.5,
          5.5,
          5.5,
          6.5,
          6.5,
          6.5,
          6.5,
          6.5,
          6.5,
          4.5,
          4.5,
          6,
          6,
          6,
          3,
          3,
          3,
          3,
          5.5,
          5.5,
          5.5,
          5.5,
          5.5,
          5.5,
          5.5,
          4.5,
          4.5,
          4.5,
          6.5,
          6.5,
          6.5,
          6.5,
          6.5,
          6.5,
          6,
          6,
          6,
          5,
          5,
          5,
          5,
          5.5,
          5.5,
          5.5,
          5.5,
          5.5,
          5,
          5,
          5,
          3.5,
          3.5,
          3.5,
          3.5,
          3.5,
          3.5,
          5,
          5,
          5,
          6,
          6,
          6,
          6,
          3.5,
          3.5,
          3.5,
          3.5,
          3.5,
          3.5,
          3.5,
          6,
          6,
          6,
          5,
          5,
          6,
          6,
          6,
          6,
          7,
          7,
          5.5,
          5.5,
          5.5,
          5,
          5,
          4.5,
          4.5,
          4.5,
          4.5,
          4.5,
          5.5,
          5.5,
          5.5,
          5.5,
          5.5,
          6.5,
          6.5,
          6.5,
          6.5,
          6,
          6,
          6,
          6,
          6,
          3.5,
          3.5,
          3.5,
          3.5,
          5.5,
          5.5,
          5.5,
          5.5,
          6,
          6,
          6,
          6,
          6,
          4.5,
          4.5,
          4.5,
          4.5,
          4.5,
          4.5,
          4.5,
          4.5,
          4.5,
          5.5,
          5.5,
          5.5,
          6,
          6,
          6,
          4.5,
          4.5,
          5,
          5,
          5,
          7,
          7,
          6.5,
          6.5,
          6.5,
          6,
          6,
          6,
          6,
          6.5,
          6.5,
          6.5,
          4.5,
          4.5,
          4.5
         ],
         "yaxis": "y"
        },
        {
         "fillcolor": "#A3ADF8",
         "line": {
          "color": "#636EFA"
         },
         "quartilemethod": "inclusive",
         "showlegend": false,
         "type": "box",
         "width": 0.4,
         "x": [
          "No response",
          "No response",
          "No response",
          "No response",
          "No response",
          "No response",
          "No response",
          "No response",
          "No response",
          "No response",
          "No response",
          "No response",
          "No response",
          "No response",
          "No response",
          "No response",
          "No response",
          "No response",
          "No response",
          "No response",
          "No response",
          "No response",
          "No response",
          "No response",
          "No response",
          "No response",
          "No response",
          "No response",
          "No response",
          "No response",
          "No response",
          "No response",
          "No response",
          "No response",
          "No response",
          "Often",
          "Often",
          "No response",
          "No response",
          "No response",
          "No response",
          "No response",
          "No response",
          "Often",
          "No response",
          "No response",
          "No response",
          "Never",
          "Never",
          "No response",
          "No response",
          "No response",
          "Seldom",
          "Sometimes",
          "No response",
          "No response",
          "Never",
          "No response",
          "No response",
          "Seldom",
          "Never",
          "No response",
          "No response",
          "Never",
          "Seldom",
          "No response",
          "No response",
          "Never",
          "No response",
          "No response",
          null,
          "No response",
          null,
          "Never",
          "No response",
          "No response",
          "No response",
          "No response",
          "No response",
          "Never",
          "No response",
          null,
          "Often",
          "Often",
          "No response",
          "Often",
          "Often",
          "Often",
          "Often",
          "Often",
          "No response",
          "Sometimes",
          "Sometimes",
          "Sometimes",
          "Sometimes",
          "Sometimes",
          "Sometimes",
          "Often",
          "Sometimes",
          "Often",
          "Sometimes",
          "Often",
          "Sometimes",
          "Sometimes",
          "Seldom",
          "Sometimes",
          "Sometimes",
          "Sometimes",
          "Sometimes",
          null,
          null,
          null,
          "Never",
          "Sometimes",
          null,
          "Sometimes",
          "Sometimes",
          "Sometimes",
          "Sometimes",
          null,
          null,
          null,
          "Always",
          "Always",
          "Often",
          "Never",
          "Never",
          "Never",
          "Seldom",
          "Often",
          "Often",
          null,
          null,
          "Never",
          null,
          null,
          null,
          null,
          null,
          "Sometimes",
          null,
          "Never",
          "Never",
          "Sometimes",
          "Sometimes",
          "Sometimes",
          "Seldom",
          "Seldom",
          "Seldom",
          "Sometimes",
          "Sometimes",
          "Sometimes",
          "Sometimes",
          "Never",
          "Never",
          "Often",
          "Often",
          "Often",
          "Sometimes",
          "Often",
          null,
          null,
          "Sometimes",
          null,
          null,
          null,
          null,
          "Never",
          "Never",
          "Never",
          null,
          null,
          null,
          null,
          "Sometimes",
          null,
          null,
          "Never",
          "Sometimes",
          "Never",
          "Never",
          "Never",
          "Sometimes",
          "Never",
          "Seldom",
          "Sometimes",
          "Never",
          "Never",
          "Never",
          "Never",
          "Never",
          "Never",
          "Never",
          "Never",
          "Often",
          "Often",
          "Often",
          "Sometimes",
          "Never",
          "Never",
          "Sometimes",
          "Sometimes",
          "Sometimes",
          "Seldom",
          "Never",
          "Never",
          "Never",
          "Never",
          "Never",
          "Seldom",
          "Seldom",
          "Seldom",
          "Often",
          "Seldom",
          "Sometimes",
          "Never",
          "Seldom",
          "Seldom",
          "Never",
          "Never",
          "Never",
          "Seldom",
          null,
          "Seldom",
          "Seldom",
          "Seldom",
          "Never",
          "Never",
          "Never",
          "Seldom",
          "Sometimes",
          "Never",
          "Sometimes",
          "Always",
          "Sometimes",
          "Sometimes",
          "Always",
          "Seldom",
          "Seldom",
          "Never",
          "Sometimes",
          "Sometimes",
          null,
          null,
          null,
          null,
          "Never",
          "Seldom",
          "Never",
          "Never",
          "Never",
          "Never",
          "Sometimes",
          "Never",
          "Never",
          "Seldom",
          "Never",
          "Never",
          "Never",
          "Often",
          "Often",
          "Often",
          "Often",
          "Often",
          null,
          "Sometimes",
          "Often",
          "Never",
          "Never",
          "Never",
          "Never",
          "Seldom",
          "Seldom",
          "Never",
          "Often",
          "Often",
          "Often",
          "Seldom",
          "Seldom",
          "Sometimes",
          "Sometimes",
          "Often",
          "Sometimes",
          "Sometimes",
          "Sometimes",
          "Seldom",
          "Never",
          "Never",
          "Never",
          null,
          "Seldom",
          "Seldom",
          "Seldom",
          "Seldom",
          "Seldom",
          "Seldom",
          "Never",
          null,
          "Never",
          "Never",
          "Never",
          "Never",
          "Often",
          "Seldom",
          "Seldom",
          "Never",
          "Never",
          "Sometimes",
          null,
          "Never",
          "Sometimes",
          "Never",
          "Never",
          "Sometimes",
          "Often",
          "Always",
          "Always",
          "Always",
          "Never",
          "Never",
          "Seldom",
          "Never",
          "Never",
          "Seldom",
          "Seldom",
          "Seldom",
          "Seldom",
          "Sometimes",
          "Often",
          "Often",
          "Seldom",
          "Seldom",
          "Sometimes",
          "Never",
          "Never",
          "Never",
          "Seldom",
          "Seldom",
          "Never",
          "Never",
          "Never",
          "Often",
          "Always",
          "Often",
          "Sometimes",
          "Sometimes",
          "Sometimes",
          "Sometimes",
          "Often",
          "Often",
          "Often",
          "Sometimes",
          "Seldom",
          "Seldom",
          "Seldom",
          "Never",
          "Never",
          "Sometimes",
          "Sometimes",
          "Sometimes",
          "Never",
          "Never",
          "Sometimes",
          "Sometimes",
          "Seldom",
          "Sometimes",
          "Seldom",
          "Seldom",
          "Never",
          "Seldom",
          "Never",
          "Never",
          "Never",
          "Never",
          "Seldom",
          "Never",
          "Never",
          "Seldom",
          "Sometimes",
          "Seldom"
         ],
         "xaxis": "x2",
         "y": [
          3,
          3,
          3,
          5,
          5,
          5,
          5,
          3,
          3,
          3,
          4,
          4,
          4,
          4,
          4,
          4,
          4,
          4,
          4,
          4,
          3.5,
          3.5,
          3.5,
          6,
          6,
          6,
          6,
          5,
          5,
          5,
          7,
          7,
          5.5,
          5.5,
          5,
          5,
          5,
          3,
          3,
          3,
          6,
          6,
          6,
          6,
          3.5,
          3.5,
          3.5,
          3.5,
          3.5,
          3.5,
          3.5,
          3.5,
          3.5,
          3.5,
          5,
          5,
          5,
          4,
          4,
          4,
          4,
          6,
          6,
          6,
          6,
          6,
          6,
          6,
          6.5,
          6.5,
          6.5,
          5,
          5,
          5,
          6,
          6,
          4,
          4,
          4,
          4,
          5.5,
          5.5,
          5.5,
          5.5,
          7,
          7,
          7,
          7,
          7,
          7,
          6,
          6,
          6,
          6,
          6,
          6,
          6,
          6,
          6,
          6,
          6,
          6,
          6,
          6,
          5,
          5,
          5,
          5,
          5,
          7,
          7,
          7,
          7,
          7,
          6,
          6,
          6,
          6,
          6,
          4.5,
          4.5,
          4.5,
          4.5,
          4.5,
          5,
          5,
          5,
          5,
          5,
          6,
          6,
          4,
          4,
          4,
          6,
          6,
          6,
          6,
          6,
          6,
          5,
          5,
          5,
          5.5,
          5.5,
          5.5,
          4.5,
          4.5,
          4.5,
          4.5,
          4.5,
          4.5,
          4.5,
          3,
          3,
          6,
          6,
          6,
          6,
          6,
          4,
          4,
          4,
          4,
          4,
          5,
          5,
          5,
          5,
          5,
          2.5,
          2.5,
          2.5,
          5.5,
          5.5,
          5.5,
          5.5,
          5.5,
          5.5,
          4.5,
          4.5,
          4.5,
          3,
          3,
          3,
          3,
          4.5,
          4.5,
          4.5,
          4.5,
          3.5,
          3.5,
          3.5,
          3.5,
          5,
          5,
          5,
          6,
          6,
          6,
          6,
          6,
          6,
          4.5,
          4.5,
          4.5,
          4.5,
          4.5,
          4.5,
          5.5,
          5.5,
          5.5,
          5.5,
          5.5,
          5.5,
          3,
          3,
          3,
          3,
          3,
          3,
          3,
          5,
          5,
          5,
          5,
          5.5,
          5.5,
          5.5,
          5.5,
          5.5,
          6.5,
          6.5,
          6.5,
          6.5,
          6.5,
          6.5,
          4.5,
          4.5,
          6,
          6,
          6,
          3,
          3,
          3,
          3,
          5.5,
          5.5,
          5.5,
          5.5,
          5.5,
          5.5,
          5.5,
          4.5,
          4.5,
          4.5,
          6.5,
          6.5,
          6.5,
          6.5,
          6.5,
          6.5,
          6,
          6,
          6,
          5,
          5,
          5,
          5,
          5.5,
          5.5,
          5.5,
          5.5,
          5.5,
          5,
          5,
          5,
          3.5,
          3.5,
          3.5,
          3.5,
          3.5,
          3.5,
          5,
          5,
          5,
          6,
          6,
          6,
          6,
          3.5,
          3.5,
          3.5,
          3.5,
          3.5,
          3.5,
          3.5,
          6,
          6,
          6,
          5,
          5,
          6,
          6,
          6,
          6,
          7,
          7,
          5.5,
          5.5,
          5.5,
          5,
          5,
          4.5,
          4.5,
          4.5,
          4.5,
          4.5,
          5.5,
          5.5,
          5.5,
          5.5,
          5.5,
          6.5,
          6.5,
          6.5,
          6.5,
          6,
          6,
          6,
          6,
          6,
          3.5,
          3.5,
          3.5,
          3.5,
          5.5,
          5.5,
          5.5,
          5.5,
          6,
          6,
          6,
          6,
          6,
          4.5,
          4.5,
          4.5,
          4.5,
          4.5,
          4.5,
          4.5,
          4.5,
          4.5,
          5.5,
          5.5,
          5.5,
          6,
          6,
          6,
          4.5,
          4.5,
          5,
          5,
          5,
          7,
          7,
          6.5,
          6.5,
          6.5,
          6,
          6,
          6,
          6,
          6.5,
          6.5,
          6.5,
          4.5,
          4.5,
          4.5
         ],
         "yaxis": "y2"
        }
       ],
       "layout": {
        "annotations": [
         {
          "font": {
           "size": 14
          },
          "showarrow": false,
          "text": "N=23",
          "x": "Strongly agree",
          "xref": "x",
          "y": 1.1,
          "yref": "y domain"
         },
         {
          "font": {
           "size": 14
          },
          "showarrow": false,
          "text": "N=134",
          "x": "Agree",
          "xref": "x",
          "y": 1.1,
          "yref": "y domain"
         },
         {
          "font": {
           "size": 14
          },
          "showarrow": false,
          "text": "N=72",
          "x": "Neutral",
          "xref": "x",
          "y": 1.1,
          "yref": "y domain"
         },
         {
          "font": {
           "size": 14
          },
          "showarrow": false,
          "text": "N=45",
          "x": "Disagree",
          "xref": "x",
          "y": 1.1,
          "yref": "y domain"
         },
         {
          "font": {
           "size": 14
          },
          "showarrow": false,
          "text": "N=8",
          "x": "Strongly disagree",
          "xref": "x",
          "y": 1.1,
          "yref": "y domain"
         },
         {
          "font": {
           "size": 14
          },
          "showarrow": false,
          "text": "N=66",
          "x": "No response",
          "xref": "x",
          "y": 1.1,
          "yref": "y domain"
         },
         {
          "font": {
           "size": 14
          },
          "showarrow": false,
          "text": "N=8",
          "x": "Always",
          "xref": "x2",
          "y": 1.1,
          "yref": "y2 domain"
         },
         {
          "font": {
           "size": 14
          },
          "showarrow": false,
          "text": "N=43",
          "x": "Often",
          "xref": "x2",
          "y": 1.1,
          "yref": "y2 domain"
         },
         {
          "font": {
           "size": 14
          },
          "showarrow": false,
          "text": "N=69",
          "x": "Sometimes",
          "xref": "x2",
          "y": 1.1,
          "yref": "y2 domain"
         },
         {
          "font": {
           "size": 14
          },
          "showarrow": false,
          "text": "N=57",
          "x": "Seldom",
          "xref": "x2",
          "y": 1.1,
          "yref": "y2 domain"
         },
         {
          "font": {
           "size": 14
          },
          "showarrow": false,
          "text": "N=98",
          "x": "Never",
          "xref": "x2",
          "y": 1.1,
          "yref": "y2 domain"
         },
         {
          "font": {
           "size": 14
          },
          "showarrow": false,
          "text": "N=66",
          "x": "No response",
          "xref": "x2",
          "y": 1.1,
          "yref": "y2 domain"
         }
        ],
        "font": {
         "color": "#000000"
        },
        "shapes": [
         {
          "line": {
           "color": "red",
           "width": 2
          },
          "type": "line",
          "x0": -0.2,
          "x1": 0.2,
          "xref": "x",
          "y0": 6,
          "y1": 6,
          "yref": "y"
         },
         {
          "line": {
           "color": "red",
           "width": 2
          },
          "type": "line",
          "x0": 0.8,
          "x1": 1.2,
          "xref": "x",
          "y0": 5.5,
          "y1": 5.5,
          "yref": "y"
         },
         {
          "line": {
           "color": "red",
           "width": 2
          },
          "type": "line",
          "x0": 1.8,
          "x1": 2.2,
          "xref": "x",
          "y0": 5,
          "y1": 5,
          "yref": "y"
         },
         {
          "line": {
           "color": "red",
           "width": 2
          },
          "type": "line",
          "x0": 2.8,
          "x1": 3.2,
          "xref": "x",
          "y0": 5,
          "y1": 5,
          "yref": "y"
         },
         {
          "line": {
           "color": "red",
           "width": 2
          },
          "type": "line",
          "x0": 3.8,
          "x1": 4.2,
          "xref": "x",
          "y0": 5.25,
          "y1": 5.25,
          "yref": "y"
         },
         {
          "line": {
           "color": "red",
           "width": 2
          },
          "type": "line",
          "x0": 4.8,
          "x1": 5.2,
          "xref": "x",
          "y0": 4.5,
          "y1": 4.5,
          "yref": "y"
         },
         {
          "line": {
           "color": "red",
           "width": 2
          },
          "type": "line",
          "x0": -0.2,
          "x1": 0.2,
          "xref": "x2",
          "y0": 4.5,
          "y1": 4.5,
          "yref": "y2"
         },
         {
          "line": {
           "color": "red",
           "width": 2
          },
          "type": "line",
          "x0": 0.8,
          "x1": 1.2,
          "xref": "x2",
          "y0": 6,
          "y1": 6,
          "yref": "y2"
         },
         {
          "line": {
           "color": "red",
           "width": 2
          },
          "type": "line",
          "x0": 1.8,
          "x1": 2.2,
          "xref": "x2",
          "y0": 5.5,
          "y1": 5.5,
          "yref": "y2"
         },
         {
          "line": {
           "color": "red",
           "width": 2
          },
          "type": "line",
          "x0": 2.8,
          "x1": 3.2,
          "xref": "x2",
          "y0": 5,
          "y1": 5,
          "yref": "y2"
         },
         {
          "line": {
           "color": "red",
           "width": 2
          },
          "type": "line",
          "x0": 3.8,
          "x1": 4.2,
          "xref": "x2",
          "y0": 5,
          "y1": 5,
          "yref": "y2"
         },
         {
          "line": {
           "color": "red",
           "width": 2
          },
          "type": "line",
          "x0": 4.8,
          "x1": 5.2,
          "xref": "x2",
          "y0": 4.5,
          "y1": 4.5,
          "yref": "y2"
         }
        ],
        "template": {
         "data": {
          "bar": [
           {
            "error_x": {
             "color": "#2a3f5f"
            },
            "error_y": {
             "color": "#2a3f5f"
            },
            "marker": {
             "line": {
              "color": "#E5ECF6",
              "width": 0.5
             },
             "pattern": {
              "fillmode": "overlay",
              "size": 10,
              "solidity": 0.2
             }
            },
            "type": "bar"
           }
          ],
          "barpolar": [
           {
            "marker": {
             "line": {
              "color": "#E5ECF6",
              "width": 0.5
             },
             "pattern": {
              "fillmode": "overlay",
              "size": 10,
              "solidity": 0.2
             }
            },
            "type": "barpolar"
           }
          ],
          "carpet": [
           {
            "aaxis": {
             "endlinecolor": "#2a3f5f",
             "gridcolor": "white",
             "linecolor": "white",
             "minorgridcolor": "white",
             "startlinecolor": "#2a3f5f"
            },
            "baxis": {
             "endlinecolor": "#2a3f5f",
             "gridcolor": "white",
             "linecolor": "white",
             "minorgridcolor": "white",
             "startlinecolor": "#2a3f5f"
            },
            "type": "carpet"
           }
          ],
          "choropleth": [
           {
            "colorbar": {
             "outlinewidth": 0,
             "ticks": ""
            },
            "type": "choropleth"
           }
          ],
          "contour": [
           {
            "colorbar": {
             "outlinewidth": 0,
             "ticks": ""
            },
            "colorscale": [
             [
              0,
              "#0d0887"
             ],
             [
              0.1111111111111111,
              "#46039f"
             ],
             [
              0.2222222222222222,
              "#7201a8"
             ],
             [
              0.3333333333333333,
              "#9c179e"
             ],
             [
              0.4444444444444444,
              "#bd3786"
             ],
             [
              0.5555555555555556,
              "#d8576b"
             ],
             [
              0.6666666666666666,
              "#ed7953"
             ],
             [
              0.7777777777777778,
              "#fb9f3a"
             ],
             [
              0.8888888888888888,
              "#fdca26"
             ],
             [
              1,
              "#f0f921"
             ]
            ],
            "type": "contour"
           }
          ],
          "contourcarpet": [
           {
            "colorbar": {
             "outlinewidth": 0,
             "ticks": ""
            },
            "type": "contourcarpet"
           }
          ],
          "heatmap": [
           {
            "colorbar": {
             "outlinewidth": 0,
             "ticks": ""
            },
            "colorscale": [
             [
              0,
              "#0d0887"
             ],
             [
              0.1111111111111111,
              "#46039f"
             ],
             [
              0.2222222222222222,
              "#7201a8"
             ],
             [
              0.3333333333333333,
              "#9c179e"
             ],
             [
              0.4444444444444444,
              "#bd3786"
             ],
             [
              0.5555555555555556,
              "#d8576b"
             ],
             [
              0.6666666666666666,
              "#ed7953"
             ],
             [
              0.7777777777777778,
              "#fb9f3a"
             ],
             [
              0.8888888888888888,
              "#fdca26"
             ],
             [
              1,
              "#f0f921"
             ]
            ],
            "type": "heatmap"
           }
          ],
          "heatmapgl": [
           {
            "colorbar": {
             "outlinewidth": 0,
             "ticks": ""
            },
            "colorscale": [
             [
              0,
              "#0d0887"
             ],
             [
              0.1111111111111111,
              "#46039f"
             ],
             [
              0.2222222222222222,
              "#7201a8"
             ],
             [
              0.3333333333333333,
              "#9c179e"
             ],
             [
              0.4444444444444444,
              "#bd3786"
             ],
             [
              0.5555555555555556,
              "#d8576b"
             ],
             [
              0.6666666666666666,
              "#ed7953"
             ],
             [
              0.7777777777777778,
              "#fb9f3a"
             ],
             [
              0.8888888888888888,
              "#fdca26"
             ],
             [
              1,
              "#f0f921"
             ]
            ],
            "type": "heatmapgl"
           }
          ],
          "histogram": [
           {
            "marker": {
             "pattern": {
              "fillmode": "overlay",
              "size": 10,
              "solidity": 0.2
             }
            },
            "type": "histogram"
           }
          ],
          "histogram2d": [
           {
            "colorbar": {
             "outlinewidth": 0,
             "ticks": ""
            },
            "colorscale": [
             [
              0,
              "#0d0887"
             ],
             [
              0.1111111111111111,
              "#46039f"
             ],
             [
              0.2222222222222222,
              "#7201a8"
             ],
             [
              0.3333333333333333,
              "#9c179e"
             ],
             [
              0.4444444444444444,
              "#bd3786"
             ],
             [
              0.5555555555555556,
              "#d8576b"
             ],
             [
              0.6666666666666666,
              "#ed7953"
             ],
             [
              0.7777777777777778,
              "#fb9f3a"
             ],
             [
              0.8888888888888888,
              "#fdca26"
             ],
             [
              1,
              "#f0f921"
             ]
            ],
            "type": "histogram2d"
           }
          ],
          "histogram2dcontour": [
           {
            "colorbar": {
             "outlinewidth": 0,
             "ticks": ""
            },
            "colorscale": [
             [
              0,
              "#0d0887"
             ],
             [
              0.1111111111111111,
              "#46039f"
             ],
             [
              0.2222222222222222,
              "#7201a8"
             ],
             [
              0.3333333333333333,
              "#9c179e"
             ],
             [
              0.4444444444444444,
              "#bd3786"
             ],
             [
              0.5555555555555556,
              "#d8576b"
             ],
             [
              0.6666666666666666,
              "#ed7953"
             ],
             [
              0.7777777777777778,
              "#fb9f3a"
             ],
             [
              0.8888888888888888,
              "#fdca26"
             ],
             [
              1,
              "#f0f921"
             ]
            ],
            "type": "histogram2dcontour"
           }
          ],
          "mesh3d": [
           {
            "colorbar": {
             "outlinewidth": 0,
             "ticks": ""
            },
            "type": "mesh3d"
           }
          ],
          "parcoords": [
           {
            "line": {
             "colorbar": {
              "outlinewidth": 0,
              "ticks": ""
             }
            },
            "type": "parcoords"
           }
          ],
          "pie": [
           {
            "automargin": true,
            "type": "pie"
           }
          ],
          "scatter": [
           {
            "fillpattern": {
             "fillmode": "overlay",
             "size": 10,
             "solidity": 0.2
            },
            "type": "scatter"
           }
          ],
          "scatter3d": [
           {
            "line": {
             "colorbar": {
              "outlinewidth": 0,
              "ticks": ""
             }
            },
            "marker": {
             "colorbar": {
              "outlinewidth": 0,
              "ticks": ""
             }
            },
            "type": "scatter3d"
           }
          ],
          "scattercarpet": [
           {
            "marker": {
             "colorbar": {
              "outlinewidth": 0,
              "ticks": ""
             }
            },
            "type": "scattercarpet"
           }
          ],
          "scattergeo": [
           {
            "marker": {
             "colorbar": {
              "outlinewidth": 0,
              "ticks": ""
             }
            },
            "type": "scattergeo"
           }
          ],
          "scattergl": [
           {
            "marker": {
             "colorbar": {
              "outlinewidth": 0,
              "ticks": ""
             }
            },
            "type": "scattergl"
           }
          ],
          "scattermapbox": [
           {
            "marker": {
             "colorbar": {
              "outlinewidth": 0,
              "ticks": ""
             }
            },
            "type": "scattermapbox"
           }
          ],
          "scatterpolar": [
           {
            "marker": {
             "colorbar": {
              "outlinewidth": 0,
              "ticks": ""
             }
            },
            "type": "scatterpolar"
           }
          ],
          "scatterpolargl": [
           {
            "marker": {
             "colorbar": {
              "outlinewidth": 0,
              "ticks": ""
             }
            },
            "type": "scatterpolargl"
           }
          ],
          "scatterternary": [
           {
            "marker": {
             "colorbar": {
              "outlinewidth": 0,
              "ticks": ""
             }
            },
            "type": "scatterternary"
           }
          ],
          "surface": [
           {
            "colorbar": {
             "outlinewidth": 0,
             "ticks": ""
            },
            "colorscale": [
             [
              0,
              "#0d0887"
             ],
             [
              0.1111111111111111,
              "#46039f"
             ],
             [
              0.2222222222222222,
              "#7201a8"
             ],
             [
              0.3333333333333333,
              "#9c179e"
             ],
             [
              0.4444444444444444,
              "#bd3786"
             ],
             [
              0.5555555555555556,
              "#d8576b"
             ],
             [
              0.6666666666666666,
              "#ed7953"
             ],
             [
              0.7777777777777778,
              "#fb9f3a"
             ],
             [
              0.8888888888888888,
              "#fdca26"
             ],
             [
              1,
              "#f0f921"
             ]
            ],
            "type": "surface"
           }
          ],
          "table": [
           {
            "cells": {
             "fill": {
              "color": "#EBF0F8"
             },
             "line": {
              "color": "white"
             }
            },
            "header": {
             "fill": {
              "color": "#C8D4E3"
             },
             "line": {
              "color": "white"
             }
            },
            "type": "table"
           }
          ]
         },
         "layout": {
          "annotationdefaults": {
           "arrowcolor": "#2a3f5f",
           "arrowhead": 0,
           "arrowwidth": 1
          },
          "autotypenumbers": "strict",
          "coloraxis": {
           "colorbar": {
            "outlinewidth": 0,
            "ticks": ""
           }
          },
          "colorscale": {
           "diverging": [
            [
             0,
             "#8e0152"
            ],
            [
             0.1,
             "#c51b7d"
            ],
            [
             0.2,
             "#de77ae"
            ],
            [
             0.3,
             "#f1b6da"
            ],
            [
             0.4,
             "#fde0ef"
            ],
            [
             0.5,
             "#f7f7f7"
            ],
            [
             0.6,
             "#e6f5d0"
            ],
            [
             0.7,
             "#b8e186"
            ],
            [
             0.8,
             "#7fbc41"
            ],
            [
             0.9,
             "#4d9221"
            ],
            [
             1,
             "#276419"
            ]
           ],
           "sequential": [
            [
             0,
             "#0d0887"
            ],
            [
             0.1111111111111111,
             "#46039f"
            ],
            [
             0.2222222222222222,
             "#7201a8"
            ],
            [
             0.3333333333333333,
             "#9c179e"
            ],
            [
             0.4444444444444444,
             "#bd3786"
            ],
            [
             0.5555555555555556,
             "#d8576b"
            ],
            [
             0.6666666666666666,
             "#ed7953"
            ],
            [
             0.7777777777777778,
             "#fb9f3a"
            ],
            [
             0.8888888888888888,
             "#fdca26"
            ],
            [
             1,
             "#f0f921"
            ]
           ],
           "sequentialminus": [
            [
             0,
             "#0d0887"
            ],
            [
             0.1111111111111111,
             "#46039f"
            ],
            [
             0.2222222222222222,
             "#7201a8"
            ],
            [
             0.3333333333333333,
             "#9c179e"
            ],
            [
             0.4444444444444444,
             "#bd3786"
            ],
            [
             0.5555555555555556,
             "#d8576b"
            ],
            [
             0.6666666666666666,
             "#ed7953"
            ],
            [
             0.7777777777777778,
             "#fb9f3a"
            ],
            [
             0.8888888888888888,
             "#fdca26"
            ],
            [
             1,
             "#f0f921"
            ]
           ]
          },
          "colorway": [
           "#636efa",
           "#EF553B",
           "#00cc96",
           "#ab63fa",
           "#FFA15A",
           "#19d3f3",
           "#FF6692",
           "#B6E880",
           "#FF97FF",
           "#FECB52"
          ],
          "font": {
           "color": "#2a3f5f"
          },
          "geo": {
           "bgcolor": "white",
           "lakecolor": "white",
           "landcolor": "#E5ECF6",
           "showlakes": true,
           "showland": true,
           "subunitcolor": "white"
          },
          "hoverlabel": {
           "align": "left"
          },
          "hovermode": "closest",
          "mapbox": {
           "style": "light"
          },
          "paper_bgcolor": "white",
          "plot_bgcolor": "#E5ECF6",
          "polar": {
           "angularaxis": {
            "gridcolor": "white",
            "linecolor": "white",
            "ticks": ""
           },
           "bgcolor": "#E5ECF6",
           "radialaxis": {
            "gridcolor": "white",
            "linecolor": "white",
            "ticks": ""
           }
          },
          "scene": {
           "xaxis": {
            "backgroundcolor": "#E5ECF6",
            "gridcolor": "white",
            "gridwidth": 2,
            "linecolor": "white",
            "showbackground": true,
            "ticks": "",
            "zerolinecolor": "white"
           },
           "yaxis": {
            "backgroundcolor": "#E5ECF6",
            "gridcolor": "white",
            "gridwidth": 2,
            "linecolor": "white",
            "showbackground": true,
            "ticks": "",
            "zerolinecolor": "white"
           },
           "zaxis": {
            "backgroundcolor": "#E5ECF6",
            "gridcolor": "white",
            "gridwidth": 2,
            "linecolor": "white",
            "showbackground": true,
            "ticks": "",
            "zerolinecolor": "white"
           }
          },
          "shapedefaults": {
           "line": {
            "color": "#2a3f5f"
           }
          },
          "ternary": {
           "aaxis": {
            "gridcolor": "white",
            "linecolor": "white",
            "ticks": ""
           },
           "baxis": {
            "gridcolor": "white",
            "linecolor": "white",
            "ticks": ""
           },
           "bgcolor": "#E5ECF6",
           "caxis": {
            "gridcolor": "white",
            "linecolor": "white",
            "ticks": ""
           }
          },
          "title": {
           "x": 0.05
          },
          "xaxis": {
           "automargin": true,
           "gridcolor": "white",
           "linecolor": "white",
           "ticks": "",
           "title": {
            "standoff": 15
           },
           "zerolinecolor": "white",
           "zerolinewidth": 2
          },
          "yaxis": {
           "automargin": true,
           "gridcolor": "white",
           "linecolor": "white",
           "ticks": "",
           "title": {
            "standoff": 15
           },
           "zerolinecolor": "white",
           "zerolinewidth": 2
          }
         }
        },
        "width": 1000,
        "xaxis": {
         "anchor": "y",
         "categoryarray": [
          "Strongly agree",
          "Agree",
          "Neutral",
          "Disagree",
          "Strongly disagree",
          "No response"
         ],
         "categoryorder": "array",
         "domain": [
          0,
          0.475
         ],
         "tickangle": 0,
         "ticktext": [
          "Strongly<br>agree",
          "Agree",
          "Neutral",
          "Disagree",
          "Strongly<br>disagree",
          "No<br>response"
         ],
         "tickvals": [
          0,
          1,
          2,
          3,
          4,
          5
         ],
         "title": {
          "text": "Intervention messages helpful?<br> "
         }
        },
        "xaxis2": {
         "anchor": "y2",
         "categoryarray": [
          "Always",
          "Often",
          "Sometimes",
          "Seldom",
          "Never",
          "No response"
         ],
         "categoryorder": "array",
         "domain": [
          0.525,
          1
         ],
         "ticktext": [
          "Always",
          "Often",
          "Sometimes",
          "Seldom",
          "Never",
          "No<br>response"
         ],
         "tickvals": [
          0,
          1,
          2,
          3,
          4,
          5
         ],
         "title": {
          "text": "Changed location etc. to feel <br>thermally comfortable?"
         }
        },
        "yaxis": {
         "anchor": "x",
         "domain": [
          0,
          1
         ],
         "dtick": 1,
         "range": [
          0,
          7.5
         ],
         "title": {
          "text": "Conscientiousness"
         }
        },
        "yaxis2": {
         "anchor": "x2",
         "domain": [
          0,
          1
         ],
         "matches": "y",
         "showticklabels": false
        }
       }
      }
     },
     "metadata": {},
     "output_type": "display_data"
    }
   ],
   "source": [
    "# Define columns of interest\n",
    "helpful_column = 'The noise and/or temperature intervention messages were helpful to me in understanding how to improve my indoor environmental satisfaction.'\n",
    "change_location_column = 'Over the past week, I changed my location, adjusted the thermostat, fan etc. to feel thermally comfortable after receiving the temperature intervention messages.'\n",
    "\n",
    "# Filter 'No intervention messages received'\n",
    "#df_weekly = df_weekly[df_weekly[helpful_column]!='No intervention messages received']\n",
    "#df_weekly = df_weekly[df_weekly[change_location_column]!='No intervention messages received']\n",
    "\n",
    "\n",
    "# Order responses\n",
    "df_weekly[helpful_column] = df_weekly[helpful_column].astype(pd.CategoricalDtype(categories=['Strongly agree', 'Agree', 'Neutral', 'Disagree', 'Strongly disagree', 'No response'], ordered=True))\n",
    "df_weekly[change_location_column] = df_weekly[change_location_column].astype(pd.CategoricalDtype(categories=['Always', 'Often', 'Sometimes', 'Seldom', 'Never', 'No response'], ordered=True))\n",
    "\n",
    "# Create subplots with shared y-axis, add subplot titles, and reduce spacing\n",
    "fig = make_subplots(\n",
    "    rows=1, cols=2, \n",
    "    shared_yaxes=True, \n",
    "    subplot_titles=(\"\", \"\"),\n",
    "    horizontal_spacing=0.05  # Decreased horizontal spacing to bring the plots closer\n",
    ")\n",
    "\n",
    "# First box plot\n",
    "fig.add_trace(\n",
    "    go.Box(\n",
    "        y=df_weekly['Conscientiousness'],\n",
    "        x=df_weekly[helpful_column],\n",
    "        quartilemethod='inclusive', # exclusive, inclusive, linear\n",
    "        #color=\"Helpful Messages\",\n",
    "        #color_discrete_map=custom_colors,\n",
    "        #category_orders={\"Helpful Messages\": [\"Strongly Agree\", \"Agree\", \"Neutral\", \"Disagree\", \"Strongly Disagree\"]},\n",
    "    ),\n",
    "    row=1, col=1\n",
    ")\n",
    "fig['layout']['xaxis1'].update(\n",
    "    title_text='Intervention messages helpful?<br> ',\n",
    "    categoryorder=\"array\", \n",
    "    categoryarray=['Strongly agree', 'Agree', 'Neutral', 'Disagree', 'Strongly disagree', 'No response'],\n",
    "    tickvals=[0, 1, 2, 3, 4, 5],\n",
    "    ticktext=['Strongly<br>agree', 'Agree', 'Neutral', 'Disagree', 'Strongly<br>disagree', 'No<br>response'],\n",
    "    tickangle=0)\n",
    "fig['layout']['yaxis1'].update(\n",
    "    title_text='Conscientiousness',\n",
    "    range=[0, 7.5],\n",
    "    dtick=1)\n",
    "\n",
    "# Annotate number of responses (first plot)\n",
    "for response in df_weekly[helpful_column].cat.categories:\n",
    "    fig.add_annotation(\n",
    "        x=response, y=1.1,\n",
    "        xref='x1', yref='y domain',\n",
    "        showarrow=False,\n",
    "        text='N=' + str(df_weekly[helpful_column].value_counts()[response]),\n",
    "        font=dict(size=14),\n",
    "        row=1, col=1\n",
    "    )\n",
    "\n",
    "# Add highlighted median bar\n",
    "for i, response in enumerate(df_weekly[helpful_column].cat.categories):\n",
    "    y_median = df_weekly[df_weekly[helpful_column]==response]['Conscientiousness'].median()\n",
    "    fig.add_shape(\n",
    "        type='line',\n",
    "        x0=i-0.2,\n",
    "        y0=y_median,\n",
    "        x1=i+ 0.2,\n",
    "        y1=y_median,\n",
    "        line=dict(color='red', width=2),\n",
    "        row=1, col=1\n",
    "    )\n",
    "\n",
    "# Second box plot\n",
    "fig.add_trace(\n",
    "    go.Box(\n",
    "        y=df_weekly['Conscientiousness'],\n",
    "        x=df_weekly[change_location_column],\n",
    "        fillcolor='#A3ADF8',\n",
    "        line=dict(color='#636EFA'),\n",
    "        quartilemethod='inclusive',\n",
    "        #color_discrete_map=custom_colors,\n",
    "        #category_orders={\"Helpful Messages\": [\"Strongly Agree\", \"Agree\", \"Neutral\", \"Disagree\", \"Strongly Disagree\"]},\n",
    "    ), \n",
    "    row=1, col=2\n",
    ")\n",
    "fig['layout']['xaxis2'].update(\n",
    "    title_text='Changed location etc. to feel <br>thermally comfortable?')\n",
    "fig['layout']['xaxis2'].update(\n",
    "    categoryorder=\"array\", \n",
    "    categoryarray=['Always', 'Often', 'Sometimes', 'Seldom', 'Never', 'No response'],\n",
    "    tickvals=[0, 1, 2, 3, 4, 5],\n",
    "    ticktext=['Always', 'Often', 'Sometimes', 'Seldom', 'Never', 'No<br>response'])\n",
    "\n",
    "# Annotate number of responses (second plot)\n",
    "for response in df_weekly[change_location_column].cat.categories:\n",
    "    fig.add_annotation(\n",
    "        x=response, y=1.1,\n",
    "        xref='x2', yref='y domain',\n",
    "        showarrow=False,\n",
    "        text='N=' + str(df_weekly[change_location_column].value_counts()[response]),\n",
    "        font=dict(size=14),\n",
    "        row=1, col=2\n",
    "    )\n",
    "\n",
    "# Add highlighted median bar\n",
    "for i, response in enumerate(df_weekly[change_location_column].cat.categories):\n",
    "    y_median = df_weekly[df_weekly[change_location_column]==response]['Conscientiousness'].median()\n",
    "    fig.add_shape(\n",
    "        type='line',\n",
    "        x0=i-0.2,\n",
    "        y0=y_median,\n",
    "        x1=i+ 0.2,\n",
    "        y1=y_median,\n",
    "        line=dict(color='red', width=2),\n",
    "        row=1, col=2\n",
    "    )\n",
    "\n",
    "fig.update_traces(showlegend=False, width=0.4)  # Make the boxes thicker\n",
    "fig.update_layout(font=dict(color='#000000'), width=1000)\n",
    "fig.show()\n",
    "fig.write_image('./img/Figure_9.png')"
   ]
  },
  {
   "cell_type": "markdown",
   "metadata": {},
   "source": [
    "# Double checks"
   ]
  },
  {
   "cell_type": "markdown",
   "metadata": {},
   "source": [
    "- Fig 9: Remaining issues:\n",
    "  - Intervention messages helpful? - Agree, Q1\n",
    "     - Plotly: 4.75 (inclusive)\n",
    "     - Excel:  4.875\n",
    "     - Pandas: 4.875\n",
    "  - Changed location etc...? - Seldom, Q1\n",
    "     - Plotly: 3.75\n",
    "     - Excel:  3.875\n",
    "     - Pandas: 3.75\n",
    "\n",
    "     "
   ]
  },
  {
   "cell_type": "code",
   "execution_count": 5,
   "metadata": {},
   "outputs": [
    {
     "data": {
      "text/plain": [
       "5.0"
      ]
     },
     "execution_count": 5,
     "metadata": {},
     "output_type": "execute_result"
    }
   ],
   "source": [
    "df_weekly[df_weekly[helpful_column]=='Agree']['Conscientiousness'].quantile(0.25)"
   ]
  },
  {
   "cell_type": "code",
   "execution_count": 6,
   "metadata": {},
   "outputs": [
    {
     "data": {
      "text/plain": [
       "4.5"
      ]
     },
     "execution_count": 6,
     "metadata": {},
     "output_type": "execute_result"
    }
   ],
   "source": [
    "df_weekly[df_weekly[change_location_column]=='Seldom']['Conscientiousness'].quantile(0.25, interpolation='midpoint')"
   ]
  }
 ],
 "metadata": {
  "kernelspec": {
   "display_name": ".venv",
   "language": "python",
   "name": "python3"
  },
  "language_info": {
   "codemirror_mode": {
    "name": "ipython",
    "version": 3
   },
   "file_extension": ".py",
   "mimetype": "text/x-python",
   "name": "python",
   "nbconvert_exporter": "python",
   "pygments_lexer": "ipython3",
   "version": "3.11.9"
  }
 },
 "nbformat": 4,
 "nbformat_minor": 2
}
